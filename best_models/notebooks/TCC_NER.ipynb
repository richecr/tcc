{
  "nbformat": 4,
  "nbformat_minor": 0,
  "metadata": {
    "colab": {
      "name": "TCC_NER.ipynb",
      "provenance": [],
      "collapsed_sections": [
        "Fe1BU0NddvYx",
        "68VC9EwQdyn4",
        "5eFVRs3ceCMx",
        "0Q6aS03nj8Zu",
        "xSmpVPWtBxVN",
        "dHPxDZPCkEY_"
      ]
    },
    "kernelspec": {
      "name": "python3",
      "display_name": "Python 3"
    },
    "language_info": {
      "name": "python"
    },
    "accelerator": "GPU",
    "gpuClass": "standard"
  },
  "cells": [
    {
      "cell_type": "markdown",
      "source": [
        "# TCC: NER\n"
      ],
      "metadata": {
        "id": "Ons5e94CdoVg"
      }
    },
    {
      "cell_type": "markdown",
      "source": [
        "## Train Spacy"
      ],
      "metadata": {
        "id": "SQo2-buQdrOo"
      }
    },
    {
      "cell_type": "markdown",
      "source": [
        "### Imports"
      ],
      "metadata": {
        "id": "Fe1BU0NddvYx"
      }
    },
    {
      "cell_type": "code",
      "execution_count": 1,
      "metadata": {
        "id": "GYtD3LcTY5kL",
        "colab": {
          "base_uri": "https://localhost:8080/"
        },
        "outputId": "7a75d121-3c80-4005-9007-8636f2beb635"
      },
      "outputs": [
        {
          "output_type": "stream",
          "name": "stdout",
          "text": [
            "Looking in indexes: https://pypi.org/simple, https://us-python.pkg.dev/colab-wheels/public/simple/\n",
            "Collecting pt-core-news-sm==3.3.0\n",
            "  Downloading https://github.com/explosion/spacy-models/releases/download/pt_core_news_sm-3.3.0/pt_core_news_sm-3.3.0-py3-none-any.whl (13.0 MB)\n",
            "\u001b[K     |████████████████████████████████| 13.0 MB 4.9 MB/s \n",
            "\u001b[?25hRequirement already satisfied: spacy<3.4.0,>=3.3.0.dev0 in /usr/local/lib/python3.7/dist-packages (from pt-core-news-sm==3.3.0) (3.3.1)\n",
            "Requirement already satisfied: thinc<8.1.0,>=8.0.14 in /usr/local/lib/python3.7/dist-packages (from spacy<3.4.0,>=3.3.0.dev0->pt-core-news-sm==3.3.0) (8.0.17)\n",
            "Requirement already satisfied: jinja2 in /usr/local/lib/python3.7/dist-packages (from spacy<3.4.0,>=3.3.0.dev0->pt-core-news-sm==3.3.0) (2.11.3)\n",
            "Requirement already satisfied: cymem<2.1.0,>=2.0.2 in /usr/local/lib/python3.7/dist-packages (from spacy<3.4.0,>=3.3.0.dev0->pt-core-news-sm==3.3.0) (2.0.6)\n",
            "Requirement already satisfied: blis<0.8.0,>=0.4.0 in /usr/local/lib/python3.7/dist-packages (from spacy<3.4.0,>=3.3.0.dev0->pt-core-news-sm==3.3.0) (0.7.8)\n",
            "Requirement already satisfied: tqdm<5.0.0,>=4.38.0 in /usr/local/lib/python3.7/dist-packages (from spacy<3.4.0,>=3.3.0.dev0->pt-core-news-sm==3.3.0) (4.64.0)\n",
            "Requirement already satisfied: spacy-legacy<3.1.0,>=3.0.9 in /usr/local/lib/python3.7/dist-packages (from spacy<3.4.0,>=3.3.0.dev0->pt-core-news-sm==3.3.0) (3.0.9)\n",
            "Requirement already satisfied: typer<0.5.0,>=0.3.0 in /usr/local/lib/python3.7/dist-packages (from spacy<3.4.0,>=3.3.0.dev0->pt-core-news-sm==3.3.0) (0.4.2)\n",
            "Requirement already satisfied: pydantic!=1.8,!=1.8.1,<1.9.0,>=1.7.4 in /usr/local/lib/python3.7/dist-packages (from spacy<3.4.0,>=3.3.0.dev0->pt-core-news-sm==3.3.0) (1.8.2)\n",
            "Requirement already satisfied: packaging>=20.0 in /usr/local/lib/python3.7/dist-packages (from spacy<3.4.0,>=3.3.0.dev0->pt-core-news-sm==3.3.0) (21.3)\n",
            "Requirement already satisfied: srsly<3.0.0,>=2.4.3 in /usr/local/lib/python3.7/dist-packages (from spacy<3.4.0,>=3.3.0.dev0->pt-core-news-sm==3.3.0) (2.4.3)\n",
            "Requirement already satisfied: typing-extensions<4.2.0,>=3.7.4 in /usr/local/lib/python3.7/dist-packages (from spacy<3.4.0,>=3.3.0.dev0->pt-core-news-sm==3.3.0) (4.1.1)\n",
            "Requirement already satisfied: pathy>=0.3.5 in /usr/local/lib/python3.7/dist-packages (from spacy<3.4.0,>=3.3.0.dev0->pt-core-news-sm==3.3.0) (0.6.2)\n",
            "Requirement already satisfied: catalogue<2.1.0,>=2.0.6 in /usr/local/lib/python3.7/dist-packages (from spacy<3.4.0,>=3.3.0.dev0->pt-core-news-sm==3.3.0) (2.0.7)\n",
            "Requirement already satisfied: setuptools in /usr/local/lib/python3.7/dist-packages (from spacy<3.4.0,>=3.3.0.dev0->pt-core-news-sm==3.3.0) (57.4.0)\n",
            "Requirement already satisfied: numpy>=1.15.0 in /usr/local/lib/python3.7/dist-packages (from spacy<3.4.0,>=3.3.0.dev0->pt-core-news-sm==3.3.0) (1.21.6)\n",
            "Requirement already satisfied: preshed<3.1.0,>=3.0.2 in /usr/local/lib/python3.7/dist-packages (from spacy<3.4.0,>=3.3.0.dev0->pt-core-news-sm==3.3.0) (3.0.6)\n",
            "Requirement already satisfied: langcodes<4.0.0,>=3.2.0 in /usr/local/lib/python3.7/dist-packages (from spacy<3.4.0,>=3.3.0.dev0->pt-core-news-sm==3.3.0) (3.3.0)\n",
            "Requirement already satisfied: murmurhash<1.1.0,>=0.28.0 in /usr/local/lib/python3.7/dist-packages (from spacy<3.4.0,>=3.3.0.dev0->pt-core-news-sm==3.3.0) (1.0.7)\n",
            "Requirement already satisfied: requests<3.0.0,>=2.13.0 in /usr/local/lib/python3.7/dist-packages (from spacy<3.4.0,>=3.3.0.dev0->pt-core-news-sm==3.3.0) (2.23.0)\n",
            "Requirement already satisfied: spacy-loggers<2.0.0,>=1.0.0 in /usr/local/lib/python3.7/dist-packages (from spacy<3.4.0,>=3.3.0.dev0->pt-core-news-sm==3.3.0) (1.0.3)\n",
            "Requirement already satisfied: wasabi<1.1.0,>=0.9.1 in /usr/local/lib/python3.7/dist-packages (from spacy<3.4.0,>=3.3.0.dev0->pt-core-news-sm==3.3.0) (0.9.1)\n",
            "Requirement already satisfied: zipp>=0.5 in /usr/local/lib/python3.7/dist-packages (from catalogue<2.1.0,>=2.0.6->spacy<3.4.0,>=3.3.0.dev0->pt-core-news-sm==3.3.0) (3.8.1)\n",
            "Requirement already satisfied: pyparsing!=3.0.5,>=2.0.2 in /usr/local/lib/python3.7/dist-packages (from packaging>=20.0->spacy<3.4.0,>=3.3.0.dev0->pt-core-news-sm==3.3.0) (3.0.9)\n",
            "Requirement already satisfied: smart-open<6.0.0,>=5.2.1 in /usr/local/lib/python3.7/dist-packages (from pathy>=0.3.5->spacy<3.4.0,>=3.3.0.dev0->pt-core-news-sm==3.3.0) (5.2.1)\n",
            "Requirement already satisfied: urllib3!=1.25.0,!=1.25.1,<1.26,>=1.21.1 in /usr/local/lib/python3.7/dist-packages (from requests<3.0.0,>=2.13.0->spacy<3.4.0,>=3.3.0.dev0->pt-core-news-sm==3.3.0) (1.24.3)\n",
            "Requirement already satisfied: certifi>=2017.4.17 in /usr/local/lib/python3.7/dist-packages (from requests<3.0.0,>=2.13.0->spacy<3.4.0,>=3.3.0.dev0->pt-core-news-sm==3.3.0) (2022.6.15)\n",
            "Requirement already satisfied: idna<3,>=2.5 in /usr/local/lib/python3.7/dist-packages (from requests<3.0.0,>=2.13.0->spacy<3.4.0,>=3.3.0.dev0->pt-core-news-sm==3.3.0) (2.10)\n",
            "Requirement already satisfied: chardet<4,>=3.0.2 in /usr/local/lib/python3.7/dist-packages (from requests<3.0.0,>=2.13.0->spacy<3.4.0,>=3.3.0.dev0->pt-core-news-sm==3.3.0) (3.0.4)\n",
            "Requirement already satisfied: click<9.0.0,>=7.1.1 in /usr/local/lib/python3.7/dist-packages (from typer<0.5.0,>=0.3.0->spacy<3.4.0,>=3.3.0.dev0->pt-core-news-sm==3.3.0) (7.1.2)\n",
            "Requirement already satisfied: MarkupSafe>=0.23 in /usr/local/lib/python3.7/dist-packages (from jinja2->spacy<3.4.0,>=3.3.0.dev0->pt-core-news-sm==3.3.0) (2.0.1)\n",
            "Installing collected packages: pt-core-news-sm\n",
            "Successfully installed pt-core-news-sm-3.3.0\n",
            "\u001b[38;5;2m✔ Download and installation successful\u001b[0m\n",
            "You can now load the package via spacy.load('pt_core_news_sm')\n"
          ]
        }
      ],
      "source": [
        "!python -m spacy download pt_core_news_sm"
      ]
    },
    {
      "cell_type": "code",
      "source": [
        "!python -m spacy download pt_core_news_lg"
      ],
      "metadata": {
        "id": "bHAP9YGNczaa",
        "colab": {
          "base_uri": "https://localhost:8080/"
        },
        "outputId": "133011f8-f0e3-4181-a1d3-a9702b9b74a9"
      },
      "execution_count": 2,
      "outputs": [
        {
          "output_type": "stream",
          "name": "stdout",
          "text": [
            "Looking in indexes: https://pypi.org/simple, https://us-python.pkg.dev/colab-wheels/public/simple/\n",
            "Collecting pt-core-news-lg==3.3.0\n",
            "  Downloading https://github.com/explosion/spacy-models/releases/download/pt_core_news_lg-3.3.0/pt_core_news_lg-3.3.0-py3-none-any.whl (568.2 MB)\n",
            "\u001b[K     |████████████████████████████████| 568.2 MB 10 kB/s \n",
            "\u001b[?25hRequirement already satisfied: spacy<3.4.0,>=3.3.0.dev0 in /usr/local/lib/python3.7/dist-packages (from pt-core-news-lg==3.3.0) (3.3.1)\n",
            "Requirement already satisfied: tqdm<5.0.0,>=4.38.0 in /usr/local/lib/python3.7/dist-packages (from spacy<3.4.0,>=3.3.0.dev0->pt-core-news-lg==3.3.0) (4.64.0)\n",
            "Requirement already satisfied: catalogue<2.1.0,>=2.0.6 in /usr/local/lib/python3.7/dist-packages (from spacy<3.4.0,>=3.3.0.dev0->pt-core-news-lg==3.3.0) (2.0.7)\n",
            "Requirement already satisfied: numpy>=1.15.0 in /usr/local/lib/python3.7/dist-packages (from spacy<3.4.0,>=3.3.0.dev0->pt-core-news-lg==3.3.0) (1.21.6)\n",
            "Requirement already satisfied: cymem<2.1.0,>=2.0.2 in /usr/local/lib/python3.7/dist-packages (from spacy<3.4.0,>=3.3.0.dev0->pt-core-news-lg==3.3.0) (2.0.6)\n",
            "Requirement already satisfied: packaging>=20.0 in /usr/local/lib/python3.7/dist-packages (from spacy<3.4.0,>=3.3.0.dev0->pt-core-news-lg==3.3.0) (21.3)\n",
            "Requirement already satisfied: spacy-loggers<2.0.0,>=1.0.0 in /usr/local/lib/python3.7/dist-packages (from spacy<3.4.0,>=3.3.0.dev0->pt-core-news-lg==3.3.0) (1.0.3)\n",
            "Requirement already satisfied: setuptools in /usr/local/lib/python3.7/dist-packages (from spacy<3.4.0,>=3.3.0.dev0->pt-core-news-lg==3.3.0) (57.4.0)\n",
            "Requirement already satisfied: thinc<8.1.0,>=8.0.14 in /usr/local/lib/python3.7/dist-packages (from spacy<3.4.0,>=3.3.0.dev0->pt-core-news-lg==3.3.0) (8.0.17)\n",
            "Requirement already satisfied: murmurhash<1.1.0,>=0.28.0 in /usr/local/lib/python3.7/dist-packages (from spacy<3.4.0,>=3.3.0.dev0->pt-core-news-lg==3.3.0) (1.0.7)\n",
            "Requirement already satisfied: wasabi<1.1.0,>=0.9.1 in /usr/local/lib/python3.7/dist-packages (from spacy<3.4.0,>=3.3.0.dev0->pt-core-news-lg==3.3.0) (0.9.1)\n",
            "Requirement already satisfied: blis<0.8.0,>=0.4.0 in /usr/local/lib/python3.7/dist-packages (from spacy<3.4.0,>=3.3.0.dev0->pt-core-news-lg==3.3.0) (0.7.8)\n",
            "Requirement already satisfied: jinja2 in /usr/local/lib/python3.7/dist-packages (from spacy<3.4.0,>=3.3.0.dev0->pt-core-news-lg==3.3.0) (2.11.3)\n",
            "Requirement already satisfied: requests<3.0.0,>=2.13.0 in /usr/local/lib/python3.7/dist-packages (from spacy<3.4.0,>=3.3.0.dev0->pt-core-news-lg==3.3.0) (2.23.0)\n",
            "Requirement already satisfied: preshed<3.1.0,>=3.0.2 in /usr/local/lib/python3.7/dist-packages (from spacy<3.4.0,>=3.3.0.dev0->pt-core-news-lg==3.3.0) (3.0.6)\n",
            "Requirement already satisfied: langcodes<4.0.0,>=3.2.0 in /usr/local/lib/python3.7/dist-packages (from spacy<3.4.0,>=3.3.0.dev0->pt-core-news-lg==3.3.0) (3.3.0)\n",
            "Requirement already satisfied: pydantic!=1.8,!=1.8.1,<1.9.0,>=1.7.4 in /usr/local/lib/python3.7/dist-packages (from spacy<3.4.0,>=3.3.0.dev0->pt-core-news-lg==3.3.0) (1.8.2)\n",
            "Requirement already satisfied: spacy-legacy<3.1.0,>=3.0.9 in /usr/local/lib/python3.7/dist-packages (from spacy<3.4.0,>=3.3.0.dev0->pt-core-news-lg==3.3.0) (3.0.9)\n",
            "Requirement already satisfied: typing-extensions<4.2.0,>=3.7.4 in /usr/local/lib/python3.7/dist-packages (from spacy<3.4.0,>=3.3.0.dev0->pt-core-news-lg==3.3.0) (4.1.1)\n",
            "Requirement already satisfied: pathy>=0.3.5 in /usr/local/lib/python3.7/dist-packages (from spacy<3.4.0,>=3.3.0.dev0->pt-core-news-lg==3.3.0) (0.6.2)\n",
            "Requirement already satisfied: srsly<3.0.0,>=2.4.3 in /usr/local/lib/python3.7/dist-packages (from spacy<3.4.0,>=3.3.0.dev0->pt-core-news-lg==3.3.0) (2.4.3)\n",
            "Requirement already satisfied: typer<0.5.0,>=0.3.0 in /usr/local/lib/python3.7/dist-packages (from spacy<3.4.0,>=3.3.0.dev0->pt-core-news-lg==3.3.0) (0.4.2)\n",
            "Requirement already satisfied: zipp>=0.5 in /usr/local/lib/python3.7/dist-packages (from catalogue<2.1.0,>=2.0.6->spacy<3.4.0,>=3.3.0.dev0->pt-core-news-lg==3.3.0) (3.8.1)\n",
            "Requirement already satisfied: pyparsing!=3.0.5,>=2.0.2 in /usr/local/lib/python3.7/dist-packages (from packaging>=20.0->spacy<3.4.0,>=3.3.0.dev0->pt-core-news-lg==3.3.0) (3.0.9)\n",
            "Requirement already satisfied: smart-open<6.0.0,>=5.2.1 in /usr/local/lib/python3.7/dist-packages (from pathy>=0.3.5->spacy<3.4.0,>=3.3.0.dev0->pt-core-news-lg==3.3.0) (5.2.1)\n",
            "Requirement already satisfied: urllib3!=1.25.0,!=1.25.1,<1.26,>=1.21.1 in /usr/local/lib/python3.7/dist-packages (from requests<3.0.0,>=2.13.0->spacy<3.4.0,>=3.3.0.dev0->pt-core-news-lg==3.3.0) (1.24.3)\n",
            "Requirement already satisfied: idna<3,>=2.5 in /usr/local/lib/python3.7/dist-packages (from requests<3.0.0,>=2.13.0->spacy<3.4.0,>=3.3.0.dev0->pt-core-news-lg==3.3.0) (2.10)\n",
            "Requirement already satisfied: certifi>=2017.4.17 in /usr/local/lib/python3.7/dist-packages (from requests<3.0.0,>=2.13.0->spacy<3.4.0,>=3.3.0.dev0->pt-core-news-lg==3.3.0) (2022.6.15)\n",
            "Requirement already satisfied: chardet<4,>=3.0.2 in /usr/local/lib/python3.7/dist-packages (from requests<3.0.0,>=2.13.0->spacy<3.4.0,>=3.3.0.dev0->pt-core-news-lg==3.3.0) (3.0.4)\n",
            "Requirement already satisfied: click<9.0.0,>=7.1.1 in /usr/local/lib/python3.7/dist-packages (from typer<0.5.0,>=0.3.0->spacy<3.4.0,>=3.3.0.dev0->pt-core-news-lg==3.3.0) (7.1.2)\n",
            "Requirement already satisfied: MarkupSafe>=0.23 in /usr/local/lib/python3.7/dist-packages (from jinja2->spacy<3.4.0,>=3.3.0.dev0->pt-core-news-lg==3.3.0) (2.0.1)\n",
            "Installing collected packages: pt-core-news-lg\n",
            "Successfully installed pt-core-news-lg-3.3.0\n",
            "\u001b[38;5;2m✔ Download and installation successful\u001b[0m\n",
            "You can now load the package via spacy.load('pt_core_news_lg')\n"
          ]
        }
      ]
    },
    {
      "cell_type": "code",
      "source": [
        "!pip install plac"
      ],
      "metadata": {
        "id": "75lCv4OOaKUX",
        "colab": {
          "base_uri": "https://localhost:8080/"
        },
        "outputId": "12fb8d11-c099-40c3-c883-67a3a7d677f0"
      },
      "execution_count": 3,
      "outputs": [
        {
          "output_type": "stream",
          "name": "stdout",
          "text": [
            "Looking in indexes: https://pypi.org/simple, https://us-python.pkg.dev/colab-wheels/public/simple/\n",
            "Collecting plac\n",
            "  Downloading plac-1.3.5-py2.py3-none-any.whl (22 kB)\n",
            "Installing collected packages: plac\n",
            "Successfully installed plac-1.3.5\n"
          ]
        }
      ]
    },
    {
      "cell_type": "code",
      "source": [
        "import plac\n",
        "import spacy\n",
        "import random\n",
        "import sklearn\n",
        "import numpy as np\n",
        "import pandas as pd\n",
        "import pt_core_news_lg\n",
        "import pt_core_news_sm\n",
        "import matplotlib.pyplot as plt\n",
        "\n",
        "from pathlib import Path\n",
        "from __future__ import unicode_literals, print_function"
      ],
      "metadata": {
        "id": "5gdDlKDVZ5kY"
      },
      "execution_count": 4,
      "outputs": []
    },
    {
      "cell_type": "markdown",
      "source": [
        "### Dados de treinamento:\n",
        "\n",
        "- Carregamento dos dados anotados.\n",
        "- Formatação dos dados para treinamento no Spacy."
      ],
      "metadata": {
        "id": "68VC9EwQdyn4"
      }
    },
    {
      "cell_type": "code",
      "source": [
        "data = pd.read_json('output_anotacoes.json')\n",
        "data"
      ],
      "metadata": {
        "colab": {
          "base_uri": "https://localhost:8080/",
          "height": 424
        },
        "id": "kmnVq-awbUJI",
        "outputId": "325d60ed-f1e4-4d34-db83-dcf59cf22f63"
      },
      "execution_count": 30,
      "outputs": [
        {
          "output_type": "execute_result",
          "data": {
            "text/plain": [
              "        id                                               text  \\\n",
              "0        1  ESTADO DO ACRE DECRETO Nº 9.693, DE 27 DE JULH...   \n",
              "1        2  ESTADO DO ACRE DECRETO Nº 9.695, DE 28 DE JULH...   \n",
              "2        3  ESTADO DO ACRE DECRETO Nº 9.696, DE 28 DE JULH...   \n",
              "3        4  ESTADO DO ACRE DECRETO Nº 9.354, DE 29 DE JUNH...   \n",
              "4        5  ESTADO DO ACRE DECRETO Nº 9.558, DE 23 DE JULH...   \n",
              "...    ...                                                ...   \n",
              "6494  6495  ESTADO ACRE PREFEITURA MUNICIPAL DE CRUZEIRO D...   \n",
              "6495  6496  ESTADO ACRE PREFEITURA MUNICIPAL DE RODRIGUES ...   \n",
              "6496  6497  ESTADO ACRE PREFEITURA MUNICIPAL DE RODRIGUES ...   \n",
              "6497  6498  ESTADO ACRE PREFEITURA MUNICIPAL DE RODRIGUES ...   \n",
              "6498  6499  ESTADO ACRE PREFEITURA MUNICIPAL DE RODRIGUES ...   \n",
              "\n",
              "                                                  label  \n",
              "0                                                    []  \n",
              "1                                                    []  \n",
              "2                                                    []  \n",
              "3                                                    []  \n",
              "4                                                    []  \n",
              "...                                                 ...  \n",
              "6494  [[12, 51, ENTE], [71, 99, IDENTIFICACAO], [107...  \n",
              "6495  [[12, 51, ENTE], [76, 108, IDENTIFICACAO], [11...  \n",
              "6496  [[12, 51, ENTE], [71, 103, IDENTIFICACAO], [11...  \n",
              "6497  [[12, 50, ENTE], [71, 103, IDENTIFICACAO], [11...  \n",
              "6498  [[12, 51, ENTE], [71, 103, IDENTIFICACAO], [11...  \n",
              "\n",
              "[6499 rows x 3 columns]"
            ],
            "text/html": [
              "\n",
              "  <div id=\"df-9255a22b-2ac9-406e-87fd-b372ab17d891\">\n",
              "    <div class=\"colab-df-container\">\n",
              "      <div>\n",
              "<style scoped>\n",
              "    .dataframe tbody tr th:only-of-type {\n",
              "        vertical-align: middle;\n",
              "    }\n",
              "\n",
              "    .dataframe tbody tr th {\n",
              "        vertical-align: top;\n",
              "    }\n",
              "\n",
              "    .dataframe thead th {\n",
              "        text-align: right;\n",
              "    }\n",
              "</style>\n",
              "<table border=\"1\" class=\"dataframe\">\n",
              "  <thead>\n",
              "    <tr style=\"text-align: right;\">\n",
              "      <th></th>\n",
              "      <th>id</th>\n",
              "      <th>text</th>\n",
              "      <th>label</th>\n",
              "    </tr>\n",
              "  </thead>\n",
              "  <tbody>\n",
              "    <tr>\n",
              "      <th>0</th>\n",
              "      <td>1</td>\n",
              "      <td>ESTADO DO ACRE DECRETO Nº 9.693, DE 27 DE JULH...</td>\n",
              "      <td>[]</td>\n",
              "    </tr>\n",
              "    <tr>\n",
              "      <th>1</th>\n",
              "      <td>2</td>\n",
              "      <td>ESTADO DO ACRE DECRETO Nº 9.695, DE 28 DE JULH...</td>\n",
              "      <td>[]</td>\n",
              "    </tr>\n",
              "    <tr>\n",
              "      <th>2</th>\n",
              "      <td>3</td>\n",
              "      <td>ESTADO DO ACRE DECRETO Nº 9.696, DE 28 DE JULH...</td>\n",
              "      <td>[]</td>\n",
              "    </tr>\n",
              "    <tr>\n",
              "      <th>3</th>\n",
              "      <td>4</td>\n",
              "      <td>ESTADO DO ACRE DECRETO Nº 9.354, DE 29 DE JUNH...</td>\n",
              "      <td>[]</td>\n",
              "    </tr>\n",
              "    <tr>\n",
              "      <th>4</th>\n",
              "      <td>5</td>\n",
              "      <td>ESTADO DO ACRE DECRETO Nº 9.558, DE 23 DE JULH...</td>\n",
              "      <td>[]</td>\n",
              "    </tr>\n",
              "    <tr>\n",
              "      <th>...</th>\n",
              "      <td>...</td>\n",
              "      <td>...</td>\n",
              "      <td>...</td>\n",
              "    </tr>\n",
              "    <tr>\n",
              "      <th>6494</th>\n",
              "      <td>6495</td>\n",
              "      <td>ESTADO ACRE PREFEITURA MUNICIPAL DE CRUZEIRO D...</td>\n",
              "      <td>[[12, 51, ENTE], [71, 99, IDENTIFICACAO], [107...</td>\n",
              "    </tr>\n",
              "    <tr>\n",
              "      <th>6495</th>\n",
              "      <td>6496</td>\n",
              "      <td>ESTADO ACRE PREFEITURA MUNICIPAL DE RODRIGUES ...</td>\n",
              "      <td>[[12, 51, ENTE], [76, 108, IDENTIFICACAO], [11...</td>\n",
              "    </tr>\n",
              "    <tr>\n",
              "      <th>6496</th>\n",
              "      <td>6497</td>\n",
              "      <td>ESTADO ACRE PREFEITURA MUNICIPAL DE RODRIGUES ...</td>\n",
              "      <td>[[12, 51, ENTE], [71, 103, IDENTIFICACAO], [11...</td>\n",
              "    </tr>\n",
              "    <tr>\n",
              "      <th>6497</th>\n",
              "      <td>6498</td>\n",
              "      <td>ESTADO ACRE PREFEITURA MUNICIPAL DE RODRIGUES ...</td>\n",
              "      <td>[[12, 50, ENTE], [71, 103, IDENTIFICACAO], [11...</td>\n",
              "    </tr>\n",
              "    <tr>\n",
              "      <th>6498</th>\n",
              "      <td>6499</td>\n",
              "      <td>ESTADO ACRE PREFEITURA MUNICIPAL DE RODRIGUES ...</td>\n",
              "      <td>[[12, 51, ENTE], [71, 103, IDENTIFICACAO], [11...</td>\n",
              "    </tr>\n",
              "  </tbody>\n",
              "</table>\n",
              "<p>6499 rows × 3 columns</p>\n",
              "</div>\n",
              "      <button class=\"colab-df-convert\" onclick=\"convertToInteractive('df-9255a22b-2ac9-406e-87fd-b372ab17d891')\"\n",
              "              title=\"Convert this dataframe to an interactive table.\"\n",
              "              style=\"display:none;\">\n",
              "        \n",
              "  <svg xmlns=\"http://www.w3.org/2000/svg\" height=\"24px\"viewBox=\"0 0 24 24\"\n",
              "       width=\"24px\">\n",
              "    <path d=\"M0 0h24v24H0V0z\" fill=\"none\"/>\n",
              "    <path d=\"M18.56 5.44l.94 2.06.94-2.06 2.06-.94-2.06-.94-.94-2.06-.94 2.06-2.06.94zm-11 1L8.5 8.5l.94-2.06 2.06-.94-2.06-.94L8.5 2.5l-.94 2.06-2.06.94zm10 10l.94 2.06.94-2.06 2.06-.94-2.06-.94-.94-2.06-.94 2.06-2.06.94z\"/><path d=\"M17.41 7.96l-1.37-1.37c-.4-.4-.92-.59-1.43-.59-.52 0-1.04.2-1.43.59L10.3 9.45l-7.72 7.72c-.78.78-.78 2.05 0 2.83L4 21.41c.39.39.9.59 1.41.59.51 0 1.02-.2 1.41-.59l7.78-7.78 2.81-2.81c.8-.78.8-2.07 0-2.86zM5.41 20L4 18.59l7.72-7.72 1.47 1.35L5.41 20z\"/>\n",
              "  </svg>\n",
              "      </button>\n",
              "      \n",
              "  <style>\n",
              "    .colab-df-container {\n",
              "      display:flex;\n",
              "      flex-wrap:wrap;\n",
              "      gap: 12px;\n",
              "    }\n",
              "\n",
              "    .colab-df-convert {\n",
              "      background-color: #E8F0FE;\n",
              "      border: none;\n",
              "      border-radius: 50%;\n",
              "      cursor: pointer;\n",
              "      display: none;\n",
              "      fill: #1967D2;\n",
              "      height: 32px;\n",
              "      padding: 0 0 0 0;\n",
              "      width: 32px;\n",
              "    }\n",
              "\n",
              "    .colab-df-convert:hover {\n",
              "      background-color: #E2EBFA;\n",
              "      box-shadow: 0px 1px 2px rgba(60, 64, 67, 0.3), 0px 1px 3px 1px rgba(60, 64, 67, 0.15);\n",
              "      fill: #174EA6;\n",
              "    }\n",
              "\n",
              "    [theme=dark] .colab-df-convert {\n",
              "      background-color: #3B4455;\n",
              "      fill: #D2E3FC;\n",
              "    }\n",
              "\n",
              "    [theme=dark] .colab-df-convert:hover {\n",
              "      background-color: #434B5C;\n",
              "      box-shadow: 0px 1px 3px 1px rgba(0, 0, 0, 0.15);\n",
              "      filter: drop-shadow(0px 1px 2px rgba(0, 0, 0, 0.3));\n",
              "      fill: #FFFFFF;\n",
              "    }\n",
              "  </style>\n",
              "\n",
              "      <script>\n",
              "        const buttonEl =\n",
              "          document.querySelector('#df-9255a22b-2ac9-406e-87fd-b372ab17d891 button.colab-df-convert');\n",
              "        buttonEl.style.display =\n",
              "          google.colab.kernel.accessAllowed ? 'block' : 'none';\n",
              "\n",
              "        async function convertToInteractive(key) {\n",
              "          const element = document.querySelector('#df-9255a22b-2ac9-406e-87fd-b372ab17d891');\n",
              "          const dataTable =\n",
              "            await google.colab.kernel.invokeFunction('convertToInteractive',\n",
              "                                                     [key], {});\n",
              "          if (!dataTable) return;\n",
              "\n",
              "          const docLinkHtml = 'Like what you see? Visit the ' +\n",
              "            '<a target=\"_blank\" href=https://colab.research.google.com/notebooks/data_table.ipynb>data table notebook</a>'\n",
              "            + ' to learn more about interactive tables.';\n",
              "          element.innerHTML = '';\n",
              "          dataTable['output_type'] = 'display_data';\n",
              "          await google.colab.output.renderOutput(dataTable, element);\n",
              "          const docLink = document.createElement('div');\n",
              "          docLink.innerHTML = docLinkHtml;\n",
              "          element.appendChild(docLink);\n",
              "        }\n",
              "      </script>\n",
              "    </div>\n",
              "  </div>\n",
              "  "
            ]
          },
          "metadata": {},
          "execution_count": 30
        }
      ]
    },
    {
      "cell_type": "markdown",
      "source": [
        "#### Preparação dos dados: "
      ],
      "metadata": {
        "id": "5eFVRs3ceCMx"
      }
    },
    {
      "cell_type": "code",
      "source": [
        "def labels_2_entities(labels):\n",
        "    result = []\n",
        "    for label in labels:\n",
        "        # if label[2] not in ['ENTE', 'ORGAO']:\n",
        "        result.append((label[0], label[1], label[2]))\n",
        "    return result\n",
        "\n",
        "\n",
        "def data_2_training(data):\n",
        "    result = []\n",
        "    for element in data:\n",
        "        if len(element[2]) > 0:\n",
        "            result.append(\n",
        "                (element[1], {\n",
        "                    'entities': labels_2_entities(element[2])\n",
        "                })\n",
        "            )\n",
        "    return result"
      ],
      "metadata": {
        "id": "VsI6PBdtbhm3"
      },
      "execution_count": 31,
      "outputs": []
    },
    {
      "cell_type": "code",
      "source": [
        "TRAIN_DATA = data_2_training(data.values.tolist())\n",
        "TRAIN_DATA[1]"
      ],
      "metadata": {
        "colab": {
          "base_uri": "https://localhost:8080/"
        },
        "id": "jy1Tgg-6cNOw",
        "outputId": "65e03a97-f2ca-4f4e-93fd-d7b71abf0a08"
      },
      "execution_count": 32,
      "outputs": [
        {
          "output_type": "execute_result",
          "data": {
            "text/plain": [
              "('GOVERNO DO ESTADO DO ACRE SECRETARIA DE INDÚSTRIA, CIÊNCIA E TECNOLOGIA - SEICT AVISO DE LICITAÇÃO PREGÃO ELETRÔNICO PELO SISTEMA DE REGISTRO DE PREÇOS  N 215/2021 – SESACRE Objeto: Contratação de empresa para realização de serviços de manutenção preventiva, corretiva e calibração com fornecimento de peças e  acessórios, dos Equipamentos de Cozinha, a fim de atender as necessidades das Unidades de Saúde, no âmbito da Secretaria de Estado de  Saúde – SESACRE. Fonte de Recursos: 100 (Recursos Próprios – Ordinários) e 400 (Transferências de Recursos do Sistema Único de Saúde – SUS de origem  da União). Propostas: Serão recebidas até às 10h30min (horário de Brasília) do dia  13 de Agosto de 2021, quando terá início a disputa de preços no sistema  eletrônico: site www.comprasnet.gov.br. Edital e Informações: O edital está à disposição, através dos sites: www. ac.gov.br, www.licitacao.ac.gov.br e www.comprasnet.gov.br. Rio Branco-AC, 30 de Julho de 2021. ASS Mário Jorge Moraes  ',\n",
              " {'entities': [(26, 79, 'ENTE'),\n",
              "   (99, 173, 'IDENTIFICACAO'),\n",
              "   (182, 350, 'OBJETO')]})"
            ]
          },
          "metadata": {},
          "execution_count": 32
        }
      ]
    },
    {
      "cell_type": "markdown",
      "source": [
        "### Pré-processamento e Treinamento:"
      ],
      "metadata": {
        "id": "s_2tvsKOeG9h"
      }
    },
    {
      "cell_type": "markdown",
      "source": [
        "###### Pré-processamento:"
      ],
      "metadata": {
        "id": "0Q6aS03nj8Zu"
      }
    },
    {
      "cell_type": "code",
      "source": [
        "TRAIN_DATA[664]"
      ],
      "metadata": {
        "colab": {
          "base_uri": "https://localhost:8080/"
        },
        "id": "IJr07gXbneWP",
        "outputId": "c0a79687-2fcb-408f-9c09-bb6cf8a382a3"
      },
      "execution_count": 33,
      "outputs": [
        {
          "output_type": "execute_result",
          "data": {
            "text/plain": [
              "('AVISO DE LICITAÇÃO EDITAL DE LICITAÇÃO 002/2021 PREGÃO SRP Nº 002/2021 PREGÃO ELETRÔNICO OBJETO: Aquisição de veículos, tipo caminhonete, zero quilômetro, emplacados dentro do Padrão MERCOSUL, no Departamento de Trânsito  do Estado do Acre – DETRAN/AC, em nome da Defensoria Pública do  Estado do Acre, e com garantia do fabricante, visando atender à necessidade de renovação da frota da DPE/AC ABERTURA: 11 de novembro de 2021, às 10:30 horas LOCAL: www.comprasnet.gov.br Para todas as referências de tempo será utilizado o horário de Brasília  UASG 459931   RAPHAEL BATISTA DA SILVA Pregoeiro da DPE/AC Portaria nº. 097/GAB/DPE-AC ',\n",
              " {'entities': [(48, 70, 'IDENTIFICACAO'),\n",
              "   (97, 331, 'OBJETO'),\n",
              "   (264, 293, 'ENTE'),\n",
              "   (264, 293, 'ORGAO')]})"
            ]
          },
          "metadata": {},
          "execution_count": 33
        }
      ]
    },
    {
      "cell_type": "code",
      "source": [
        "len(TRAIN_DATA)"
      ],
      "metadata": {
        "colab": {
          "base_uri": "https://localhost:8080/"
        },
        "id": "UfC9CuxidszW",
        "outputId": "3f2d7c33-1e12-4dae-cbc8-10a6908a2341"
      },
      "execution_count": 34,
      "outputs": [
        {
          "output_type": "execute_result",
          "data": {
            "text/plain": [
              "860"
            ]
          },
          "metadata": {},
          "execution_count": 34
        }
      ]
    },
    {
      "cell_type": "code",
      "source": [
        "def verify_interval(s2, e2):\n",
        "    if s2 <= e2:\n",
        "        return True\n",
        "    return False\n",
        "\n",
        "\n",
        "result = []\n",
        "for i in range(0, len(TRAIN_DATA)):\n",
        "    entities = TRAIN_DATA[i][1]['entities']\n",
        "    if len(entities) > 1:\n",
        "        entis = []\n",
        "        for index in range(1, len(entities)):\n",
        "            # print(entities[index])\n",
        "            added = False\n",
        "            for j in range(index - 1, -1, -1):\n",
        "                if verify_interval(entities[index][0], entities[j][1]):\n",
        "                    # print(data[0])\n",
        "                    # print(data[1])\n",
        "                    # print(\"------\")\n",
        "                    result.append(\n",
        "                        (TRAIN_DATA[i][0], {\"entities\": [entities[index]]})\n",
        "                    )\n",
        "                    if not added:\n",
        "                        entis.append(entities[index])\n",
        "                        added = True\n",
        "        for enti in entis:\n",
        "            TRAIN_DATA[i][1]['entities'].remove(enti)\n"
      ],
      "metadata": {
        "id": "2gkIElU58cg0"
      },
      "execution_count": 35,
      "outputs": []
    },
    {
      "cell_type": "code",
      "source": [
        "result[0:2]"
      ],
      "metadata": {
        "colab": {
          "base_uri": "https://localhost:8080/"
        },
        "id": "9PZzziGnA9nE",
        "outputId": "a9e3822a-fce4-4ab7-d63b-327462e7a55f"
      },
      "execution_count": 36,
      "outputs": [
        {
          "output_type": "execute_result",
          "data": {
            "text/plain": [
              "[('AVISO DE LICITAÇÃO SHOPPING Nº 012/2021 – BIRD/SEPLAG/SESACRE Objeto: Contratação de empresa de engenharia para execução dos  serviços de construção dos Abrigos de resíduos sólidos da unidade de  saúde de Santa Rosa do Purus. Fonte de Recurso: 500 – BIRD. Edital e Informações: O edital está à disposição nos sites www.ac.gov. br e www.licitacao.ac.gov.br. Data da Abertura: 02/09/2021 às 10h, conforme preâmbulo no Edital. Rio Branco-AC, 25 de Agosto de 2021.   ASS Saluana Bonfim do Nascimento  CAR Presidente da Comissão ',\n",
              "  {'entities': [(47, 53, 'ENTE')]}),\n",
              " ('AVISO DE LICITAÇÃO SHOPPING Nº 012/2021 – BIRD/SEPLAG/SESACRE Objeto: Contratação de empresa de engenharia para execução dos  serviços de construção dos Abrigos de resíduos sólidos da unidade de  saúde de Santa Rosa do Purus. Fonte de Recurso: 500 – BIRD. Edital e Informações: O edital está à disposição nos sites www.ac.gov. br e www.licitacao.ac.gov.br. Data da Abertura: 02/09/2021 às 10h, conforme preâmbulo no Edital. Rio Branco-AC, 25 de Agosto de 2021.   ASS Saluana Bonfim do Nascimento  CAR Presidente da Comissão ',\n",
              "  {'entities': [(54, 61, 'ORGAO')]})]"
            ]
          },
          "metadata": {},
          "execution_count": 36
        }
      ]
    },
    {
      "cell_type": "code",
      "source": [
        "len(TRAIN_DATA)"
      ],
      "metadata": {
        "colab": {
          "base_uri": "https://localhost:8080/"
        },
        "id": "s-bZGMopET1K",
        "outputId": "0555951c-d9fb-4bc8-cc81-d1254e3218d2"
      },
      "execution_count": 39,
      "outputs": [
        {
          "output_type": "execute_result",
          "data": {
            "text/plain": [
              "1053"
            ]
          },
          "metadata": {},
          "execution_count": 39
        }
      ]
    },
    {
      "cell_type": "code",
      "source": [
        "TRAIN_DATA.extend(result)"
      ],
      "metadata": {
        "id": "utQgKk1uEKV0"
      },
      "execution_count": 38,
      "outputs": []
    },
    {
      "cell_type": "markdown",
      "source": [
        "###### Treino:"
      ],
      "metadata": {
        "id": "xSmpVPWtBxVN"
      }
    },
    {
      "cell_type": "code",
      "source": [
        "# model = \"pt_core_news_sm\"\n",
        "\n",
        "# if model is not None:\n",
        "#     nlp = pt_core_news_sm.load()\n",
        "#     print(\"Loaded model '%s'\" % model)\n",
        "# else:\n",
        "#     nlp = spacy.blank('pt')  \n",
        "#     print(\"Created blank 'pt' model\")\n",
        "\n",
        "# if 'ner' not in nlp.pipe_names:\n",
        "#     ner = nlp.create_pipe('ner')\n",
        "#     nlp.add_pipe(ner, last=True)\n",
        "# else:\n",
        "#     ner = nlp.get_pipe('ner')"
      ],
      "metadata": {
        "colab": {
          "base_uri": "https://localhost:8080/"
        },
        "id": "_D8DconxeS7Z",
        "outputId": "bb6a7a9c-97f3-43bd-d5e2-087ded8050c8"
      },
      "execution_count": null,
      "outputs": [
        {
          "output_type": "stream",
          "name": "stdout",
          "text": [
            "Loaded model 'pt_core_news_sm'\n"
          ]
        }
      ]
    },
    {
      "cell_type": "code",
      "source": [
        "model = None\n",
        "\n",
        "if model is not None:\n",
        "    nlp = pt_core_news_sm.load()\n",
        "    print(\"Loaded model '%s'\" % model)\n",
        "else:\n",
        "    nlp = spacy.blank('pt')  \n",
        "    print(\"Created blank 'pt' model\")\n",
        "\n",
        "if 'ner' not in nlp.pipe_names:\n",
        "    ner = nlp.create_pipe('ner')\n",
        "    nlp.add_pipe('ner', last=True)\n",
        "else:\n",
        "    ner = nlp.get_pipe('ner')"
      ],
      "metadata": {
        "colab": {
          "base_uri": "https://localhost:8080/"
        },
        "id": "VdMS6h3NZ26Q",
        "outputId": "f29749f9-5997-4663-ced5-220770c46caa"
      },
      "execution_count": 40,
      "outputs": [
        {
          "output_type": "stream",
          "name": "stdout",
          "text": [
            "Created blank 'pt' model\n"
          ]
        }
      ]
    },
    {
      "cell_type": "code",
      "source": [
        "from sklearn.model_selection import train_test_split\n",
        "\n",
        "training_dataset, test_dataset = train_test_split(TRAIN_DATA, test_size=0.05, shuffle=True, random_state=13)"
      ],
      "metadata": {
        "id": "dN-ZH2U3BIVn"
      },
      "execution_count": 41,
      "outputs": []
    },
    {
      "cell_type": "code",
      "source": [
        "len(training_dataset)"
      ],
      "metadata": {
        "colab": {
          "base_uri": "https://localhost:8080/"
        },
        "id": "khyT0sQ6CHxW",
        "outputId": "1dacd27d-efeb-4ef4-f709-fad77565e37e"
      },
      "execution_count": 42,
      "outputs": [
        {
          "output_type": "execute_result",
          "data": {
            "text/plain": [
              "1000"
            ]
          },
          "metadata": {},
          "execution_count": 42
        }
      ]
    },
    {
      "cell_type": "code",
      "source": [
        "len(test_dataset)"
      ],
      "metadata": {
        "colab": {
          "base_uri": "https://localhost:8080/"
        },
        "id": "3u0RHBKxCKWE",
        "outputId": "e17b1e24-7de0-4460-d28d-c7c70700824f"
      },
      "execution_count": 43,
      "outputs": [
        {
          "output_type": "execute_result",
          "data": {
            "text/plain": [
              "53"
            ]
          },
          "metadata": {},
          "execution_count": 43
        }
      ]
    },
    {
      "cell_type": "code",
      "source": [
        "model = None\n",
        "output_dir=Path(\"./\")\n",
        "n_iter=100"
      ],
      "metadata": {
        "id": "qm4hWZkVczfN"
      },
      "execution_count": 44,
      "outputs": []
    },
    {
      "cell_type": "code",
      "source": [
        "import string\n",
        "from spacy.training.example import Example\n",
        "\n",
        "for _, annotations in training_dataset:\n",
        "    for ent in annotations.get('entities'):\n",
        "        ner.add_label(ent[2])\n",
        "\n",
        "list_losses = []\n",
        "other_pipes = [pipe for pipe in nlp.pipe_names if pipe != 'ner']\n",
        "with nlp.disable_pipes(*other_pipes):\n",
        "    optimizer = nlp.begin_training()\n",
        "    spacy.util.fix_random_seed()\n",
        "    # optimizer = nlp.create_optimizer()\n",
        "    for itn in range(n_iter):\n",
        "        random.shuffle(training_dataset)\n",
        "        losses = {}\n",
        "\n",
        "        for batch in spacy.util.minibatch(training_dataset, size=1):\n",
        "            for text, annotations in batch:\n",
        "                # create Example\n",
        "                doc = nlp.make_doc(text)\n",
        "                example = Example.from_dict(doc, annotations)\n",
        "                # Update the model\n",
        "                nlp.update([example], drop=0.3, sgd=optimizer, losses=losses)\n",
        "        print(\"Terminou: \", itn)\n",
        "        print(losses)\n",
        "        list_losses.append(losses.get(\"ner\"))\n",
        "\n",
        "\n",
        "list_losses = np.array(list_losses)"
      ],
      "metadata": {
        "id": "06576nRPeZdi",
        "colab": {
          "base_uri": "https://localhost:8080/"
        },
        "outputId": "13e21282-994c-44f5-881a-aae388999b81"
      },
      "execution_count": 48,
      "outputs": [
        {
          "output_type": "stream",
          "name": "stderr",
          "text": [
            "/usr/local/lib/python3.7/dist-packages/spacy/training/iob_utils.py:144: UserWarning: [W030] Some entities could not be aligned in the text \"ESTADO DO ACRE PREFEITURA MUNICIPAL DE PORTO ACRE ...\" with entities \"[(15, 49, 'ENTE'), (109, 138, 'IDENTIFICACAO'), (1...\". Use `spacy.training.offsets_to_biluo_tags(nlp.make_doc(text), entities)` to check the alignment. Misaligned entities ('-') will be ignored during training.\n",
            "  entities=ent_str[:50] + \"...\" if len(ent_str) > 50 else ent_str,\n",
            "/usr/local/lib/python3.7/dist-packages/spacy/training/iob_utils.py:144: UserWarning: [W030] Some entities could not be aligned in the text \"ESTADO DO ACRE MUNICÍPIO DE XAPURI   AVISO DE LICI...\" with entities \"[(15, 34, 'ENTE'), (249, 281, 'IDENTIFICACAO'), (3...\". Use `spacy.training.offsets_to_biluo_tags(nlp.make_doc(text), entities)` to check the alignment. Misaligned entities ('-') will be ignored during training.\n",
            "  entities=ent_str[:50] + \"...\" if len(ent_str) > 50 else ent_str,\n",
            "/usr/local/lib/python3.7/dist-packages/spacy/training/iob_utils.py:144: UserWarning: [W030] Some entities could not be aligned in the text \"ESTADO DO ACRE PREFEITURA MUNICIPAL DE PORTO ACRE ...\" with entities \"[(15, 49, 'ENTE'), (109, 142, 'IDENTIFICACAO'), (1...\". Use `spacy.training.offsets_to_biluo_tags(nlp.make_doc(text), entities)` to check the alignment. Misaligned entities ('-') will be ignored during training.\n",
            "  entities=ent_str[:50] + \"...\" if len(ent_str) > 50 else ent_str,\n",
            "/usr/local/lib/python3.7/dist-packages/spacy/training/iob_utils.py:144: UserWarning: [W030] Some entities could not be aligned in the text \"AVISO DE LICITAÇÃO A CÂMARA MUNICIPAL DE RIO BRANC...\" with entities \"[(21, 51, 'ENTE'), (301, 334, 'IDENTIFICACAO'), (4...\". Use `spacy.training.offsets_to_biluo_tags(nlp.make_doc(text), entities)` to check the alignment. Misaligned entities ('-') will be ignored during training.\n",
            "  entities=ent_str[:50] + \"...\" if len(ent_str) > 50 else ent_str,\n",
            "/usr/local/lib/python3.7/dist-packages/spacy/training/iob_utils.py:144: UserWarning: [W030] Some entities could not be aligned in the text \"ESTADO ACRE PREFEITURA MUNICIPAL DE CRUZEIRO DO SU...\" with entities \"[(12, 51, 'ENTE'), (72, 107, 'IDENTIFICACAO'), (11...\". Use `spacy.training.offsets_to_biluo_tags(nlp.make_doc(text), entities)` to check the alignment. Misaligned entities ('-') will be ignored during training.\n",
            "  entities=ent_str[:50] + \"...\" if len(ent_str) > 50 else ent_str,\n",
            "/usr/local/lib/python3.7/dist-packages/spacy/training/iob_utils.py:144: UserWarning: [W030] Some entities could not be aligned in the text \"GOVERNO DO ESTADO DO ACRE SECRETARIA DE INDÚSTRIA,...\" with entities \"[(26, 79, 'ENTE'), (99, 173, 'IDENTIFICACAO')]\". Use `spacy.training.offsets_to_biluo_tags(nlp.make_doc(text), entities)` to check the alignment. Misaligned entities ('-') will be ignored during training.\n",
            "  entities=ent_str[:50] + \"...\" if len(ent_str) > 50 else ent_str,\n",
            "/usr/local/lib/python3.7/dist-packages/spacy/training/iob_utils.py:144: UserWarning: [W030] Some entities could not be aligned in the text \"AVISO DE LICITAÇÃO TOMADA DE PREÇOS Nº 039/2021 – ...\" with entities \"[(19, 57, 'IDENTIFICACAO'), (64, 171, 'OBJETO')]\". Use `spacy.training.offsets_to_biluo_tags(nlp.make_doc(text), entities)` to check the alignment. Misaligned entities ('-') will be ignored during training.\n",
            "  entities=ent_str[:50] + \"...\" if len(ent_str) > 50 else ent_str,\n",
            "/usr/local/lib/python3.7/dist-packages/spacy/training/iob_utils.py:144: UserWarning: [W030] Some entities could not be aligned in the text \"AVISO DE EDITAL EDITAL - PREGÃO PRESENCIAL SRP Nº ...\" with entities \"[(25, 58, 'IDENTIFICACAO'), (140, 248, 'OBJETO')]\". Use `spacy.training.offsets_to_biluo_tags(nlp.make_doc(text), entities)` to check the alignment. Misaligned entities ('-') will be ignored during training.\n",
            "  entities=ent_str[:50] + \"...\" if len(ent_str) > 50 else ent_str,\n",
            "/usr/local/lib/python3.7/dist-packages/spacy/training/iob_utils.py:144: UserWarning: [W030] Some entities could not be aligned in the text \"ESTADO DO ACRE PREFEITURA MUNICIPAL DE PORTO ACRE ...\" with entities \"[(15, 49, 'ENTE'), (109, 136, 'IDENTIFICACAO'), (1...\". Use `spacy.training.offsets_to_biluo_tags(nlp.make_doc(text), entities)` to check the alignment. Misaligned entities ('-') will be ignored during training.\n",
            "  entities=ent_str[:50] + \"...\" if len(ent_str) > 50 else ent_str,\n",
            "/usr/local/lib/python3.7/dist-packages/spacy/training/iob_utils.py:144: UserWarning: [W030] Some entities could not be aligned in the text \"ESTADO ACRE PREFEITURA MUNICIPAL DE CRUZEIRO DO SU...\" with entities \"[(12, 51, 'ENTE'), (77, 112, 'IDENTIFICACAO'), (12...\". Use `spacy.training.offsets_to_biluo_tags(nlp.make_doc(text), entities)` to check the alignment. Misaligned entities ('-') will be ignored during training.\n",
            "  entities=ent_str[:50] + \"...\" if len(ent_str) > 50 else ent_str,\n",
            "/usr/local/lib/python3.7/dist-packages/spacy/training/iob_utils.py:144: UserWarning: [W030] Some entities could not be aligned in the text \"ESTADO DO ACRE PREFEITURA MUNICIPAL DE PORTO ACRE ...\" with entities \"[(15, 49, 'ENTE'), (109, 144, 'IDENTIFICACAO'), (1...\". Use `spacy.training.offsets_to_biluo_tags(nlp.make_doc(text), entities)` to check the alignment. Misaligned entities ('-') will be ignored during training.\n",
            "  entities=ent_str[:50] + \"...\" if len(ent_str) > 50 else ent_str,\n",
            "/usr/local/lib/python3.7/dist-packages/spacy/training/iob_utils.py:144: UserWarning: [W030] Some entities could not be aligned in the text \"ESTADO DO ACRE PREFEITURA MUNICIPAL DE PORTO WALTE...\" with entities \"[(15, 51, 'ENTE'), (114, 141, 'IDENTIFICACAO'), (1...\". Use `spacy.training.offsets_to_biluo_tags(nlp.make_doc(text), entities)` to check the alignment. Misaligned entities ('-') will be ignored during training.\n",
            "  entities=ent_str[:50] + \"...\" if len(ent_str) > 50 else ent_str,\n",
            "/usr/local/lib/python3.7/dist-packages/spacy/training/iob_utils.py:144: UserWarning: [W030] Some entities could not be aligned in the text \"ESTADO DO ACRE PREFEITURA MUNICIPAL DE ACRELANDIA ...\" with entities \"[(15, 49, 'ENTE'), (68, 102, 'IDENTIFICACAO'), (15...\". Use `spacy.training.offsets_to_biluo_tags(nlp.make_doc(text), entities)` to check the alignment. Misaligned entities ('-') will be ignored during training.\n",
            "  entities=ent_str[:50] + \"...\" if len(ent_str) > 50 else ent_str,\n",
            "/usr/local/lib/python3.7/dist-packages/spacy/training/iob_utils.py:144: UserWarning: [W030] Some entities could not be aligned in the text \"AVISO DE LICITAÇÃO PREGÃO ELETRÔNICO PELO SISTEMA ...\" with entities \"[(19, 99, 'IDENTIFICACAO'), (107, 218, 'OBJETO')]\". Use `spacy.training.offsets_to_biluo_tags(nlp.make_doc(text), entities)` to check the alignment. Misaligned entities ('-') will be ignored during training.\n",
            "  entities=ent_str[:50] + \"...\" if len(ent_str) > 50 else ent_str,\n",
            "/usr/local/lib/python3.7/dist-packages/spacy/training/iob_utils.py:144: UserWarning: [W030] Some entities could not be aligned in the text \"AVISO DE LICITAÇÃO PREGÃO ELETRÔNICO PELO SISTEMA ...\" with entities \"[(19, 95, 'IDENTIFICACAO'), (104, 177, 'OBJETO')]\". Use `spacy.training.offsets_to_biluo_tags(nlp.make_doc(text), entities)` to check the alignment. Misaligned entities ('-') will be ignored during training.\n",
            "  entities=ent_str[:50] + \"...\" if len(ent_str) > 50 else ent_str,\n",
            "/usr/local/lib/python3.7/dist-packages/spacy/training/iob_utils.py:144: UserWarning: [W030] Some entities could not be aligned in the text \"AVISO DE LICITAÇÃO EDITAL DO PREGÃO PRESENCIAL SRP...\" with entities \"[(29, 62, 'IDENTIFICACAO'), (107, 207, 'OBJETO'), ...\". Use `spacy.training.offsets_to_biluo_tags(nlp.make_doc(text), entities)` to check the alignment. Misaligned entities ('-') will be ignored during training.\n",
            "  entities=ent_str[:50] + \"...\" if len(ent_str) > 50 else ent_str,\n",
            "/usr/local/lib/python3.7/dist-packages/spacy/training/iob_utils.py:144: UserWarning: [W030] Some entities could not be aligned in the text \"SECRETARIA DE ESTADO DE PLANEJAMENTO E GESTÃO - SE...\" with entities \"[(0, 54, 'ENTE'), (115, 200, 'IDENTIFICACAO'), (20...\". Use `spacy.training.offsets_to_biluo_tags(nlp.make_doc(text), entities)` to check the alignment. Misaligned entities ('-') will be ignored during training.\n",
            "  entities=ent_str[:50] + \"...\" if len(ent_str) > 50 else ent_str,\n",
            "/usr/local/lib/python3.7/dist-packages/spacy/training/iob_utils.py:144: UserWarning: [W030] Some entities could not be aligned in the text \"ESTADO DO ACRE MUNICÍPIO DE XAPURI   AVISO DE LICI...\" with entities \"[(15, 34, 'ENTE'), (249, 282, 'IDENTIFICACAO'), (3...\". Use `spacy.training.offsets_to_biluo_tags(nlp.make_doc(text), entities)` to check the alignment. Misaligned entities ('-') will be ignored during training.\n",
            "  entities=ent_str[:50] + \"...\" if len(ent_str) > 50 else ent_str,\n",
            "/usr/local/lib/python3.7/dist-packages/spacy/training/iob_utils.py:144: UserWarning: [W030] Some entities could not be aligned in the text \"ESTADO DO ACRE PREFEITURA MUNICIPAL DE PORTO ACRE ...\" with entities \"[(15, 49, 'ENTE'), (109, 137, 'IDENTIFICACAO'), (1...\". Use `spacy.training.offsets_to_biluo_tags(nlp.make_doc(text), entities)` to check the alignment. Misaligned entities ('-') will be ignored during training.\n",
            "  entities=ent_str[:50] + \"...\" if len(ent_str) > 50 else ent_str,\n",
            "/usr/local/lib/python3.7/dist-packages/spacy/training/iob_utils.py:144: UserWarning: [W030] Some entities could not be aligned in the text \"ESTADO DO ACRE PREFEITURA MUNICIPAL DE BUJARI AVIS...\" with entities \"[(15, 45, 'ENTE'), (65, 110, 'IDENTIFICACAO'), (25...\". Use `spacy.training.offsets_to_biluo_tags(nlp.make_doc(text), entities)` to check the alignment. Misaligned entities ('-') will be ignored during training.\n",
            "  entities=ent_str[:50] + \"...\" if len(ent_str) > 50 else ent_str,\n",
            "/usr/local/lib/python3.7/dist-packages/spacy/training/iob_utils.py:144: UserWarning: [W030] Some entities could not be aligned in the text \"PREFEITURA MUNICIPAL DE FEIJÓ COMISSÃO PERMANENTE ...\" with entities \"[(0, 29, 'ENTE'), (83, 116, 'IDENTIFICACAO'), (125...\". Use `spacy.training.offsets_to_biluo_tags(nlp.make_doc(text), entities)` to check the alignment. Misaligned entities ('-') will be ignored during training.\n",
            "  entities=ent_str[:50] + \"...\" if len(ent_str) > 50 else ent_str,\n",
            "/usr/local/lib/python3.7/dist-packages/spacy/training/iob_utils.py:144: UserWarning: [W030] Some entities could not be aligned in the text \"AVISO DE LICITAÇÃO RDC ELETRÔNICO N 006/2021 – DER...\" with entities \"[(47, 53, 'ORGAO')]\". Use `spacy.training.offsets_to_biluo_tags(nlp.make_doc(text), entities)` to check the alignment. Misaligned entities ('-') will be ignored during training.\n",
            "  entities=ent_str[:50] + \"...\" if len(ent_str) > 50 else ent_str,\n",
            "/usr/local/lib/python3.7/dist-packages/spacy/training/iob_utils.py:144: UserWarning: [W030] Some entities could not be aligned in the text \"ESTADO ACRE PREFEITURA MUNICIPAL DE RODRIGUES ALVE...\" with entities \"[(12, 50, 'ENTE'), (71, 103, 'IDENTIFICACAO'), (11...\". Use `spacy.training.offsets_to_biluo_tags(nlp.make_doc(text), entities)` to check the alignment. Misaligned entities ('-') will be ignored during training.\n",
            "  entities=ent_str[:50] + \"...\" if len(ent_str) > 50 else ent_str,\n",
            "/usr/local/lib/python3.7/dist-packages/spacy/training/iob_utils.py:144: UserWarning: [W030] Some entities could not be aligned in the text \"ESTADO DO ACRE PREFEITURA MUNICIPAL DE SENA MADURE...\" with entities \"[(15, 53, 'ENTE'), (73, 109, 'IDENTIFICACAO'), (35...\". Use `spacy.training.offsets_to_biluo_tags(nlp.make_doc(text), entities)` to check the alignment. Misaligned entities ('-') will be ignored during training.\n",
            "  entities=ent_str[:50] + \"...\" if len(ent_str) > 50 else ent_str,\n",
            "/usr/local/lib/python3.7/dist-packages/spacy/training/iob_utils.py:144: UserWarning: [W030] Some entities could not be aligned in the text \"Aviso de Licitação Processo Administrativo nº 498/...\" with entities \"[(56, 84, 'IDENTIFICACAO'), (92, 131, 'ORGAO'), (3...\". Use `spacy.training.offsets_to_biluo_tags(nlp.make_doc(text), entities)` to check the alignment. Misaligned entities ('-') will be ignored during training.\n",
            "  entities=ent_str[:50] + \"...\" if len(ent_str) > 50 else ent_str,\n",
            "/usr/local/lib/python3.7/dist-packages/spacy/training/iob_utils.py:144: UserWarning: [W030] Some entities could not be aligned in the text \"ESTADO ACRE PREFEITURA MUNICIPAL DE CRUZEIRO DO SU...\" with entities \"[(12, 51, 'ENTE'), (71, 99, 'IDENTIFICACAO'), (107...\". Use `spacy.training.offsets_to_biluo_tags(nlp.make_doc(text), entities)` to check the alignment. Misaligned entities ('-') will be ignored during training.\n",
            "  entities=ent_str[:50] + \"...\" if len(ent_str) > 50 else ent_str,\n",
            "/usr/local/lib/python3.7/dist-packages/spacy/training/iob_utils.py:144: UserWarning: [W030] Some entities could not be aligned in the text \"ESTADO DO ACRE PREFEITURA MUNICIPAL DE BRASILEIA C...\" with entities \"[(15, 48, 'ENTE'), (102, 130, 'IDENTIFICACAO'), (1...\". Use `spacy.training.offsets_to_biluo_tags(nlp.make_doc(text), entities)` to check the alignment. Misaligned entities ('-') will be ignored during training.\n",
            "  entities=ent_str[:50] + \"...\" if len(ent_str) > 50 else ent_str,\n",
            "/usr/local/lib/python3.7/dist-packages/spacy/training/iob_utils.py:144: UserWarning: [W030] Some entities could not be aligned in the text \"PREFEITURA MUNICIPAL DE RIO BRANCO - PMRB SECRETAR...\" with entities \"[(0, 34, 'ENTE'), (245, 279, 'IDENTIFICACAO'), (39...\". Use `spacy.training.offsets_to_biluo_tags(nlp.make_doc(text), entities)` to check the alignment. Misaligned entities ('-') will be ignored during training.\n",
            "  entities=ent_str[:50] + \"...\" if len(ent_str) > 50 else ent_str,\n",
            "/usr/local/lib/python3.7/dist-packages/spacy/training/iob_utils.py:144: UserWarning: [W030] Some entities could not be aligned in the text \"AVISO DE LICITAÇÃO TOMADA DE PREÇOS N 044/2021 – S...\" with entities \"[(19, 61, 'IDENTIFICACAO'), (71, 156, 'OBJETO')]\". Use `spacy.training.offsets_to_biluo_tags(nlp.make_doc(text), entities)` to check the alignment. Misaligned entities ('-') will be ignored during training.\n",
            "  entities=ent_str[:50] + \"...\" if len(ent_str) > 50 else ent_str,\n",
            "/usr/local/lib/python3.7/dist-packages/spacy/training/iob_utils.py:144: UserWarning: [W030] Some entities could not be aligned in the text \"AVISO DE LICITAÇÃO TOMADA DE PREÇO Nº 03/2021 OBJE...\" with entities \"[(19, 45, 'IDENTIFICACAO'), (53, 225, 'OBJETO'), (...\". Use `spacy.training.offsets_to_biluo_tags(nlp.make_doc(text), entities)` to check the alignment. Misaligned entities ('-') will be ignored during training.\n",
            "  entities=ent_str[:50] + \"...\" if len(ent_str) > 50 else ent_str,\n",
            "/usr/local/lib/python3.7/dist-packages/spacy/training/iob_utils.py:144: UserWarning: [W030] Some entities could not be aligned in the text \"INSTITUTO DE GESTÃO DE SAÚDE DO ACRE AVISO DE LICI...\" with entities \"[(0, 36, 'ENTE'), (57, 99, 'IDENTIFICACAO'), (107,...\". Use `spacy.training.offsets_to_biluo_tags(nlp.make_doc(text), entities)` to check the alignment. Misaligned entities ('-') will be ignored during training.\n",
            "  entities=ent_str[:50] + \"...\" if len(ent_str) > 50 else ent_str,\n",
            "/usr/local/lib/python3.7/dist-packages/spacy/training/iob_utils.py:144: UserWarning: [W030] Some entities could not be aligned in the text \"AVISO DE LICITAÇÃO CARTA-CONVITE Nº 8/2021 Process...\" with entities \"[(25, 42, 'IDENTIFICACAO'), (494, 594, 'OBJETO'), ...\". Use `spacy.training.offsets_to_biluo_tags(nlp.make_doc(text), entities)` to check the alignment. Misaligned entities ('-') will be ignored during training.\n",
            "  entities=ent_str[:50] + \"...\" if len(ent_str) > 50 else ent_str,\n",
            "/usr/local/lib/python3.7/dist-packages/spacy/training/iob_utils.py:144: UserWarning: [W030] Some entities could not be aligned in the text \"AVISO DE LICITAÇÃO – TOMADA DE PREÇOS Nº. 001/2021...\" with entities \"[(21, 61, 'IDENTIFICACAO'), (70, 169, 'OBJETO'), (...\". Use `spacy.training.offsets_to_biluo_tags(nlp.make_doc(text), entities)` to check the alignment. Misaligned entities ('-') will be ignored during training.\n",
            "  entities=ent_str[:50] + \"...\" if len(ent_str) > 50 else ent_str,\n",
            "/usr/local/lib/python3.7/dist-packages/spacy/training/iob_utils.py:144: UserWarning: [W030] Some entities could not be aligned in the text \"ESTADO DO ACRE PODER EXECUTIVO PREFEITURA MUNICIPA...\" with entities \"[(31, 68, 'ENTE'), (131, 185, 'IDENTIFICACAO'), (1...\". Use `spacy.training.offsets_to_biluo_tags(nlp.make_doc(text), entities)` to check the alignment. Misaligned entities ('-') will be ignored during training.\n",
            "  entities=ent_str[:50] + \"...\" if len(ent_str) > 50 else ent_str,\n",
            "/usr/local/lib/python3.7/dist-packages/spacy/training/iob_utils.py:144: UserWarning: [W030] Some entities could not be aligned in the text \"AVISO DE LICITAÇÃO A CÂMARA MUNICIPAL DE RIO BRANC...\" with entities \"[(21, 51, 'ENTE'), (343, 376, 'IDENTIFICACAO'), (4...\". Use `spacy.training.offsets_to_biluo_tags(nlp.make_doc(text), entities)` to check the alignment. Misaligned entities ('-') will be ignored during training.\n",
            "  entities=ent_str[:50] + \"...\" if len(ent_str) > 50 else ent_str,\n",
            "/usr/local/lib/python3.7/dist-packages/spacy/training/iob_utils.py:144: UserWarning: [W030] Some entities could not be aligned in the text \"GOVERNO DO ESTADO DO ACRE PREFEITURA MUNICIPAL DE ...\" with entities \"[(26, 58, 'ENTE'), (78, 105, 'IDENTIFICACAO'), (14...\". Use `spacy.training.offsets_to_biluo_tags(nlp.make_doc(text), entities)` to check the alignment. Misaligned entities ('-') will be ignored during training.\n",
            "  entities=ent_str[:50] + \"...\" if len(ent_str) > 50 else ent_str,\n",
            "/usr/local/lib/python3.7/dist-packages/spacy/training/iob_utils.py:144: UserWarning: [W030] Some entities could not be aligned in the text \"SECRETARIA DE ESTADO DE PLANEJAMENTO E GESTÃO - SE...\" with entities \"[(147, 155, 'ORGAO')]\". Use `spacy.training.offsets_to_biluo_tags(nlp.make_doc(text), entities)` to check the alignment. Misaligned entities ('-') will be ignored during training.\n",
            "  entities=ent_str[:50] + \"...\" if len(ent_str) > 50 else ent_str,\n",
            "/usr/local/lib/python3.7/dist-packages/spacy/training/iob_utils.py:144: UserWarning: [W030] Some entities could not be aligned in the text \"ESTADO DO ACRE PREFEITURA MUNICIPAL DE SENA MADURE...\" with entities \"[(15, 52, 'ENTE'), (73, 109, 'IDENTIFICACAO'), (35...\". Use `spacy.training.offsets_to_biluo_tags(nlp.make_doc(text), entities)` to check the alignment. Misaligned entities ('-') will be ignored during training.\n",
            "  entities=ent_str[:50] + \"...\" if len(ent_str) > 50 else ent_str,\n",
            "/usr/local/lib/python3.7/dist-packages/spacy/training/iob_utils.py:144: UserWarning: [W030] Some entities could not be aligned in the text \"GOVERNO DO ESTADO DO ACRE SECRETARIA DE INDÚSTRIA,...\" with entities \"[(26, 79, 'ENTE'), (140, 182, 'IDENTIFICACAO'), (1...\". Use `spacy.training.offsets_to_biluo_tags(nlp.make_doc(text), entities)` to check the alignment. Misaligned entities ('-') will be ignored during training.\n",
            "  entities=ent_str[:50] + \"...\" if len(ent_str) > 50 else ent_str,\n",
            "/usr/local/lib/python3.7/dist-packages/spacy/training/iob_utils.py:144: UserWarning: [W030] Some entities could not be aligned in the text \"ESTADO DO ACRE MUNICIPIO DE TARAUACÁ COMISSÃO PERM...\" with entities \"[(15, 36, 'ENTE'), (91, 119, 'IDENTIFICACAO'), (15...\". Use `spacy.training.offsets_to_biluo_tags(nlp.make_doc(text), entities)` to check the alignment. Misaligned entities ('-') will be ignored during training.\n",
            "  entities=ent_str[:50] + \"...\" if len(ent_str) > 50 else ent_str,\n"
          ]
        },
        {
          "output_type": "stream",
          "name": "stdout",
          "text": [
            "Terminou:  0\n",
            "{'ner': 8355.99767404257}\n",
            "Terminou:  1\n",
            "{'ner': 3233.9379090903394}\n",
            "Terminou:  2\n",
            "{'ner': 2966.874569019922}\n",
            "Terminou:  3\n",
            "{'ner': 2624.6217588808922}\n",
            "Terminou:  4\n",
            "{'ner': 2569.79039096665}\n",
            "Terminou:  5\n",
            "{'ner': 2496.760172214714}\n",
            "Terminou:  6\n",
            "{'ner': 2353.9132247998127}\n",
            "Terminou:  7\n",
            "{'ner': 2409.65606262809}\n",
            "Terminou:  8\n",
            "{'ner': 2449.0278929942633}\n",
            "Terminou:  9\n",
            "{'ner': 2313.2568167131135}\n",
            "Terminou:  10\n",
            "{'ner': 2304.748072803609}\n",
            "Terminou:  11\n",
            "{'ner': 2306.696631370842}\n",
            "Terminou:  12\n",
            "{'ner': 2290.039374136961}\n",
            "Terminou:  13\n",
            "{'ner': 2294.9763131881427}\n",
            "Terminou:  14\n",
            "{'ner': 2310.6589865588844}\n",
            "Terminou:  15\n",
            "{'ner': 2276.8781879951634}\n",
            "Terminou:  16\n",
            "{'ner': 2316.646998973065}\n",
            "Terminou:  17\n",
            "{'ner': 2418.817160536363}\n",
            "Terminou:  18\n",
            "{'ner': 2236.4582428270164}\n",
            "Terminou:  19\n",
            "{'ner': 2222.5478233916565}\n",
            "Terminou:  20\n",
            "{'ner': 2160.5798958888017}\n",
            "Terminou:  21\n",
            "{'ner': 2238.1020903454632}\n",
            "Terminou:  22\n",
            "{'ner': 2234.7579323760997}\n",
            "Terminou:  23\n",
            "{'ner': 2153.2610975063694}\n",
            "Terminou:  24\n",
            "{'ner': 2254.918705725618}\n",
            "Terminou:  25\n",
            "{'ner': 2216.7676056944715}\n",
            "Terminou:  26\n",
            "{'ner': 2166.7560662972214}\n",
            "Terminou:  27\n",
            "{'ner': 2174.8405856602867}\n",
            "Terminou:  28\n",
            "{'ner': 2185.931545220733}\n",
            "Terminou:  29\n",
            "{'ner': 2281.690903764122}\n",
            "Terminou:  30\n",
            "{'ner': 2279.209829055784}\n",
            "Terminou:  31\n",
            "{'ner': 2316.9950133245284}\n",
            "Terminou:  32\n",
            "{'ner': 2522.0328286384906}\n",
            "Terminou:  33\n",
            "{'ner': 2330.280334550137}\n",
            "Terminou:  34\n",
            "{'ner': 2267.0680851103693}\n",
            "Terminou:  35\n",
            "{'ner': 2269.3489293019425}\n",
            "Terminou:  36\n",
            "{'ner': 2417.7733418974694}\n",
            "Terminou:  37\n",
            "{'ner': 2462.883082368575}\n",
            "Terminou:  38\n",
            "{'ner': 2471.683865292208}\n",
            "Terminou:  39\n",
            "{'ner': 2447.5881038256007}\n",
            "Terminou:  40\n",
            "{'ner': 2399.8389328752182}\n",
            "Terminou:  41\n",
            "{'ner': 2341.6141994586333}\n",
            "Terminou:  42\n",
            "{'ner': 2406.877180823761}\n",
            "Terminou:  43\n",
            "{'ner': 2442.164651736164}\n",
            "Terminou:  44\n",
            "{'ner': 2253.5941217884197}\n",
            "Terminou:  45\n",
            "{'ner': 2421.464058403062}\n",
            "Terminou:  46\n",
            "{'ner': 2437.6165817045717}\n",
            "Terminou:  47\n",
            "{'ner': 2389.3164549527733}\n",
            "Terminou:  48\n",
            "{'ner': 2535.1499792890504}\n",
            "Terminou:  49\n",
            "{'ner': 2466.460656792828}\n",
            "Terminou:  50\n",
            "{'ner': 2317.528332416281}\n",
            "Terminou:  51\n",
            "{'ner': 2273.841228621239}\n",
            "Terminou:  52\n",
            "{'ner': 2198.5666900940023}\n",
            "Terminou:  53\n",
            "{'ner': 2110.189530831645}\n",
            "Terminou:  54\n",
            "{'ner': 2336.9210619193213}\n",
            "Terminou:  55\n",
            "{'ner': 2220.364107200075}\n",
            "Terminou:  56\n",
            "{'ner': 2429.5895427213823}\n",
            "Terminou:  57\n",
            "{'ner': 2213.0964055526524}\n",
            "Terminou:  58\n",
            "{'ner': 2441.1165208675993}\n",
            "Terminou:  59\n",
            "{'ner': 2408.319986242813}\n",
            "Terminou:  60\n",
            "{'ner': 2306.214882969908}\n",
            "Terminou:  61\n",
            "{'ner': 2275.608276016023}\n",
            "Terminou:  62\n",
            "{'ner': 2535.160132260579}\n",
            "Terminou:  63\n",
            "{'ner': 2271.7465464498323}\n",
            "Terminou:  64\n",
            "{'ner': 2461.081010581499}\n",
            "Terminou:  65\n",
            "{'ner': 2333.537576489783}\n",
            "Terminou:  66\n",
            "{'ner': 2275.619647206076}\n",
            "Terminou:  67\n",
            "{'ner': 2321.943854938356}\n",
            "Terminou:  68\n",
            "{'ner': 2218.578283949793}\n",
            "Terminou:  69\n",
            "{'ner': 2423.365047858047}\n",
            "Terminou:  70\n",
            "{'ner': 2561.0581773149465}\n",
            "Terminou:  71\n",
            "{'ner': 2319.0050756261885}\n",
            "Terminou:  72\n",
            "{'ner': 2227.0031595102687}\n",
            "Terminou:  73\n",
            "{'ner': 2419.633576086176}\n",
            "Terminou:  74\n",
            "{'ner': 2391.0674517345356}\n",
            "Terminou:  75\n",
            "{'ner': 2749.956606430358}\n",
            "Terminou:  76\n",
            "{'ner': 2471.4525100870956}\n",
            "Terminou:  77\n",
            "{'ner': 2480.108106821377}\n",
            "Terminou:  78\n",
            "{'ner': 2400.776035108057}\n",
            "Terminou:  79\n",
            "{'ner': 2415.262871002289}\n",
            "Terminou:  80\n",
            "{'ner': 2706.4528207068643}\n",
            "Terminou:  81\n",
            "{'ner': 2415.261985349639}\n",
            "Terminou:  82\n",
            "{'ner': 2359.1310928456996}\n",
            "Terminou:  83\n",
            "{'ner': 2521.5803304785195}\n",
            "Terminou:  84\n",
            "{'ner': 2506.8366487217527}\n",
            "Terminou:  85\n",
            "{'ner': 2332.723328072834}\n",
            "Terminou:  86\n",
            "{'ner': 2613.316557312566}\n",
            "Terminou:  87\n",
            "{'ner': 2338.1967349078136}\n",
            "Terminou:  88\n",
            "{'ner': 2621.1895209226977}\n",
            "Terminou:  89\n",
            "{'ner': 2505.415536526894}\n",
            "Terminou:  90\n",
            "{'ner': 2349.4100306424675}\n",
            "Terminou:  91\n",
            "{'ner': 2270.529184227768}\n",
            "Terminou:  92\n",
            "{'ner': 2580.282316427079}\n",
            "Terminou:  93\n",
            "{'ner': 2423.8994135420467}\n",
            "Terminou:  94\n",
            "{'ner': 2387.84842933042}\n",
            "Terminou:  95\n",
            "{'ner': 2215.574436896503}\n",
            "Terminou:  96\n",
            "{'ner': 2467.481581960072}\n",
            "Terminou:  97\n",
            "{'ner': 2474.770361920959}\n",
            "Terminou:  98\n",
            "{'ner': 2286.0350785051473}\n",
            "Terminou:  99\n",
            "{'ner': 2611.4024263857646}\n"
          ]
        }
      ]
    },
    {
      "cell_type": "code",
      "source": [
        "plt.plot(list_losses)\n",
        "plt.title(\"Progressão de erro\")\n",
        "plt.xlabel(\"Épocas\")\n",
        "plt.ylabel(\"Erro\")"
      ],
      "metadata": {
        "colab": {
          "base_uri": "https://localhost:8080/",
          "height": 314
        },
        "outputId": "1062cb78-35cc-4e57-ab3f-e95f69c61e4a",
        "id": "ff9rGXvCG_Rm"
      },
      "execution_count": 49,
      "outputs": [
        {
          "output_type": "execute_result",
          "data": {
            "text/plain": [
              "Text(0, 0.5, 'Erro')"
            ]
          },
          "metadata": {},
          "execution_count": 49
        },
        {
          "output_type": "display_data",
          "data": {
            "text/plain": [
              "<Figure size 432x288 with 1 Axes>"
            ],
            "image/png": "[encoded data removed]"
          },
          "metadata": {
            "needs_background": "light"
          }
        }
      ]
    },
    {
      "cell_type": "code",
      "source": [
        "def format_ent(text, ents):\n",
        "    result = []\n",
        "    for ent in ents:\n",
        "        result.append((text[ent[0]: ent[1]], ent[2]))\n",
        "    return result"
      ],
      "metadata": {
        "id": "HHIp6QRLfbTX"
      },
      "execution_count": 50,
      "outputs": []
    },
    {
      "cell_type": "code",
      "source": [
        "for text, ents_true in test_dataset[0:10]:\n",
        "    doc = nlp(text)\n",
        "    print('Entities: ', [(ent.text, ent.label_) for ent in doc.ents])\n",
        "    print('Ent.true: ', format_ent(text, ents_true['entities']))\n",
        "    print(\"-----------\")"
      ],
      "metadata": {
        "id": "pf-59O19yRRv",
        "colab": {
          "base_uri": "https://localhost:8080/"
        },
        "outputId": "b260c750-d9e5-4944-cf19-cd2ec709efa3"
      },
      "execution_count": 51,
      "outputs": [
        {
          "output_type": "stream",
          "name": "stdout",
          "text": [
            "Entities:  [('PREGÃO PRESENCIAL Nº 003/2021', 'IDENTIFICACAO'), ('Contratação de empresa para aquisição de veículo utilitário tipo caminhonete', 'OBJETO')]\n",
            "Ent.true:  [('PREGÃO PRESENCIAL Nº 003/2021', 'IDENTIFICACAO'), ('Contratação de empresa para aquisição de veículo utilitário tipo caminhonete', 'OBJETO'), ('Câmara Municipal de Feijó', 'ORGAO'), ('Câmara Municipal de Feijó', 'ENTE')]\n",
            "-----------\n",
            "Entities:  [('PREFEITURA MUNICIPAL DE RIO BRANCO', 'ENTE'), ('PREGÃO ELETRÔNICO SRP Nº 079/2021', 'IDENTIFICACAO'), ('Aquisição de equipamentos permanentes (eletrônicos de áudio e mídia e musicais)', 'OBJETO'), ('Fundação Municipal de Cultura, Esporte e Lazer Garibaldi Brasil', 'ORGAO')]\n",
            "Ent.true:  [('PREFEITURA MUNICIPAL DE RIO BRANCO', 'ENTE'), ('PREGÃO ELETRÔNICO SRP Nº 079/2021', 'IDENTIFICACAO'), ('Aquisição de equipamentos permanentes (eletrônicos de áudio e mídia e musicais)', 'OBJETO'), ('Fundação Municipal de Cultura, Esporte e Lazer Garibaldi Brasil', 'ORGAO')]\n",
            "-----------\n",
            "Entities:  [('PREFEITURA MUNICIPAL DE RIO BRANCO', 'ENTE'), ('TOMADA DE PREÇOS Nº 012/2021', 'IDENTIFICACAO'), ('CONTRATAÇÃO DE EMPRESA DE ENGENHARIA PARA A EXECUÇÃO DOS SERVIÇOS DE CONSTRUÇÃO DE PRAÇA PÚBLICA NO CONJUNTO UNIVERSITÁRIO', 'OBJETO')]\n",
            "Ent.true:  [('PREFEITURA MUNICIPAL DE RIO BRANCO', 'ENTE'), ('TOMADA DE PREÇOS Nº 012/2021', 'IDENTIFICACAO'), ('CONTRATAÇÃO DE EMPRESA DE ENGENHARIA PARA A EXECUÇÃO DOS SERVIÇOS DE CONSTRUÇÃO DE PRAÇA PÚBLICA NO CONJUNTO UNIVERSITÁRIO', 'OBJETO'), ('Secretaria Municipal de Infraestrutura e Mobilidade Urbana -  SEINFRA', 'ORGAO')]\n",
            "-----------\n",
            "Entities:  [('PREFEITURA MUNICIPAL DE PORTO WALTER', 'ENTE'), ('Pregão Presencial SRP nº 048/2021', 'IDENTIFICACAO'), ('Prefeitura Municipal de Porto Walter', 'ORGAO'), ('Contratação de serviços para limpeza e desobstrução de igarapés no município de Porto Walter', 'OBJETO')]\n",
            "Ent.true:  [('PREFEITURA MUNICIPAL DE PORTO WALTER', 'ENTE'), ('Pregão Presencial SRP nº 048/2021', 'IDENTIFICACAO'), ('Prefeitura Municipal de Porto Walter', 'ORGAO'), ('Contratação de serviços para limpeza e desobstrução de igarapés no município de Porto Walter', 'OBJETO')]\n",
            "-----------\n",
            "Entities:  [('PREFEITURA MUNICIPAL DE JORDÃO', 'ENTE'), ('PREGÃO ELETRÔNICO Nº. 012/2021 – CPL/JORDÃO', 'IDENTIFICACAO')]\n",
            "Ent.true:  [('PREFEITURA MUNICIPAL DE JORDÃO', 'ENTE'), ('PREGÃO ELETRÔNICO Nº. 012/2021 – CPL/JORDÃO', 'IDENTIFICACAO'), ('Aquisição de  Materias de Consumo (tipo hospitalar e outros)', 'OBJETO')]\n",
            "-----------\n",
            "Entities:  [('PREFEITURA MUNICIPAL DE MARECHAL THAUMATURGO', 'ENTE'), ('TOMADA DE PREÇOS nº 017/2021', 'IDENTIFICACAO'), ('Prefeitura Municipal de Marechal Thaumaturgo', 'ORGAO'), ('REFORMA DE ESCOLA JUSTINIANO DE SERPA', 'OBJETO')]\n",
            "Ent.true:  [('PREFEITURA MUNICIPAL DE MARECHAL THAUMATURGO', 'ENTE'), ('TOMADA DE PREÇOS nº 017/2021', 'IDENTIFICACAO'), ('Prefeitura Municipal de Marechal Thaumaturgo', 'ORGAO'), ('REFORMA DE ESCOLA JUSTINIANO DE SERPA', 'OBJETO')]\n",
            "-----------\n",
            "Entities:  [('PREFEITURA MUNICIPAL DE RIO BRANCO', 'ENTE'), ('TOMADA DE PREÇOS Nº. 007/2021', 'IDENTIFICACAO'), ('Contratação de empresa de engenharia para a execução dos  serviços de Reforma da Praça do Bairro Bela Vista, no município de Rio  Branco – Acre', 'OBJETO'), ('Secretaria Municipal de Infraestrutura e Mobilidade Urbana -  SEINFRA', 'ORGAO')]\n",
            "Ent.true:  [('PREFEITURA MUNICIPAL DE RIO BRANCO', 'ENTE'), ('TOMADA DE PREÇOS Nº. 007/2021', 'IDENTIFICACAO'), ('Contratação de empresa de engenharia para a execução dos  serviços de Reforma da Praça do Bairro Bela Vista, no município de Rio  Branco – Acre', 'OBJETO')]\n",
            "-----------\n",
            "Entities:  [('Contratação de empresa (pessoa jurídica) para implantação de  recapeamento de vias Urbanas no Município de Rio Branco: Lote I – Via  Chico Mendes e Lote II – Avenida Antônio da Rocha Viana', 'OBJETO')]\n",
            "Ent.true:  [('CONCORRÊNCIA Nº 027/2021 – DERACRE', 'IDENTIFICACAO'), ('Contratação de empresa (pessoa jurídica) para implantação de  recapeamento de vias Urbanas no Município de Rio Branco: Lote I – Via  Chico Mendes e Lote II – Avenida Antônio da Rocha Viana', 'OBJETO')]\n",
            "-----------\n",
            "Entities:  [('MUNICÍPIO DE TARAUACÁ', 'ENTE'), ('PREGÃO ELETRÔNICO Nº 004/2021', 'IDENTIFICACAO'), ('Aquisição  de Caminhão com Carroceria de Madeira', 'OBJETO')]\n",
            "Ent.true:  [('MUNICÍPIO DE TARAUACÁ', 'ENTE'), ('PREGÃO ELETRÔNICO Nº 004/2021', 'IDENTIFICACAO'), ('Aquisição  de Caminhão com Carroceria de Madeira - tipo carga seca', 'OBJETO')]\n",
            "-----------\n",
            "Entities:  [('PREFEITURA MUNICIPAL DE EPITACIOLÂNDIA', 'ENTE'), ('PREGÃO ELETRÔNICO N° 005/2021', 'IDENTIFICACAO'), ('Aquisição de caminhão em atendimento ao Convênio n°  864180/2018/Ministério da Defesa visando suprir a demanda da', 'OBJETO'), ('Prefeitura Municipal de Epitaciolândia', 'ORGAO')]\n",
            "Ent.true:  [('PREFEITURA MUNICIPAL DE EPITACIOLÂNDIA', 'ENTE'), ('PREGÃO ELETRÔNICO N° 005/2021', 'IDENTIFICACAO'), ('Aquisição de caminhão em atendimento ao Convênio n°  864180/2018/Ministério da Defesa visando suprir a demanda da Prefeitura Municipal de Epitaciolândia/AC', 'OBJETO')]\n",
            "-----------\n"
          ]
        }
      ]
    },
    {
      "cell_type": "code",
      "source": [
        "def get_entity_options(random_colors=False):\n",
        "    \"\"\"\n",
        "    generating color options for visualizing the named entities\n",
        "    \"\"\"\n",
        "    def color_generator(number_of_colors):\n",
        "        color = [\"#\"+''.join([random.choice('0123456789ABCDEF') for j in range(6)])\n",
        "                 for i in range(number_of_colors)]\n",
        "        return color\n",
        "\n",
        "    entities = [\"IDENTIFICACAO\", \"OBJETO\", \"ENTE\", \"ORGAO\"]\n",
        "\n",
        "    colors = {\"ENT\":\"#E8DAEF\"}\n",
        "    \n",
        "    entities_cat_1 = {\"IDENTIFICACAO\":\"#F9E79F\",}\n",
        "    entities_cat_2 = {\"OBJETO\":\"#82E0AA\",}\n",
        "    entities_cat_3 = {\"ENTE\":\"#D7BDE2\",}\n",
        "    entities_cat_4 = {\"ORGAO\":\"#D7XCE3\"}\n",
        "\n",
        "    entities_cats = [entities_cat_1, entities_cat_2, entities_cat_3, entities_cat_4]\n",
        "    for item in entities_cats:\n",
        "        colors = {**colors, **item}\n",
        "    \n",
        "    options = {\"ents\": entities, \"colors\": colors, \"collapse_punct\": True}\n",
        "    \n",
        "    return options"
      ],
      "metadata": {
        "id": "phYBDQ2Qn1TL"
      },
      "execution_count": 52,
      "outputs": []
    },
    {
      "cell_type": "code",
      "source": [
        "for t in test_dataset[10:20]:\n",
        "  text = nlp(t[0])\n",
        "\n",
        "  options = get_entity_options()\n",
        "  spacy.displacy.parse_ents(text).get(\"ents\")\n",
        "  spacy.displacy.render(text, style='ent', options=options, jupyter=True)\n",
        "  print(\"\\n\")"
      ],
      "metadata": {
        "id": "BOtZPUjOnq66",
        "colab": {
          "base_uri": "https://localhost:8080/",
          "height": 1000
        },
        "outputId": "fb61cbd1-6af9-43c3-b281-5003d9031642"
      },
      "execution_count": 53,
      "outputs": [
        {
          "output_type": "display_data",
          "data": {
            "text/plain": [
              "<IPython.core.display.HTML object>"
            ],
            "text/html": [
              "<span class=\"tex2jax_ignore\"><div class=\"entities\" style=\"line-height: 2.5; direction: ltr\">AVISO DE LICITAÇÃO \n",
              "<mark class=\"entity\" style=\"background: #F9E79F; padding: 0.45em 0.6em; margin: 0 0.25em; line-height: 1; border-radius: 0.35em;\">\n",
              "    SHOPPING Nº 017/2021 – SEPLAG/SEICT\n",
              "    <span style=\"font-size: 0.8em; font-weight: bold; line-height: 1; border-radius: 0.35em; vertical-align: middle; margin-left: 0.5rem\">IDENTIFICACAO</span>\n",
              "</mark>\n",
              " Objeto: \n",
              "<mark class=\"entity\" style=\"background: #82E0AA; padding: 0.45em 0.6em; margin: 0 0.25em; line-height: 1; border-radius: 0.35em;\">\n",
              "    Reforma e Manutenção da Fábrica de Biscoitos de Goma, localizada na Estrada do Paraná dos Pentecostes, Vila Assis Brasil, município de Cruzeiro do Sul - AC\n",
              "    <span style=\"font-size: 0.8em; font-weight: bold; line-height: 1; border-radius: 0.35em; vertical-align: middle; margin-left: 0.5rem\">OBJETO</span>\n",
              "</mark>\n",
              ". Fonte de Recurso: 500 (PROSER-BIRD). Edital e Informações: O edital está à disposição nos sites www.ac.gov. br e www.licitacao.ac.gov.br. Data da Abertura: 22/10/2021 às 10h, conforme preâmbulo no Edital. Rio Branco- AC, 14 de Outubro de 2021. ASS Saluana Bonfim do Nascimento  CAR Presidente da Comissão </div></span>"
            ]
          },
          "metadata": {}
        },
        {
          "output_type": "stream",
          "name": "stdout",
          "text": [
            "\n",
            "\n"
          ]
        },
        {
          "output_type": "display_data",
          "data": {
            "text/plain": [
              "<IPython.core.display.HTML object>"
            ],
            "text/html": [
              "<span class=\"tex2jax_ignore\"><div class=\"entities\" style=\"line-height: 2.5; direction: ltr\">\n",
              "<mark class=\"entity\" style=\"background: #D7BDE2; padding: 0.45em 0.6em; margin: 0 0.25em; line-height: 1; border-radius: 0.35em;\">\n",
              "    SECRETARIA DE ESTADO DE PLANEJAMENTO E GESTÃO - SEPLAG\n",
              "    <span style=\"font-size: 0.8em; font-weight: bold; line-height: 1; border-radius: 0.35em; vertical-align: middle; margin-left: 0.5rem\">ENTE</span>\n",
              "</mark>\n",
              " SECRETARIA ADJUNTA DE LICITAÇÕES - SELIC AVISO DE LICITAÇÃO \n",
              "<mark class=\"entity\" style=\"background: #F9E79F; padding: 0.45em 0.6em; margin: 0 0.25em; line-height: 1; border-radius: 0.35em;\">\n",
              "    PREGÃO ELETRÔNICO PELO SISTEMA DE REGISTRO DE PREÇOS   Nº 343/2021 – FUNDHACRE\n",
              "    <span style=\"font-size: 0.8em; font-weight: bold; line-height: 1; border-radius: 0.35em; vertical-align: middle; margin-left: 0.5rem\">IDENTIFICACAO</span>\n",
              "</mark>\n",
              " Objeto: \n",
              "<mark class=\"entity\" style=\"background: #82E0AA; padding: 0.45em 0.6em; margin: 0 0.25em; line-height: 1; border-radius: 0.35em;\">\n",
              "    Aquisição de Material Farmacológico (Medicamentos)\n",
              "    <span style=\"font-size: 0.8em; font-weight: bold; line-height: 1; border-radius: 0.35em; vertical-align: middle; margin-left: 0.5rem\">OBJETO</span>\n",
              "</mark>\n",
              ", para atender as demandas da Fundação Hospital Estadual do Acre - FUNDHACRE. Edital e Informações: O edital está à disposição nos sites: www.ac.gov. br, www.licitacao.ac.gov.br e www.comprasnet.gov.br. Propostas: Serão recebidas até às 10h15 (horário de Brasília) do dia  25/10/2021, quando terá início a disputa de preços no sistema eletrônico: www.comprasnet.gov.br. Rio Branco- AC, 08 de Outubro de 2021. ASS Valdemir Januario de Almeida  CAR Pregoeiro  </div></span>"
            ]
          },
          "metadata": {}
        },
        {
          "output_type": "stream",
          "name": "stdout",
          "text": [
            "\n",
            "\n"
          ]
        },
        {
          "output_type": "display_data",
          "data": {
            "text/plain": [
              "<IPython.core.display.HTML object>"
            ],
            "text/html": [
              "<span class=\"tex2jax_ignore\"><div class=\"entities\" style=\"line-height: 2.5; direction: ltr\">AVISO DE LICITAÇÃO Processo SEI n.º 0005080-09.2021.8.01.0000. \n",
              "<mark class=\"entity\" style=\"background: #F9E79F; padding: 0.45em 0.6em; margin: 0 0.25em; line-height: 1; border-radius: 0.35em;\">\n",
              "    Pregão Eletrônico SRP  nº 59/2021\n",
              "    <span style=\"font-size: 0.8em; font-weight: bold; line-height: 1; border-radius: 0.35em; vertical-align: middle; margin-left: 0.5rem\">IDENTIFICACAO</span>\n",
              "</mark>\n",
              ". Tipo: Menor Preço por Item. Objeto: Formação de registro  de preços para eventual \n",
              "<mark class=\"entity\" style=\"background: #82E0AA; padding: 0.45em 0.6em; margin: 0 0.25em; line-height: 1; border-radius: 0.35em;\">\n",
              "    aquisição de gêneros alimentícios\n",
              "    <span style=\"font-size: 0.8em; font-weight: bold; line-height: 1; border-radius: 0.35em; vertical-align: middle; margin-left: 0.5rem\">OBJETO</span>\n",
              "</mark>\n",
              ", para suprir  as necessidades do \n",
              "<mark class=\"entity\" style=\"background: #D7XCE3; padding: 0.45em 0.6em; margin: 0 0.25em; line-height: 1; border-radius: 0.35em;\">\n",
              "    Tribunal de Justiça\n",
              "    <span style=\"font-size: 0.8em; font-weight: bold; line-height: 1; border-radius: 0.35em; vertical-align: middle; margin-left: 0.5rem\">ORGAO</span>\n",
              "</mark>\n",
              " do Estado do Acre pelos próximos doze meses, conforme as condições, quantidades e exigências  estabelecidas neste Edital e seus anexos. Local e data da realização  do certame: A licitação será realizada em ambiente virtual do site www. comprasnet.gov.br, no dia 05 de novembro de 2021, às 10h00min (horário de Brasília). UASG: 925509. Qualquer dúvida poderá ser esclarecida  por meio dos telefones (68) 3302-0345/0347 ou e-mail: cpl@tjac.jus.br. Rio Branco – AC, 15 de outubro de 2021  Gilcineide Ribeiro Batista Pregoeira do TJAC </div></span>"
            ]
          },
          "metadata": {}
        },
        {
          "output_type": "stream",
          "name": "stdout",
          "text": [
            "\n",
            "\n"
          ]
        },
        {
          "output_type": "display_data",
          "data": {
            "text/plain": [
              "<IPython.core.display.HTML object>"
            ],
            "text/html": [
              "<span class=\"tex2jax_ignore\"><div class=\"entities\" style=\"line-height: 2.5; direction: ltr\">AVISO DE LICITAÇÃO – \n",
              "<mark class=\"entity\" style=\"background: #F9E79F; padding: 0.45em 0.6em; margin: 0 0.25em; line-height: 1; border-radius: 0.35em;\">\n",
              "    TOMADA DE PREÇOS Nº. 004/2021 – CPL/PMBJ\n",
              "    <span style=\"font-size: 0.8em; font-weight: bold; line-height: 1; border-radius: 0.35em; vertical-align: middle; margin-left: 0.5rem\">IDENTIFICACAO</span>\n",
              "</mark>\n",
              " Objeto: \n",
              "<mark class=\"entity\" style=\"background: #82E0AA; padding: 0.45em 0.6em; margin: 0 0.25em; line-height: 1; border-radius: 0.35em;\">\n",
              "    Contratação de Empresa de Engenharia, para Construção de  MELHORIAS SANITÁRIAS DOMICILIARES no município de Bujari/AC\n",
              "    <span style=\"font-size: 0.8em; font-weight: bold; line-height: 1; border-radius: 0.35em; vertical-align: middle; margin-left: 0.5rem\">OBJETO</span>\n",
              "</mark>\n",
              ",  em atendimento ao CONVÊNIO SICONV 822332/2015. Fonte de Recursos:  106 – Transferências da União; 101 – Recursos próprios. Retirada do Edital: 05/11/2021 à 22/11/2021 Através de solicitação via e-mail prefeiturabujari.cpl@gmail.com ou ainda na Prefeitura Municipal de Bujari, situada na BR 364 – KM 28, N°  900, Bairro Centro, CEP 69.926-000 - Bujari-AC – Fone (68) 3231-1128.  Horário: 8h às 13h. Data da Abertura: 23/11/2021 às 09h00min. Conforme preâmbulo no Edital. Bujari-AC, 05 de novembro de 2021. Heldenildes Gomes de Souza – Presidente da Comissão </div></span>"
            ]
          },
          "metadata": {}
        },
        {
          "output_type": "stream",
          "name": "stdout",
          "text": [
            "\n",
            "\n"
          ]
        },
        {
          "output_type": "display_data",
          "data": {
            "text/plain": [
              "<IPython.core.display.HTML object>"
            ],
            "text/html": [
              "<span class=\"tex2jax_ignore\"><div class=\"entities\" style=\"line-height: 2.5; direction: ltr\">ESTADO DO ACRE \n",
              "<mark class=\"entity\" style=\"background: #D7BDE2; padding: 0.45em 0.6em; margin: 0 0.25em; line-height: 1; border-radius: 0.35em;\">\n",
              "    MUNICÍPIO DE XAPURI\n",
              "    <span style=\"font-size: 0.8em; font-weight: bold; line-height: 1; border-radius: 0.35em; vertical-align: middle; margin-left: 0.5rem\">ENTE</span>\n",
              "</mark>\n",
              "   AVISO DE LICITAÇÃO A Prefeitura de Xapuri, através do Pregoeiro e sua equipe de apoio, torna público para os interessados, que estará realizando o certame, abaixo  relacionado: \n",
              "<mark class=\"entity\" style=\"background: #F9E79F; padding: 0.45em 0.6em; margin: 0 0.25em; line-height: 1; border-radius: 0.35em;\">\n",
              "    PREGÃO PRESENCIAL SRP Nº 036/2021\n",
              "    <span style=\"font-size: 0.8em; font-weight: bold; line-height: 1; border-radius: 0.35em; vertical-align: middle; margin-left: 0.5rem\">IDENTIFICACAO</span>\n",
              "</mark>\n",
              ". OBJETO: \n",
              "<mark class=\"entity\" style=\"background: #82E0AA; padding: 0.45em 0.6em; margin: 0 0.25em; line-height: 1; border-radius: 0.35em;\">\n",
              "    Contratação de Pessoa Física ou Jurídica para fornecimento de serviço de Locação de veículo utilitário pick-up tipo Caminhonete, cabine  dupla, com motorista, ano e modelo de fabricação a partir de 2018, 04 portas, capacidade para 05 passageiros, ar-condicionado, direção hidráulica,  capacidade de carga acima de 1.000 kg, tração 4x4\n",
              "    <span style=\"font-size: 0.8em; font-weight: bold; line-height: 1; border-radius: 0.35em; vertical-align: middle; margin-left: 0.5rem\">OBJETO</span>\n",
              "</mark>\n",
              ", para atender as necessidades da Secretaria Municipal de Saúde de Xapuri-Acre. Retirada do Edital: Rua Floriano Peixoto, nº 114, Centro – Xapuri - AC, no período do dia 26/08 à 08/09/2021, de Segunda à Sexta feira, no horário  das 08:00 às 12:00 e das 14:00 às 17:00 horas, site do Tribunal de Contas do Estado do Acre: http://www.tce.ac.gov.br/servicos/licitacoes/ ou via  e-mail: cplxapuri@gmail.com. Local, Data e Horário de abertura: 08 de setembro de 2021, às 09:00 horas, no endereço supramencionado.   Xapuri - AC, 25 de agosto de 2021. Iury Rodrigues Moreira PREGOEIRO </div></span>"
            ]
          },
          "metadata": {}
        },
        {
          "output_type": "stream",
          "name": "stdout",
          "text": [
            "\n",
            "\n"
          ]
        },
        {
          "output_type": "display_data",
          "data": {
            "text/plain": [
              "<IPython.core.display.HTML object>"
            ],
            "text/html": [
              "<span class=\"tex2jax_ignore\"><div class=\"entities\" style=\"line-height: 2.5; direction: ltr\">\n",
              "<mark class=\"entity\" style=\"background: #D7BDE2; padding: 0.45em 0.6em; margin: 0 0.25em; line-height: 1; border-radius: 0.35em;\">\n",
              "    SECRETARIA DE ESTADO DE PLANEJAMENTO E GESTÃO - SEPLAG\n",
              "    <span style=\"font-size: 0.8em; font-weight: bold; line-height: 1; border-radius: 0.35em; vertical-align: middle; margin-left: 0.5rem\">ENTE</span>\n",
              "</mark>\n",
              " SECRETARIA ADJUNTA DE LICITAÇÕES - SELIC AVISO DE LICITAÇÃO \n",
              "<mark class=\"entity\" style=\"background: #F9E79F; padding: 0.45em 0.6em; margin: 0 0.25em; line-height: 1; border-radius: 0.35em;\">\n",
              "    PREGÃO PRESENCIAL N 092/2021 – SEDUR\n",
              "    <span style=\"font-size: 0.8em; font-weight: bold; line-height: 1; border-radius: 0.35em; vertical-align: middle; margin-left: 0.5rem\">IDENTIFICACAO</span>\n",
              "</mark>\n",
              " Objeto: \n",
              "<mark class=\"entity\" style=\"background: #82E0AA; padding: 0.45em 0.6em; margin: 0 0.25em; line-height: 1; border-radius: 0.35em;\">\n",
              "    Contratação de empresa especializada para a elaboração de estudos conceituais e anteprojeto de engenharia para as obras de redução  da vulnerabilidade das comunidades ribeirinhas da bacia do Igarapé São  Francisco\n",
              "    <span style=\"font-size: 0.8em; font-weight: bold; line-height: 1; border-radius: 0.35em; vertical-align: middle; margin-left: 0.5rem\">OBJETO</span>\n",
              "</mark>\n",
              " aos eventos extremos na cidade de Rio Branco, estado do Acre. Fonte de Recurso: 100 – RP. Edital e Informações: O edital está à disposição, através dos sites www. ac.gov.br e www.licitacao.ac.gov.br. Data da Abertura: 25/08/2021 às 08h15min, conforme preâmbulo no Edital. Rio Branco-AC, 12 de Agosto de 2021.   ASS Carolyne Renata Maia de Santana  CAR Pregoeira </div></span>"
            ]
          },
          "metadata": {}
        },
        {
          "output_type": "stream",
          "name": "stdout",
          "text": [
            "\n",
            "\n"
          ]
        },
        {
          "output_type": "display_data",
          "data": {
            "text/plain": [
              "<IPython.core.display.HTML object>"
            ],
            "text/html": [
              "<span class=\"tex2jax_ignore\"><div class=\"entities\" style=\"line-height: 2.5; direction: ltr\">GOVERNO DO ESTADO DO ACRE \n",
              "<mark class=\"entity\" style=\"background: #D7BDE2; padding: 0.45em 0.6em; margin: 0 0.25em; line-height: 1; border-radius: 0.35em;\">\n",
              "    SECRETARIA DE ESTADO DE EDUCAÇÃO, CULTURA E ESPORTES\n",
              "    <span style=\"font-size: 0.8em; font-weight: bold; line-height: 1; border-radius: 0.35em; vertical-align: middle; margin-left: 0.5rem\">ENTE</span>\n",
              "</mark>\n",
              " COMITÊ EXECUTIVO IRIS CÉLIA CABANELLAS ZANNINI AVISO DE LICITAÇÃO \n",
              "<mark class=\"entity\" style=\"background: #F9E79F; padding: 0.45em 0.6em; margin: 0 0.25em; line-height: 1; border-radius: 0.35em;\">\n",
              "    TOMADA DE PREÇO Nº 003/2021\n",
              "    <span style=\"font-size: 0.8em; font-weight: bold; line-height: 1; border-radius: 0.35em; vertical-align: middle; margin-left: 0.5rem\">IDENTIFICACAO</span>\n",
              "</mark>\n",
              " A ESCOLA PROF.ª IRIS CÉLIA CABANELLAS ZANNINI, de acordo com as disposições da Lei n.º 8.666/93 e suas alterações, torna público que  realizará a LICITAÇÃO a seguir caracterizada: OBJETO DA LICITAÇÃO: A \n",
              "<mark class=\"entity\" style=\"background: #82E0AA; padding: 0.45em 0.6em; margin: 0 0.25em; line-height: 1; border-radius: 0.35em;\">\n",
              "    aquisição de material de expediente, didático-pedagógico e material permanente (equipamentos)\n",
              "    <span style=\"font-size: 0.8em; font-weight: bold; line-height: 1; border-radius: 0.35em; vertical-align: middle; margin-left: 0.5rem\">OBJETO</span>\n",
              "</mark>\n",
              " destinados à Escola  Prof.ª Iris Célia Cabanellas Zannini localizada na rua: Eneide Batista, 525, Centro, Assis Brasil - Acre. RETIRADA DO EDITAL: Escola Prof.ª Íris Célia Cabanellas Zannini, Rua Eneide Batista, 525, Centro, Assis Brasil – Acre, no horário de 07:00 às  11:00h e das 13:00 às 17:00 e no endereço eletrônico saal.see.ac.gov.br no período de 22/10/2021 à 05/11/2021. DATA DA ABERTURA: 08/11/2021 às 17:00h na Escola Prof.ª Íris Célia Cabanellas Zannini no endereço acima citado. Assis Brasil -AC, 18de outubro de 2021.   A COMISSÃO Maria Laudice  Moreira Farias; Antônia Alves Pereira Cavalcante Albanete  Batista de Araújo. </div></span>"
            ]
          },
          "metadata": {}
        },
        {
          "output_type": "stream",
          "name": "stdout",
          "text": [
            "\n",
            "\n"
          ]
        },
        {
          "output_type": "display_data",
          "data": {
            "text/plain": [
              "<IPython.core.display.HTML object>"
            ],
            "text/html": [
              "<span class=\"tex2jax_ignore\"><div class=\"entities\" style=\"line-height: 2.5; direction: ltr\">ESTADO DO ACRE \n",
              "<mark class=\"entity\" style=\"background: #D7BDE2; padding: 0.45em 0.6em; margin: 0 0.25em; line-height: 1; border-radius: 0.35em;\">\n",
              "    CAMARA MUNICIPAL DE TARAUACÁ\n",
              "    <span style=\"font-size: 0.8em; font-weight: bold; line-height: 1; border-radius: 0.35em; vertical-align: middle; margin-left: 0.5rem\">ENTE</span>\n",
              "</mark>\n",
              " COMISSÃO PERMANENTE DE LICITAÇÃO  AVISO DE LICITAÇÃO \n",
              "<mark class=\"entity\" style=\"background: #F9E79F; padding: 0.45em 0.6em; margin: 0 0.25em; line-height: 1; border-radius: 0.35em;\">\n",
              "    PREGÃO PRESENCIAL SRP Nº 001/2021\n",
              "    <span style=\"font-size: 0.8em; font-weight: bold; line-height: 1; border-radius: 0.35em; vertical-align: middle; margin-left: 0.5rem\">IDENTIFICACAO</span>\n",
              "</mark>\n",
              " A Câmara Municipal de Tarauacá, através de sua Pregoeira designada e  Equipe de Apoio, torna público que estará reunida no dia 07 de outubro  de 2021, às 09h00min com a finalidade de realizar o Pregão Presencial  SRP nº 001/2021, tipo MENOR PREÇO POR ITEM, que tem como objeto Registro de Preços, por maior percentual de desconto, para aquisição  conforme a demanda de combustíveis e derivados do petróleo, destinados atender as necessidades da câmara municipal de Tarauacá, de  acordo com as especificações e quantitativos estimados constantes no  Termo de Referência anexo I. A sessão acontecerá na Sede da Câmara  Municipal de Tarauacá – AC, sala de reunião, situada na Rua Coronel  Juvêncio de Menezes, nº 396, Centro.  RETIRADA DO EDITAL: O edital poderá ser obtido a partir de 24/09/2021  através do e-mail: camaratk@gmail.com, no Endereço Eletrônico: http:// app.tce.ac.gov.br/portaldaslicitacoes/ ( site do Tribunal de Contas do  Estado – TCE/AC - LICON). Tarauacá - AC, 23 de setembro de 2021. Janaina Santos Silva Pregoeira Designada </div></span>"
            ]
          },
          "metadata": {}
        },
        {
          "output_type": "stream",
          "name": "stdout",
          "text": [
            "\n",
            "\n"
          ]
        },
        {
          "output_type": "display_data",
          "data": {
            "text/plain": [
              "<IPython.core.display.HTML object>"
            ],
            "text/html": [
              "<span class=\"tex2jax_ignore\"><div class=\"entities\" style=\"line-height: 2.5; direction: ltr\">AVISO DE LICITAÇÃO  \n",
              "<mark class=\"entity\" style=\"background: #F9E79F; padding: 0.45em 0.6em; margin: 0 0.25em; line-height: 1; border-radius: 0.35em;\">\n",
              "    PREGÃO PRESENCIAL SRP N° 016/2021\n",
              "    <span style=\"font-size: 0.8em; font-weight: bold; line-height: 1; border-radius: 0.35em; vertical-align: middle; margin-left: 0.5rem\">IDENTIFICACAO</span>\n",
              "</mark>\n",
              " PROCESSO ADMINISTRATIVO PMAB/SEME/00055/2021 OBJETO: Registro de Preços para Eventual e Futura \n",
              "<mark class=\"entity\" style=\"background: #82E0AA; padding: 0.45em 0.6em; margin: 0 0.25em; line-height: 1; border-radius: 0.35em;\">\n",
              "    Contratação de empresa destinada a executar Fornecimento de Material de Consumo (Gêneros Alimentícios Perecíveis e não Perecíveis)\n",
              "    <span style=\"font-size: 0.8em; font-weight: bold; line-height: 1; border-radius: 0.35em; vertical-align: middle; margin-left: 0.5rem\">OBJETO</span>\n",
              "</mark>\n",
              ", destinado a atender ao cardápio da Merenda Escolar das Escolas da Rede Municipal de Ensino  Infantil e Fundamental e Programa EJA da Zona Urbana e Rural do munícipio de Assis Brasil. Data da Abertura: 09 de setembro de 2021, às 08:30 horas. O Edital e seus anexos encontram-se a disposição dos interessados para consulta e  aquisição a partir de do dia 26 de agosto a 09 de setembro de 2021, de  segunda a quinta-feira das 07h00minh às 12h00min e de 14h00min as  17h00min, na sexta-feira das 07h00minh às 13h00min sala da Comissão de Licitação, na sede da Prefeitura Municipal de Assis Brasil, sito  a Av. Raimundo Chaar n. º 198 - Centro, em Assis Brasil/AC, Telefone:  (68) 3548-1208, no endereço eletrônico: assisbrasil.cpl@gmail.com ou  no site httapp.tce.ac.gov.br/portaldaslicitações. Os interessados deverão comparecer munidos com respectivos carimbos e do CNPJ. Assis Brasil/AC, de 25 de agosto 2021. Jucilene Lopes Pessoa Pregoeira </div></span>"
            ]
          },
          "metadata": {}
        },
        {
          "output_type": "stream",
          "name": "stdout",
          "text": [
            "\n",
            "\n"
          ]
        },
        {
          "output_type": "display_data",
          "data": {
            "text/plain": [
              "<IPython.core.display.HTML object>"
            ],
            "text/html": [
              "<span class=\"tex2jax_ignore\"><div class=\"entities\" style=\"line-height: 2.5; direction: ltr\">AVISO DE LICITAÇÃO Processo SEI n.º 0000262-14.2021.8.01.0000. \n",
              "<mark class=\"entity\" style=\"background: #F9E79F; padding: 0.45em 0.6em; margin: 0 0.25em; line-height: 1; border-radius: 0.35em;\">\n",
              "    Pregão Eletrônico nº  55/2021\n",
              "    <span style=\"font-size: 0.8em; font-weight: bold; line-height: 1; border-radius: 0.35em; vertical-align: middle; margin-left: 0.5rem\">IDENTIFICACAO</span>\n",
              "</mark>\n",
              ". Tipo: Menor Preço por Item e Grupo. Objeto: \n",
              "<mark class=\"entity\" style=\"background: #82E0AA; padding: 0.45em 0.6em; margin: 0 0.25em; line-height: 1; border-radius: 0.35em;\">\n",
              "    Contratação  de empresa prestadora de serviços de fornecimento de alimentação\n",
              "    <span style=\"font-size: 0.8em; font-weight: bold; line-height: 1; border-radius: 0.35em; vertical-align: middle; margin-left: 0.5rem\">OBJETO</span>\n",
              "</mark>\n",
              ",  serviços fotográficos, locação de tendas, mesas e cadeiras, para atender as necessidades do Poder Judiciário do Estado do Acre, referente  ao Convênio Plataforma +Brasil nº 902187/2020, visando a garantia da  cidadania e a inclusão social da população carente residente nos Municípios de Sena Madureira e Assis Brasil, no Estado do Acre, conforme  as condições, quantidades e exigências estabelecidas no Edital e seus  anexos. Local e data da realização do certame: A licitação será realizada em ambiente virtual do site www.comprasnet.gov.br, no dia 27 de  outubro de 2021, às 10h00min (horário de Brasília). UASG: 925509.  Qualquer dúvida poderá ser esclarecida por meio dos telefones (68)  3302-0345 ou e-mail: cpl@tjac.jus.br. Rio Branco – AC, 06 de outubro de 2021  Gilcineide Ribeiro Batista Pregoeira do TJAC </div></span>"
            ]
          },
          "metadata": {}
        },
        {
          "output_type": "stream",
          "name": "stdout",
          "text": [
            "\n",
            "\n"
          ]
        }
      ]
    },
    {
      "cell_type": "markdown",
      "source": [
        "###### Salvando modelo:"
      ],
      "metadata": {
        "id": "dHPxDZPCkEY_"
      }
    },
    {
      "cell_type": "code",
      "source": [
        "output_dir = Path('./teste1')"
      ],
      "metadata": {
        "id": "nKIIqdg3sCOK"
      },
      "execution_count": null,
      "outputs": []
    },
    {
      "cell_type": "code",
      "source": [
        "nlp.to_disk(output_dir)\n",
        "print(\"Saved model to\", output_dir)"
      ],
      "metadata": {
        "id": "19OnloPBySfx",
        "colab": {
          "base_uri": "https://localhost:8080/"
        },
        "outputId": "e7d8cece-5c0e-401a-ecd9-c9f24921904c"
      },
      "execution_count": null,
      "outputs": [
        {
          "output_type": "stream",
          "name": "stdout",
          "text": [
            "Saved model to teste1\n"
          ]
        }
      ]
    },
    {
      "cell_type": "code",
      "source": [
        "!unzip ./modelo_ner_com_ente_orgao.zip"
      ],
      "metadata": {
        "id": "SLxjfRNzW0Gb",
        "colab": {
          "base_uri": "https://localhost:8080/"
        },
        "outputId": "6fe3996a-9265-4958-e891-cf8f189a2e23"
      },
      "execution_count": null,
      "outputs": [
        {
          "output_type": "stream",
          "name": "stdout",
          "text": [
            "Archive:  ./modelo_ner_com_ente_orgao.zip\n",
            "  inflating: teste1/config.cfg       \n",
            "  inflating: teste1/tokenizer        \n",
            "   creating: teste1/ner/\n",
            "  inflating: teste1/ner/cfg          \n",
            "  inflating: teste1/ner/model        \n",
            "  inflating: teste1/ner/moves        \n",
            "   creating: teste1/vocab/\n",
            " extracting: teste1/vocab/lookups.bin  \n",
            "  inflating: teste1/vocab/vectors    \n",
            " extracting: teste1/vocab/key2row    \n",
            "  inflating: teste1/vocab/strings.json  \n",
            " extracting: teste1/vocab/vectors.cfg  \n",
            "  inflating: teste1/meta.json        \n"
          ]
        }
      ]
    },
    {
      "cell_type": "code",
      "source": [
        "print(\"Loading from\", output_dir)\n",
        "nlp2 = spacy.load(output_dir)"
      ],
      "metadata": {
        "colab": {
          "base_uri": "https://localhost:8080/"
        },
        "id": "u25uJBBonwi5",
        "outputId": "9b29bf6d-adc9-43e9-98e7-b2323dbf2b9c"
      },
      "execution_count": null,
      "outputs": [
        {
          "output_type": "stream",
          "name": "stdout",
          "text": [
            "Loading from teste1\n"
          ]
        }
      ]
    },
    {
      "cell_type": "code",
      "execution_count": null,
      "metadata": {
        "colab": {
          "base_uri": "https://localhost:8080/"
        },
        "id": "g4G9YFhBHozB",
        "outputId": "e364dabe-f637-4234-ded6-11c9bd1b958d"
      },
      "outputs": [
        {
          "output_type": "stream",
          "name": "stdout",
          "text": [
            "Mounted at /content/drive\n"
          ]
        }
      ],
      "source": [
        "from google.colab import drive\n",
        "drive.mount('/content/drive')"
      ]
    },
    {
      "cell_type": "code",
      "execution_count": null,
      "metadata": {
        "id": "Wazym9dyHqK4"
      },
      "outputs": [],
      "source": [
        "!cp -r \"./modelo_ner_pretrainer_pt.zip\" \"/content/drive/MyDrive/my_tcc/my_modelo_ner_pretrainer_pt.zip\""
      ]
    },
    {
      "cell_type": "code",
      "source": [
        "doc = nlp(\"GOVERNO DO ESTADO DO ACRE SECRETARIA DE IND\\u00daSTRIA, CI\\u00caNCIA E TECNOLOGIA - SEICT AVISO DE LICITA\\u00c7\\u00c3O PREG\\u00c3O ELETR\\u00d4NICO PELO SISTEMA DE REGISTRO DE PRE\\u00c7OS  N 137/2020 \\u2013 DETRAN Objeto: Contrata\\u00e7\\u00e3o de pessoa jur\\u00eddica para aquisi\\u00e7\\u00e3o de materiais de consumo tais como: carimbos, almofadas e refis de almofada para carimbos,  bem como servi\\u00e7os de plotagem, plastifica\\u00e7\\u00e3o, encaderna\\u00e7\\u00f5es e confec\\u00e7\\u00e3o de c\\u00f3pias de chaves para portas, em atendimento as necessidades de  diversos setores deste Departamento Estadual de Tr\\u00e2nsito. Fonte de Recursos: 700 \\u2013 Recurso Pr\\u00f3prio. Propostas: Ser\\u00e3o recebidas at\\u00e9 \\u00e0s 10h30min (hor\\u00e1rio de Bras\\u00edlia) do dia  16 de Agosto de 2021, quando ter\\u00e1 in\\u00edcio a disputa de pre\\u00e7os no sistema  eletr\\u00f4nico: site www.comprasnet.gov.br. Edital e Informa\\u00e7\\u00f5es: O edital est\\u00e1 \\u00e0 disposi\\u00e7\\u00e3o, atrav\\u00e9s dos sites: www. ac.gov.br, www.licitacao.ac.gov.br e www.comprasnet.gov.br. Rio Branco-AC, 02 de Agosto de 2021. ASS Adriana Vasconcelos da Silva CAR Pregoeira \")\n",
        "for ent in doc.ents:\n",
        "  print(ent, ent.label_)"
      ],
      "metadata": {
        "colab": {
          "base_uri": "https://localhost:8080/"
        },
        "id": "1piXleCcRMz8",
        "outputId": "6adee578-11f4-40d6-965f-462f36cad7ee"
      },
      "execution_count": 54,
      "outputs": [
        {
          "output_type": "stream",
          "name": "stdout",
          "text": [
            "SECRETARIA DE INDÚSTRIA, CIÊNCIA E TECNOLOGIA - SEICT ENTE\n",
            "PREGÃO ELETRÔNICO PELO SISTEMA DE REGISTRO DE PREÇOS  N 137/2020 – DETRAN IDENTIFICACAO\n",
            "Contratação de pessoa jurídica para aquisição de materiais de consumo tais como: carimbos, almofadas e refis de almofada para carimbos,  bem como serviços de plotagem, plastificação, encadernações e confecção de cópias de chaves para portas OBJETO\n",
            "Departamento Estadual de Trânsito ORGAO\n"
          ]
        }
      ]
    }
  ]
}