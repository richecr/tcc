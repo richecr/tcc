{
  "cells": [
    {
      "cell_type": "markdown",
      "metadata": {
        "id": "KHFuFUUDsdp-"
      },
      "source": [
        "# TCC\n"
      ]
    },
    {
      "cell_type": "markdown",
      "metadata": {
        "id": "JUfN9w8tsgMN"
      },
      "source": [
        "## Imports\n"
      ]
    },
    {
      "cell_type": "code",
      "execution_count": 1,
      "metadata": {
        "colab": {
          "base_uri": "https://localhost:8080/"
        },
        "id": "WHzGbUv8r9tj",
        "outputId": "ecc214f1-d0f8-4596-c294-444f7242c7bc"
      },
      "outputs": [
        {
          "output_type": "stream",
          "name": "stdout",
          "text": [
            "\u001b[38;5;2m✔ Download and installation successful\u001b[0m\n",
            "You can now load the package via spacy.load('pt_core_news_sm')\n"
          ]
        },
        {
          "output_type": "stream",
          "name": "stderr",
          "text": [
            "[nltk_data] Downloading package wordnet to /root/nltk_data...\n",
            "[nltk_data] Downloading package omw-1.4 to /root/nltk_data...\n"
          ]
        }
      ],
      "source": [
        "from sklearn.metrics import accuracy_score, f1_score, precision_score, recall_score, classification_report, confusion_matrix, precision_recall_fscore_support, make_scorer\n",
        "from sklearn.model_selection import train_test_split, KFold, cross_val_score, StratifiedKFold, GridSearchCV\n",
        "from sklearn.feature_extraction.text import TfidfVectorizer\n",
        "from gensim.parsing.preprocessing import STOPWORDS\n",
        "from sklearn.base import BaseEstimator\n",
        "from sklearn.pipeline import Pipeline\n",
        "from nltk.stem.porter import *\n",
        "from nltk.stem import *\n",
        "import xgboost as xgb\n",
        "import pandas as pd\n",
        "import numpy as np\n",
        "import spacy.cli\n",
        "import gensim\n",
        "import spacy\n",
        "import nltk\n",
        "import pickle\n",
        "import warnings\n",
        "\n",
        "from sklearn.tree import DecisionTreeClassifier, DecisionTreeRegressor\n",
        "from sklearn.linear_model import LogisticRegression, ElasticNet\n",
        "from sklearn.ensemble import RandomForestClassifier\n",
        "from sklearn.neighbors import KNeighborsClassifier\n",
        "from sklearn.naive_bayes import GaussianNB\n",
        "from sklearn.svm import SVC\n",
        "\n",
        "import json\n",
        "\n",
        "spacy.cli.download(\"pt_core_news_sm\")\n",
        "nltk.download('wordnet')\n",
        "nltk.download('omw-1.4')\n",
        "\n",
        "warnings.filterwarnings(\"ignore\")"
      ]
    },
    {
      "cell_type": "code",
      "execution_count": 2,
      "metadata": {
        "id": "_5JWRxN3CxO1"
      },
      "outputs": [],
      "source": [
        "from sklearn.utils.multiclass import unique_labels\n",
        "from sklearn.metrics import confusion_matrix\n",
        "import matplotlib.pyplot as plt\n",
        "import itertools\n",
        "\n",
        "\n",
        "def plot_confusion_matrix(cm, classes, normalize=False, title='Confusion matrix',\n",
        "                          cmap=plt.cm.get_cmap('Blues')):\n",
        "    # Função importada dos exemplos do SKLearn\n",
        "    if normalize:\n",
        "        cm = cm.astype('float') / cm.sum(axis=1)[:, np.newaxis]\n",
        "\n",
        "    plt.imshow(cm, interpolation='nearest', cmap=cmap)\n",
        "    plt.title(title)\n",
        "    plt.colorbar()\n",
        "    tick_marks = np.arange(len(classes))\n",
        "    plt.xticks(tick_marks, classes, rotation=45)\n",
        "    plt.yticks(tick_marks, classes)\n",
        "\n",
        "    fmt = '.2f' if normalize else 'd'\n",
        "    thresh = cm.max() / 2.\n",
        "    for i, j in itertools.product(range(cm.shape[0]), range(cm.shape[1])):\n",
        "        plt.text(j, i, format(cm[i, j], fmt),\n",
        "                 horizontalalignment=\"center\",\n",
        "                 color=\"white\" if cm[i, j] > thresh else \"black\")\n",
        "\n",
        "    plt.ylabel('True label')\n",
        "    plt.xlabel('Predicted label')\n",
        "    plt.tight_layout()"
      ]
    },
    {
      "cell_type": "markdown",
      "metadata": {
        "id": "I-_1HB4ZsxAV"
      },
      "source": [
        "## Carregando dados:"
      ]
    },
    {
      "cell_type": "code",
      "execution_count": 4,
      "metadata": {
        "id": "27b5qB5Sszc-"
      },
      "outputs": [],
      "source": [
        "data = pd.read_json('output_classifier.json')\n",
        "\n",
        "X = data['text']\n",
        "y = data['label']"
      ]
    },
    {
      "cell_type": "code",
      "execution_count": 5,
      "metadata": {
        "id": "5udGCU2nvkXl",
        "colab": {
          "base_uri": "https://localhost:8080/"
        },
        "outputId": "556cb82d-74ed-45b1-e35f-244313609cab"
      },
      "outputs": [
        {
          "output_type": "execute_result",
          "data": {
            "text/plain": [
              "['yes']"
            ]
          },
          "metadata": {},
          "execution_count": 5
        }
      ],
      "source": [
        "y[26]"
      ]
    },
    {
      "cell_type": "code",
      "execution_count": 6,
      "metadata": {
        "id": "xxzknIIEvsrG",
        "colab": {
          "base_uri": "https://localhost:8080/",
          "height": 0
        },
        "outputId": "1513590d-b5e8-44b7-ad38-67483dbcb173"
      },
      "outputs": [
        {
          "output_type": "execute_result",
          "data": {
            "text/plain": [
              "'GOVERNO DO ESTADO DO ACRE SECRETARIA DE ESTADO DE EDUCAÇÃO, CULTURA E ESPORTES EDITAL TOMADA DE PREÇO N° 01/2021 Aviso de Licitação  A Escola Coronel Manoel Fontenele de Castro, de acordo com as disposições da Lei n/ 8.666/93 e suas alterações, torna público que realizará  a LICITAÇÃO a seguir caracterizada: Objeto: Aquisição de material de expediente, proteção, limpeza, higiene e material permanente. Para atender escola Coronel Manoel Fontenele de Castro, Retirada do edital: Escola Coronel Manoel Fontenele de Castro, no horário  de 8hs às 13hs, no período de 03 de agosto de 2021 à 17 de agosto de  2021. Data de Abertura das propostas: 20/08/2021 as 9:30h, Av. Dr. Manoel  Marinho Monte, nº 1328, bairro Ferreira Silva, Brasiléia – AC. Brasiléia – Acre, 30 de julho de 2021. Vanessa Machado Salvador  Rodrigues Presidente da CPL '"
            ],
            "application/vnd.google.colaboratory.intrinsic+json": {
              "type": "string"
            }
          },
          "metadata": {},
          "execution_count": 6
        }
      ],
      "source": [
        "X[26]"
      ]
    },
    {
      "cell_type": "code",
      "execution_count": 7,
      "metadata": {
        "id": "uqsIZrRt9m-V",
        "colab": {
          "base_uri": "https://localhost:8080/"
        },
        "outputId": "61a5b87f-cec9-4f34-f366-16e58975df7e"
      },
      "outputs": [
        {
          "output_type": "execute_result",
          "data": {
            "text/plain": [
              "6499"
            ]
          },
          "metadata": {},
          "execution_count": 7
        }
      ],
      "source": [
        "len(X)"
      ]
    },
    {
      "cell_type": "code",
      "execution_count": 8,
      "metadata": {
        "id": "bY5GYvda9o30",
        "colab": {
          "base_uri": "https://localhost:8080/"
        },
        "outputId": "59d1e2c6-0c1f-4f1f-c5b6-9a2f4b56e285"
      },
      "outputs": [
        {
          "output_type": "execute_result",
          "data": {
            "text/plain": [
              "6499"
            ]
          },
          "metadata": {},
          "execution_count": 8
        }
      ],
      "source": [
        "len(y)"
      ]
    },
    {
      "cell_type": "markdown",
      "metadata": {
        "id": "HNJeCvsismHt"
      },
      "source": [
        "## Pré-processamento:\n",
        "\n",
        "- Transformar 'no' e 'yes' em valores 0 e 1 respectivamente.\n",
        "- Lematização.\n",
        "- All text in Lower Case.\n"
      ]
    },
    {
      "cell_type": "code",
      "execution_count": 9,
      "metadata": {
        "id": "OMQbOK_SwItG"
      },
      "outputs": [],
      "source": [
        "def convert_label(label):\n",
        "    if label[0] == 'no':\n",
        "        return 0\n",
        "    return 1"
      ]
    },
    {
      "cell_type": "code",
      "execution_count": 10,
      "metadata": {
        "id": "B5OPD44XvadO"
      },
      "outputs": [],
      "source": [
        "X = data['text']\n",
        "y = data['label'].map(convert_label)"
      ]
    },
    {
      "cell_type": "code",
      "execution_count": 11,
      "metadata": {
        "colab": {
          "base_uri": "https://localhost:8080/",
          "height": 0
        },
        "id": "8mSE5FfPwgkW",
        "outputId": "6198163c-5545-4f39-fffb-3d0af04de252"
      },
      "outputs": [
        {
          "output_type": "execute_result",
          "data": {
            "text/plain": [
              "'GOVERNO DO ESTADO DO ACRE SECRETARIA DE ESTADO DE EDUCAÇÃO, CULTURA E ESPORTES EDITAL TOMADA DE PREÇO N° 01/2021 Aviso de Licitação  A Escola Coronel Manoel Fontenele de Castro, de acordo com as disposições da Lei n/ 8.666/93 e suas alterações, torna público que realizará  a LICITAÇÃO a seguir caracterizada: Objeto: Aquisição de material de expediente, proteção, limpeza, higiene e material permanente. Para atender escola Coronel Manoel Fontenele de Castro, Retirada do edital: Escola Coronel Manoel Fontenele de Castro, no horário  de 8hs às 13hs, no período de 03 de agosto de 2021 à 17 de agosto de  2021. Data de Abertura das propostas: 20/08/2021 as 9:30h, Av. Dr. Manoel  Marinho Monte, nº 1328, bairro Ferreira Silva, Brasiléia – AC. Brasiléia – Acre, 30 de julho de 2021. Vanessa Machado Salvador  Rodrigues Presidente da CPL '"
            ],
            "application/vnd.google.colaboratory.intrinsic+json": {
              "type": "string"
            }
          },
          "metadata": {},
          "execution_count": 11
        }
      ],
      "source": [
        "X[26]"
      ]
    },
    {
      "cell_type": "code",
      "execution_count": 12,
      "metadata": {
        "colab": {
          "base_uri": "https://localhost:8080/"
        },
        "id": "FMXvJA_ewpCn",
        "outputId": "a393984e-2943-4628-9821-38b68101f617"
      },
      "outputs": [
        {
          "output_type": "execute_result",
          "data": {
            "text/plain": [
              "1"
            ]
          },
          "metadata": {},
          "execution_count": 12
        }
      ],
      "source": [
        "y[26]"
      ]
    },
    {
      "cell_type": "code",
      "execution_count": 13,
      "metadata": {
        "id": "CkmFqGXFtfNW"
      },
      "outputs": [],
      "source": [
        "# Pré-processamento dos dados.\n",
        "stemmer = PorterStemmer()\n",
        "\n",
        "# Lematização\n",
        "def lemmatize_stemming(text):\n",
        "    return stemmer.stem(WordNetLemmatizer().lemmatize(text, pos='v'))\n",
        "\n",
        "# Colocando todas as palavras para caixa baixa.\n",
        "def preprocess(text):\n",
        "  return lemmatize_stemming(text.lower())"
      ]
    },
    {
      "cell_type": "code",
      "execution_count": 14,
      "metadata": {
        "id": "Wje2E1nWw5YP"
      },
      "outputs": [],
      "source": [
        "class Text2TfIdfTransformer(BaseEstimator):\n",
        "    def __init__(self):\n",
        "        self._model = TfidfVectorizer()\n",
        "        pass\n",
        "\n",
        "    def fit(self, x, y=None):\n",
        "        x = x.apply(lambda x : preprocess(x))\n",
        "        self._model.fit(x)\n",
        "        return self\n",
        "\n",
        "    def transform(self, x):\n",
        "        return self._model.transform(x)"
      ]
    },
    {
      "cell_type": "code",
      "execution_count": 15,
      "metadata": {
        "id": "oGLBW9lssVro"
      },
      "outputs": [],
      "source": [
        "from sklearn.feature_extraction.text import TfidfVectorizer, CountVectorizer\n",
        "\n",
        "X = TfidfVectorizer().fit_transform(X)"
      ]
    },
    {
      "cell_type": "markdown",
      "metadata": {
        "id": "cxLcYV2AsiaO"
      },
      "source": [
        "## Algoritmos:"
      ]
    },
    {
      "cell_type": "markdown",
      "metadata": {
        "id": "PVZ1_WTaTmHH"
      },
      "source": [
        "### Preparar Dados"
      ]
    },
    {
      "cell_type": "code",
      "execution_count": 16,
      "metadata": {
        "id": "GbzOgtBiw_Ze"
      },
      "outputs": [],
      "source": [
        "X_train, X_test, y_train, y_test = train_test_split(X, y, test_size=0.3, stratify=y, shuffle=True)"
      ]
    },
    {
      "cell_type": "code",
      "execution_count": 17,
      "metadata": {
        "id": "mwqlVnNdsAY4"
      },
      "outputs": [],
      "source": [
        "import seaborn as sns\n",
        "from imblearn.under_sampling import RandomUnderSampler\n",
        "\n",
        "# configurar o estilo dos gráficos com o Seaborn\n",
        "sns.set_style('dark')"
      ]
    },
    {
      "cell_type": "code",
      "execution_count": 18,
      "metadata": {
        "colab": {
          "base_uri": "https://localhost:8080/",
          "height": 0
        },
        "id": "qTNm3R8FneBF",
        "outputId": "3748b195-c94e-4ed8-d48a-9ddee43e0575"
      },
      "outputs": [
        {
          "output_type": "stream",
          "name": "stdout",
          "text": [
            "0    602\n",
            "1    602\n",
            "Name: label, dtype: int64\n"
          ]
        },
        {
          "output_type": "display_data",
          "data": {
            "text/plain": [
              "<Figure size 432x288 with 1 Axes>"
            ],
            "image/png": "[encoded data removed]"
          },
          "metadata": {}
        }
      ],
      "source": [
        "# usar técnica under-sampling\n",
        "rus = RandomUnderSampler()\n",
        "X_res, y_res = rus.fit_resample(X_train, y_train)\n",
        "\n",
        "# ver o balanceamento das classes nos dados de treino\n",
        "print(pd.Series(y_res).value_counts())\n",
        "\n",
        "# plotar a nova distribuição de classes nos dados de treino\n",
        "sns.countplot(y_res);"
      ]
    },
    {
      "cell_type": "code",
      "execution_count": 19,
      "metadata": {
        "colab": {
          "base_uri": "https://localhost:8080/",
          "height": 0
        },
        "id": "0oBx-rUKyhsO",
        "outputId": "2f7f34b8-ed8a-4118-f763-a30a4ba2d394"
      },
      "outputs": [
        {
          "output_type": "stream",
          "name": "stdout",
          "text": [
            "0    1692\n",
            "1     258\n",
            "Name: label, dtype: int64\n"
          ]
        },
        {
          "output_type": "display_data",
          "data": {
            "text/plain": [
              "<Figure size 432x288 with 1 Axes>"
            ],
            "image/png": "[encoded data removed]"
          },
          "metadata": {}
        }
      ],
      "source": [
        "# ver o balanceamento das classes nos dados de testes\n",
        "print(pd.Series(y_test).value_counts())\n",
        "\n",
        "# plotar a nova distribuição de classes nos dados de testes\n",
        "sns.countplot(y_test);"
      ]
    },
    {
      "cell_type": "code",
      "execution_count": 20,
      "metadata": {
        "id": "NkA0wufm1pmO"
      },
      "outputs": [],
      "source": [
        "folds = 10\n",
        "kfold = StratifiedKFold(folds)"
      ]
    },
    {
      "cell_type": "code",
      "execution_count": 21,
      "metadata": {
        "id": "eLBeoRSX2xxe"
      },
      "outputs": [],
      "source": [
        "def evaluate_model(model, predicts, y_val):\n",
        "    accuracy = accuracy_score(y_val, predicts)\n",
        "    scores = precision_recall_fscore_support(y_val, predicts, average='macro')\n",
        "    print(f'- Precision: {scores[0]}\\n- Recall: {scores[1]}\\n- F1Score: {scores[2]}\\n- Acurácia: {accuracy}')"
      ]
    },
    {
      "cell_type": "markdown",
      "metadata": {
        "id": "PXNWPVfUFT3q"
      },
      "source": [
        "### XGBoost:\n",
        "\n",
        "Treinando o modelo de XGBoost usando o GridSearchCV com a validação cruzada e procurando os melhores hiper-parametros para nosso modelo.\n",
        "\n",
        "F1 Score no treino: 0.9833838546502746\n",
        "\n",
        "Na validação:\n",
        "- Precision: 0.9505768926821558\n",
        "- Recall: 0.989787783825389\n",
        "- F1Score: 0.9689771681832469\n",
        "- Acurácia: 0.9851282051282051"
      ]
    },
    {
      "cell_type": "markdown",
      "metadata": {
        "id": "EU2IXiLMPXQk"
      },
      "source": [
        "#### GridSearchCV"
      ]
    },
    {
      "cell_type": "code",
      "execution_count": null,
      "metadata": {
        "colab": {
          "base_uri": "https://localhost:8080/"
        },
        "id": "0rZ8otxn6jJz",
        "outputId": "68441bef-0795-4b05-85fa-af8e0b4167a4"
      },
      "outputs": [
        {
          "name": "stdout",
          "output_type": "stream",
          "text": [
            "Fitting 10 folds for each of 16 candidates, totalling 160 fits\n",
            "[CV 1/10] END clf__colsample_bytree=0.6, clf__max_depth=3, clf__min_child_weight=1, clf__subsample=0.6;, score=0.983 total time=   4.3s\n",
            "[CV 2/10] END clf__colsample_bytree=0.6, clf__max_depth=3, clf__min_child_weight=1, clf__subsample=0.6;, score=0.983 total time=   3.2s\n",
            "[CV 3/10] END clf__colsample_bytree=0.6, clf__max_depth=3, clf__min_child_weight=1, clf__subsample=0.6;, score=0.983 total time=   3.2s\n",
            "[CV 4/10] END clf__colsample_bytree=0.6, clf__max_depth=3, clf__min_child_weight=1, clf__subsample=0.6;, score=0.983 total time=   3.2s\n",
            "[CV 5/10] END clf__colsample_bytree=0.6, clf__max_depth=3, clf__min_child_weight=1, clf__subsample=0.6;, score=0.983 total time=   3.2s\n",
            "[CV 6/10] END clf__colsample_bytree=0.6, clf__max_depth=3, clf__min_child_weight=1, clf__subsample=0.6;, score=0.983 total time=   3.2s\n",
            "[CV 7/10] END clf__colsample_bytree=0.6, clf__max_depth=3, clf__min_child_weight=1, clf__subsample=0.6;, score=0.992 total time=   3.2s\n",
            "[CV 8/10] END clf__colsample_bytree=0.6, clf__max_depth=3, clf__min_child_weight=1, clf__subsample=0.6;, score=0.975 total time=   3.2s\n",
            "[CV 9/10] END clf__colsample_bytree=0.6, clf__max_depth=3, clf__min_child_weight=1, clf__subsample=0.6;, score=0.992 total time=   3.3s\n",
            "[CV 10/10] END clf__colsample_bytree=0.6, clf__max_depth=3, clf__min_child_weight=1, clf__subsample=0.6;, score=0.975 total time=   3.3s\n",
            "[CV 1/10] END clf__colsample_bytree=0.6, clf__max_depth=3, clf__min_child_weight=1, clf__subsample=0.8;, score=0.975 total time=   3.2s\n",
            "[CV 2/10] END clf__colsample_bytree=0.6, clf__max_depth=3, clf__min_child_weight=1, clf__subsample=0.8;, score=0.992 total time=   3.3s\n",
            "[CV 3/10] END clf__colsample_bytree=0.6, clf__max_depth=3, clf__min_child_weight=1, clf__subsample=0.8;, score=0.983 total time=   3.2s\n",
            "[CV 4/10] END clf__colsample_bytree=0.6, clf__max_depth=3, clf__min_child_weight=1, clf__subsample=0.8;, score=0.983 total time=   3.3s\n",
            "[CV 5/10] END clf__colsample_bytree=0.6, clf__max_depth=3, clf__min_child_weight=1, clf__subsample=0.8;, score=0.975 total time=   3.2s\n",
            "[CV 6/10] END clf__colsample_bytree=0.6, clf__max_depth=3, clf__min_child_weight=1, clf__subsample=0.8;, score=0.983 total time=   3.2s\n",
            "[CV 7/10] END clf__colsample_bytree=0.6, clf__max_depth=3, clf__min_child_weight=1, clf__subsample=0.8;, score=0.992 total time=   3.3s\n",
            "[CV 8/10] END clf__colsample_bytree=0.6, clf__max_depth=3, clf__min_child_weight=1, clf__subsample=0.8;, score=0.975 total time=   3.3s\n",
            "[CV 9/10] END clf__colsample_bytree=0.6, clf__max_depth=3, clf__min_child_weight=1, clf__subsample=0.8;, score=0.983 total time=   3.2s\n",
            "[CV 10/10] END clf__colsample_bytree=0.6, clf__max_depth=3, clf__min_child_weight=1, clf__subsample=0.8;, score=0.975 total time=   3.3s\n",
            "[CV 1/10] END clf__colsample_bytree=0.6, clf__max_depth=3, clf__min_child_weight=5, clf__subsample=0.6;, score=0.975 total time=   2.6s\n",
            "[CV 2/10] END clf__colsample_bytree=0.6, clf__max_depth=3, clf__min_child_weight=5, clf__subsample=0.6;, score=0.975 total time=   3.4s\n",
            "[CV 3/10] END clf__colsample_bytree=0.6, clf__max_depth=3, clf__min_child_weight=5, clf__subsample=0.6;, score=0.992 total time=   2.6s\n",
            "[CV 4/10] END clf__colsample_bytree=0.6, clf__max_depth=3, clf__min_child_weight=5, clf__subsample=0.6;, score=0.983 total time=   2.7s\n",
            "[CV 5/10] END clf__colsample_bytree=0.6, clf__max_depth=3, clf__min_child_weight=5, clf__subsample=0.6;, score=0.983 total time=   2.6s\n",
            "[CV 6/10] END clf__colsample_bytree=0.6, clf__max_depth=3, clf__min_child_weight=5, clf__subsample=0.6;, score=0.983 total time=   2.6s\n",
            "[CV 7/10] END clf__colsample_bytree=0.6, clf__max_depth=3, clf__min_child_weight=5, clf__subsample=0.6;, score=0.992 total time=   2.6s\n",
            "[CV 8/10] END clf__colsample_bytree=0.6, clf__max_depth=3, clf__min_child_weight=5, clf__subsample=0.6;, score=0.975 total time=   2.6s\n",
            "[CV 9/10] END clf__colsample_bytree=0.6, clf__max_depth=3, clf__min_child_weight=5, clf__subsample=0.6;, score=0.992 total time=   2.7s\n",
            "[CV 10/10] END clf__colsample_bytree=0.6, clf__max_depth=3, clf__min_child_weight=5, clf__subsample=0.6;, score=0.975 total time=   2.6s\n",
            "[CV 1/10] END clf__colsample_bytree=0.6, clf__max_depth=3, clf__min_child_weight=5, clf__subsample=0.8;, score=0.975 total time=   3.9s\n",
            "[CV 2/10] END clf__colsample_bytree=0.6, clf__max_depth=3, clf__min_child_weight=5, clf__subsample=0.8;, score=0.983 total time=   2.7s\n",
            "[CV 3/10] END clf__colsample_bytree=0.6, clf__max_depth=3, clf__min_child_weight=5, clf__subsample=0.8;, score=0.983 total time=   2.8s\n",
            "[CV 4/10] END clf__colsample_bytree=0.6, clf__max_depth=3, clf__min_child_weight=5, clf__subsample=0.8;, score=0.983 total time=   2.7s\n",
            "[CV 5/10] END clf__colsample_bytree=0.6, clf__max_depth=3, clf__min_child_weight=5, clf__subsample=0.8;, score=0.975 total time=   3.5s\n",
            "[CV 6/10] END clf__colsample_bytree=0.6, clf__max_depth=3, clf__min_child_weight=5, clf__subsample=0.8;, score=0.983 total time=   2.7s\n",
            "[CV 7/10] END clf__colsample_bytree=0.6, clf__max_depth=3, clf__min_child_weight=5, clf__subsample=0.8;, score=0.992 total time=   2.7s\n",
            "[CV 8/10] END clf__colsample_bytree=0.6, clf__max_depth=3, clf__min_child_weight=5, clf__subsample=0.8;, score=0.967 total time=   2.7s\n",
            "[CV 9/10] END clf__colsample_bytree=0.6, clf__max_depth=3, clf__min_child_weight=5, clf__subsample=0.8;, score=0.992 total time=   2.8s\n",
            "[CV 10/10] END clf__colsample_bytree=0.6, clf__max_depth=3, clf__min_child_weight=5, clf__subsample=0.8;, score=0.975 total time=   2.7s\n",
            "[CV 1/10] END clf__colsample_bytree=0.6, clf__max_depth=4, clf__min_child_weight=1, clf__subsample=0.6;, score=0.975 total time=   3.8s\n",
            "[CV 2/10] END clf__colsample_bytree=0.6, clf__max_depth=4, clf__min_child_weight=1, clf__subsample=0.6;, score=0.983 total time=   3.8s\n",
            "[CV 3/10] END clf__colsample_bytree=0.6, clf__max_depth=4, clf__min_child_weight=1, clf__subsample=0.6;, score=0.983 total time=   3.9s\n",
            "[CV 4/10] END clf__colsample_bytree=0.6, clf__max_depth=4, clf__min_child_weight=1, clf__subsample=0.6;, score=0.983 total time=   3.9s\n",
            "[CV 5/10] END clf__colsample_bytree=0.6, clf__max_depth=4, clf__min_child_weight=1, clf__subsample=0.6;, score=0.975 total time=   3.9s\n",
            "[CV 6/10] END clf__colsample_bytree=0.6, clf__max_depth=4, clf__min_child_weight=1, clf__subsample=0.6;, score=0.983 total time=   3.9s\n",
            "[CV 7/10] END clf__colsample_bytree=0.6, clf__max_depth=4, clf__min_child_weight=1, clf__subsample=0.6;, score=0.992 total time=   3.9s\n",
            "[CV 8/10] END clf__colsample_bytree=0.6, clf__max_depth=4, clf__min_child_weight=1, clf__subsample=0.6;, score=0.975 total time=   3.8s\n",
            "[CV 9/10] END clf__colsample_bytree=0.6, clf__max_depth=4, clf__min_child_weight=1, clf__subsample=0.6;, score=0.992 total time=   3.9s\n",
            "[CV 10/10] END clf__colsample_bytree=0.6, clf__max_depth=4, clf__min_child_weight=1, clf__subsample=0.6;, score=0.975 total time=   3.9s\n",
            "[CV 1/10] END clf__colsample_bytree=0.6, clf__max_depth=4, clf__min_child_weight=1, clf__subsample=0.8;, score=0.975 total time=   5.5s\n",
            "[CV 2/10] END clf__colsample_bytree=0.6, clf__max_depth=4, clf__min_child_weight=1, clf__subsample=0.8;, score=0.992 total time=   3.9s\n",
            "[CV 3/10] END clf__colsample_bytree=0.6, clf__max_depth=4, clf__min_child_weight=1, clf__subsample=0.8;, score=0.975 total time=   3.9s\n",
            "[CV 4/10] END clf__colsample_bytree=0.6, clf__max_depth=4, clf__min_child_weight=1, clf__subsample=0.8;, score=0.983 total time=   4.0s\n",
            "[CV 5/10] END clf__colsample_bytree=0.6, clf__max_depth=4, clf__min_child_weight=1, clf__subsample=0.8;, score=0.975 total time=   3.9s\n",
            "[CV 6/10] END clf__colsample_bytree=0.6, clf__max_depth=4, clf__min_child_weight=1, clf__subsample=0.8;, score=0.983 total time=   4.0s\n",
            "[CV 7/10] END clf__colsample_bytree=0.6, clf__max_depth=4, clf__min_child_weight=1, clf__subsample=0.8;, score=0.992 total time=   4.0s\n",
            "[CV 8/10] END clf__colsample_bytree=0.6, clf__max_depth=4, clf__min_child_weight=1, clf__subsample=0.8;, score=0.975 total time=   4.0s\n",
            "[CV 9/10] END clf__colsample_bytree=0.6, clf__max_depth=4, clf__min_child_weight=1, clf__subsample=0.8;, score=0.983 total time=   4.0s\n",
            "[CV 10/10] END clf__colsample_bytree=0.6, clf__max_depth=4, clf__min_child_weight=1, clf__subsample=0.8;, score=0.983 total time=   4.0s\n",
            "[CV 1/10] END clf__colsample_bytree=0.6, clf__max_depth=4, clf__min_child_weight=5, clf__subsample=0.6;, score=0.975 total time=   2.8s\n",
            "[CV 2/10] END clf__colsample_bytree=0.6, clf__max_depth=4, clf__min_child_weight=5, clf__subsample=0.6;, score=0.975 total time=   2.7s\n",
            "[CV 3/10] END clf__colsample_bytree=0.6, clf__max_depth=4, clf__min_child_weight=5, clf__subsample=0.6;, score=0.992 total time=   2.8s\n",
            "[CV 4/10] END clf__colsample_bytree=0.6, clf__max_depth=4, clf__min_child_weight=5, clf__subsample=0.6;, score=0.983 total time=   3.6s\n",
            "[CV 5/10] END clf__colsample_bytree=0.6, clf__max_depth=4, clf__min_child_weight=5, clf__subsample=0.6;, score=0.983 total time=   2.9s\n",
            "[CV 6/10] END clf__colsample_bytree=0.6, clf__max_depth=4, clf__min_child_weight=5, clf__subsample=0.6;, score=0.983 total time=   2.8s\n",
            "[CV 7/10] END clf__colsample_bytree=0.6, clf__max_depth=4, clf__min_child_weight=5, clf__subsample=0.6;, score=0.992 total time=   2.9s\n",
            "[CV 8/10] END clf__colsample_bytree=0.6, clf__max_depth=4, clf__min_child_weight=5, clf__subsample=0.6;, score=0.967 total time=   2.8s\n",
            "[CV 9/10] END clf__colsample_bytree=0.6, clf__max_depth=4, clf__min_child_weight=5, clf__subsample=0.6;, score=0.992 total time=   2.9s\n",
            "[CV 10/10] END clf__colsample_bytree=0.6, clf__max_depth=4, clf__min_child_weight=5, clf__subsample=0.6;, score=0.967 total time=   2.8s\n",
            "[CV 1/10] END clf__colsample_bytree=0.6, clf__max_depth=4, clf__min_child_weight=5, clf__subsample=0.8;, score=0.975 total time=   3.0s\n",
            "[CV 2/10] END clf__colsample_bytree=0.6, clf__max_depth=4, clf__min_child_weight=5, clf__subsample=0.8;, score=0.983 total time=   3.0s\n",
            "[CV 3/10] END clf__colsample_bytree=0.6, clf__max_depth=4, clf__min_child_weight=5, clf__subsample=0.8;, score=0.983 total time=   3.1s\n",
            "[CV 4/10] END clf__colsample_bytree=0.6, clf__max_depth=4, clf__min_child_weight=5, clf__subsample=0.8;, score=0.983 total time=   3.0s\n",
            "[CV 5/10] END clf__colsample_bytree=0.6, clf__max_depth=4, clf__min_child_weight=5, clf__subsample=0.8;, score=0.975 total time=   3.1s\n",
            "[CV 6/10] END clf__colsample_bytree=0.6, clf__max_depth=4, clf__min_child_weight=5, clf__subsample=0.8;, score=0.983 total time=   3.0s\n",
            "[CV 7/10] END clf__colsample_bytree=0.6, clf__max_depth=4, clf__min_child_weight=5, clf__subsample=0.8;, score=0.992 total time=   3.1s\n",
            "[CV 8/10] END clf__colsample_bytree=0.6, clf__max_depth=4, clf__min_child_weight=5, clf__subsample=0.8;, score=0.967 total time=   3.0s\n",
            "[CV 9/10] END clf__colsample_bytree=0.6, clf__max_depth=4, clf__min_child_weight=5, clf__subsample=0.8;, score=0.992 total time=   3.1s\n",
            "[CV 10/10] END clf__colsample_bytree=0.6, clf__max_depth=4, clf__min_child_weight=5, clf__subsample=0.8;, score=0.975 total time=   3.0s\n",
            "[CV 1/10] END clf__colsample_bytree=1.0, clf__max_depth=3, clf__min_child_weight=1, clf__subsample=0.6;, score=0.975 total time=   4.8s\n",
            "[CV 2/10] END clf__colsample_bytree=1.0, clf__max_depth=3, clf__min_child_weight=1, clf__subsample=0.6;, score=0.992 total time=   4.8s\n",
            "[CV 3/10] END clf__colsample_bytree=1.0, clf__max_depth=3, clf__min_child_weight=1, clf__subsample=0.6;, score=0.967 total time=   4.9s\n",
            "[CV 4/10] END clf__colsample_bytree=1.0, clf__max_depth=3, clf__min_child_weight=1, clf__subsample=0.6;, score=0.983 total time=   4.8s\n",
            "[CV 5/10] END clf__colsample_bytree=1.0, clf__max_depth=3, clf__min_child_weight=1, clf__subsample=0.6;, score=0.975 total time=   4.9s\n",
            "[CV 6/10] END clf__colsample_bytree=1.0, clf__max_depth=3, clf__min_child_weight=1, clf__subsample=0.6;, score=0.983 total time=   4.8s\n",
            "[CV 7/10] END clf__colsample_bytree=1.0, clf__max_depth=3, clf__min_child_weight=1, clf__subsample=0.6;, score=0.992 total time=   4.9s\n",
            "[CV 8/10] END clf__colsample_bytree=1.0, clf__max_depth=3, clf__min_child_weight=1, clf__subsample=0.6;, score=0.975 total time=   4.8s\n",
            "[CV 9/10] END clf__colsample_bytree=1.0, clf__max_depth=3, clf__min_child_weight=1, clf__subsample=0.6;, score=0.992 total time=   4.8s\n",
            "[CV 10/10] END clf__colsample_bytree=1.0, clf__max_depth=3, clf__min_child_weight=1, clf__subsample=0.6;, score=0.967 total time=   4.9s\n",
            "[CV 1/10] END clf__colsample_bytree=1.0, clf__max_depth=3, clf__min_child_weight=1, clf__subsample=0.8;, score=0.975 total time=   4.8s\n",
            "[CV 2/10] END clf__colsample_bytree=1.0, clf__max_depth=3, clf__min_child_weight=1, clf__subsample=0.8;, score=0.992 total time=   4.8s\n",
            "[CV 3/10] END clf__colsample_bytree=1.0, clf__max_depth=3, clf__min_child_weight=1, clf__subsample=0.8;, score=0.983 total time=   4.8s\n",
            "[CV 4/10] END clf__colsample_bytree=1.0, clf__max_depth=3, clf__min_child_weight=1, clf__subsample=0.8;, score=0.992 total time=   4.8s\n",
            "[CV 5/10] END clf__colsample_bytree=1.0, clf__max_depth=3, clf__min_child_weight=1, clf__subsample=0.8;, score=0.975 total time=   4.8s\n",
            "[CV 6/10] END clf__colsample_bytree=1.0, clf__max_depth=3, clf__min_child_weight=1, clf__subsample=0.8;, score=0.983 total time=   4.9s\n",
            "[CV 7/10] END clf__colsample_bytree=1.0, clf__max_depth=3, clf__min_child_weight=1, clf__subsample=0.8;, score=0.992 total time=   4.8s\n",
            "[CV 8/10] END clf__colsample_bytree=1.0, clf__max_depth=3, clf__min_child_weight=1, clf__subsample=0.8;, score=0.967 total time=   4.9s\n",
            "[CV 9/10] END clf__colsample_bytree=1.0, clf__max_depth=3, clf__min_child_weight=1, clf__subsample=0.8;, score=0.983 total time=   4.8s\n",
            "[CV 10/10] END clf__colsample_bytree=1.0, clf__max_depth=3, clf__min_child_weight=1, clf__subsample=0.8;, score=0.975 total time=   4.9s\n",
            "[CV 1/10] END clf__colsample_bytree=1.0, clf__max_depth=3, clf__min_child_weight=5, clf__subsample=0.6;, score=0.975 total time=   3.8s\n",
            "[CV 2/10] END clf__colsample_bytree=1.0, clf__max_depth=3, clf__min_child_weight=5, clf__subsample=0.6;, score=0.983 total time=   4.6s\n",
            "[CV 3/10] END clf__colsample_bytree=1.0, clf__max_depth=3, clf__min_child_weight=5, clf__subsample=0.6;, score=0.992 total time=   4.0s\n",
            "[CV 4/10] END clf__colsample_bytree=1.0, clf__max_depth=3, clf__min_child_weight=5, clf__subsample=0.6;, score=0.983 total time=   3.8s\n",
            "[CV 5/10] END clf__colsample_bytree=1.0, clf__max_depth=3, clf__min_child_weight=5, clf__subsample=0.6;, score=0.983 total time=   3.7s\n",
            "[CV 6/10] END clf__colsample_bytree=1.0, clf__max_depth=3, clf__min_child_weight=5, clf__subsample=0.6;, score=0.983 total time=   3.7s\n",
            "[CV 7/10] END clf__colsample_bytree=1.0, clf__max_depth=3, clf__min_child_weight=5, clf__subsample=0.6;, score=0.992 total time=   3.9s\n",
            "[CV 8/10] END clf__colsample_bytree=1.0, clf__max_depth=3, clf__min_child_weight=5, clf__subsample=0.6;, score=0.967 total time=   3.8s\n",
            "[CV 9/10] END clf__colsample_bytree=1.0, clf__max_depth=3, clf__min_child_weight=5, clf__subsample=0.6;, score=0.992 total time=   3.9s\n",
            "[CV 10/10] END clf__colsample_bytree=1.0, clf__max_depth=3, clf__min_child_weight=5, clf__subsample=0.6;, score=0.975 total time=   3.7s\n",
            "[CV 1/10] END clf__colsample_bytree=1.0, clf__max_depth=3, clf__min_child_weight=5, clf__subsample=0.8;, score=0.975 total time=   4.0s\n",
            "[CV 2/10] END clf__colsample_bytree=1.0, clf__max_depth=3, clf__min_child_weight=5, clf__subsample=0.8;, score=0.975 total time=   4.0s\n",
            "[CV 3/10] END clf__colsample_bytree=1.0, clf__max_depth=3, clf__min_child_weight=5, clf__subsample=0.8;, score=0.983 total time=   4.0s\n",
            "[CV 4/10] END clf__colsample_bytree=1.0, clf__max_depth=3, clf__min_child_weight=5, clf__subsample=0.8;, score=0.983 total time=   4.0s\n",
            "[CV 5/10] END clf__colsample_bytree=1.0, clf__max_depth=3, clf__min_child_weight=5, clf__subsample=0.8;, score=0.983 total time=   4.0s\n",
            "[CV 6/10] END clf__colsample_bytree=1.0, clf__max_depth=3, clf__min_child_weight=5, clf__subsample=0.8;, score=0.983 total time=   4.0s\n",
            "[CV 7/10] END clf__colsample_bytree=1.0, clf__max_depth=3, clf__min_child_weight=5, clf__subsample=0.8;, score=0.992 total time=   4.0s\n",
            "[CV 8/10] END clf__colsample_bytree=1.0, clf__max_depth=3, clf__min_child_weight=5, clf__subsample=0.8;, score=0.967 total time=   4.0s\n",
            "[CV 9/10] END clf__colsample_bytree=1.0, clf__max_depth=3, clf__min_child_weight=5, clf__subsample=0.8;, score=0.992 total time=   4.1s\n",
            "[CV 10/10] END clf__colsample_bytree=1.0, clf__max_depth=3, clf__min_child_weight=5, clf__subsample=0.8;, score=0.975 total time=   4.0s\n",
            "[CV 1/10] END clf__colsample_bytree=1.0, clf__max_depth=4, clf__min_child_weight=1, clf__subsample=0.6;, score=0.975 total time=   5.7s\n",
            "[CV 2/10] END clf__colsample_bytree=1.0, clf__max_depth=4, clf__min_child_weight=1, clf__subsample=0.6;, score=0.983 total time=   5.8s\n",
            "[CV 3/10] END clf__colsample_bytree=1.0, clf__max_depth=4, clf__min_child_weight=1, clf__subsample=0.6;, score=0.975 total time=   5.9s\n",
            "[CV 4/10] END clf__colsample_bytree=1.0, clf__max_depth=4, clf__min_child_weight=1, clf__subsample=0.6;, score=0.992 total time=   5.8s\n",
            "[CV 5/10] END clf__colsample_bytree=1.0, clf__max_depth=4, clf__min_child_weight=1, clf__subsample=0.6;, score=0.983 total time=   5.9s\n",
            "[CV 6/10] END clf__colsample_bytree=1.0, clf__max_depth=4, clf__min_child_weight=1, clf__subsample=0.6;, score=0.983 total time=   5.8s\n",
            "[CV 7/10] END clf__colsample_bytree=1.0, clf__max_depth=4, clf__min_child_weight=1, clf__subsample=0.6;, score=0.992 total time=   5.9s\n",
            "[CV 8/10] END clf__colsample_bytree=1.0, clf__max_depth=4, clf__min_child_weight=1, clf__subsample=0.6;, score=0.967 total time=   5.9s\n",
            "[CV 9/10] END clf__colsample_bytree=1.0, clf__max_depth=4, clf__min_child_weight=1, clf__subsample=0.6;, score=0.983 total time=   5.9s\n",
            "[CV 10/10] END clf__colsample_bytree=1.0, clf__max_depth=4, clf__min_child_weight=1, clf__subsample=0.6;, score=0.975 total time=   5.9s\n",
            "[CV 1/10] END clf__colsample_bytree=1.0, clf__max_depth=4, clf__min_child_weight=1, clf__subsample=0.8;, score=0.975 total time=   5.9s\n",
            "[CV 2/10] END clf__colsample_bytree=1.0, clf__max_depth=4, clf__min_child_weight=1, clf__subsample=0.8;, score=0.992 total time=   6.0s\n",
            "[CV 3/10] END clf__colsample_bytree=1.0, clf__max_depth=4, clf__min_child_weight=1, clf__subsample=0.8;, score=0.983 total time=   6.0s\n",
            "[CV 4/10] END clf__colsample_bytree=1.0, clf__max_depth=4, clf__min_child_weight=1, clf__subsample=0.8;, score=0.992 total time=   6.0s\n",
            "[CV 5/10] END clf__colsample_bytree=1.0, clf__max_depth=4, clf__min_child_weight=1, clf__subsample=0.8;, score=0.975 total time=   6.2s\n",
            "[CV 6/10] END clf__colsample_bytree=1.0, clf__max_depth=4, clf__min_child_weight=1, clf__subsample=0.8;, score=0.983 total time=   6.0s\n",
            "[CV 7/10] END clf__colsample_bytree=1.0, clf__max_depth=4, clf__min_child_weight=1, clf__subsample=0.8;, score=0.992 total time=   6.1s\n",
            "[CV 8/10] END clf__colsample_bytree=1.0, clf__max_depth=4, clf__min_child_weight=1, clf__subsample=0.8;, score=0.967 total time=   6.0s\n",
            "[CV 9/10] END clf__colsample_bytree=1.0, clf__max_depth=4, clf__min_child_weight=1, clf__subsample=0.8;, score=0.992 total time=   6.1s\n",
            "[CV 10/10] END clf__colsample_bytree=1.0, clf__max_depth=4, clf__min_child_weight=1, clf__subsample=0.8;, score=0.975 total time=   6.0s\n",
            "[CV 1/10] END clf__colsample_bytree=1.0, clf__max_depth=4, clf__min_child_weight=5, clf__subsample=0.6;, score=0.975 total time=   4.1s\n",
            "[CV 2/10] END clf__colsample_bytree=1.0, clf__max_depth=4, clf__min_child_weight=5, clf__subsample=0.6;, score=0.983 total time=   4.0s\n",
            "[CV 3/10] END clf__colsample_bytree=1.0, clf__max_depth=4, clf__min_child_weight=5, clf__subsample=0.6;, score=0.992 total time=   4.1s\n",
            "[CV 4/10] END clf__colsample_bytree=1.0, clf__max_depth=4, clf__min_child_weight=5, clf__subsample=0.6;, score=0.983 total time=   4.1s\n",
            "[CV 5/10] END clf__colsample_bytree=1.0, clf__max_depth=4, clf__min_child_weight=5, clf__subsample=0.6;, score=0.983 total time=   4.1s\n",
            "[CV 6/10] END clf__colsample_bytree=1.0, clf__max_depth=4, clf__min_child_weight=5, clf__subsample=0.6;, score=0.983 total time=   4.0s\n",
            "[CV 7/10] END clf__colsample_bytree=1.0, clf__max_depth=4, clf__min_child_weight=5, clf__subsample=0.6;, score=0.992 total time=   4.1s\n",
            "[CV 8/10] END clf__colsample_bytree=1.0, clf__max_depth=4, clf__min_child_weight=5, clf__subsample=0.6;, score=0.967 total time=   4.1s\n",
            "[CV 9/10] END clf__colsample_bytree=1.0, clf__max_depth=4, clf__min_child_weight=5, clf__subsample=0.6;, score=0.992 total time=   4.2s\n",
            "[CV 10/10] END clf__colsample_bytree=1.0, clf__max_depth=4, clf__min_child_weight=5, clf__subsample=0.6;, score=0.975 total time=   4.0s\n",
            "[CV 1/10] END clf__colsample_bytree=1.0, clf__max_depth=4, clf__min_child_weight=5, clf__subsample=0.8;, score=0.975 total time=   4.4s\n",
            "[CV 2/10] END clf__colsample_bytree=1.0, clf__max_depth=4, clf__min_child_weight=5, clf__subsample=0.8;, score=0.967 total time=   4.4s\n",
            "[CV 3/10] END clf__colsample_bytree=1.0, clf__max_depth=4, clf__min_child_weight=5, clf__subsample=0.8;, score=0.983 total time=   4.5s\n",
            "[CV 4/10] END clf__colsample_bytree=1.0, clf__max_depth=4, clf__min_child_weight=5, clf__subsample=0.8;, score=0.983 total time=   4.5s\n",
            "[CV 5/10] END clf__colsample_bytree=1.0, clf__max_depth=4, clf__min_child_weight=5, clf__subsample=0.8;, score=0.983 total time=   4.5s\n",
            "[CV 6/10] END clf__colsample_bytree=1.0, clf__max_depth=4, clf__min_child_weight=5, clf__subsample=0.8;, score=0.983 total time=   4.5s\n",
            "[CV 7/10] END clf__colsample_bytree=1.0, clf__max_depth=4, clf__min_child_weight=5, clf__subsample=0.8;, score=0.992 total time=   4.5s\n",
            "[CV 8/10] END clf__colsample_bytree=1.0, clf__max_depth=4, clf__min_child_weight=5, clf__subsample=0.8;, score=0.975 total time=   4.5s\n",
            "[CV 9/10] END clf__colsample_bytree=1.0, clf__max_depth=4, clf__min_child_weight=5, clf__subsample=0.8;, score=0.992 total time=   5.7s\n",
            "[CV 10/10] END clf__colsample_bytree=1.0, clf__max_depth=4, clf__min_child_weight=5, clf__subsample=0.8;, score=0.975 total time=   4.4s\n"
          ]
        },
        {
          "data": {
            "text/plain": [
              "GridSearchCV(cv=10, estimator=Pipeline(steps=[('clf', XGBClassifier())]),\n",
              "             param_grid={'clf__colsample_bytree': [0.6, 1.0],\n",
              "                         'clf__max_depth': [3, 4],\n",
              "                         'clf__min_child_weight': [1, 5],\n",
              "                         'clf__subsample': [0.6, 0.8]},\n",
              "             scoring='f1_macro', verbose=4)"
            ]
          },
          "execution_count": 534,
          "metadata": {},
          "output_type": "execute_result"
        }
      ],
      "source": [
        "pl_xgb_tf_idf = Pipeline(steps=[('clf', xgb.XGBClassifier(objective='binary:logistic'))])\n",
        "params = {'clf__min_child_weight': [1, 5], 'clf__subsample': [0.6, 0.8],\n",
        "          'clf__colsample_bytree': [0.6, 1.0], 'clf__max_depth': [3, 4] }\n",
        "grid = GridSearchCV(estimator=pl_xgb_tf_idf, param_grid=params, scoring='f1_macro', cv=folds, verbose=4)\n",
        "grid.fit(X_res, y_res)"
      ]
    },
    {
      "cell_type": "code",
      "execution_count": null,
      "metadata": {
        "colab": {
          "base_uri": "https://localhost:8080/"
        },
        "id": "qMayPla6vdT_",
        "outputId": "32029903-e436-4c8a-ee85-2c577278bdbd"
      },
      "outputs": [
        {
          "data": {
            "text/plain": [
              "['grid_xgb_tf_idf.pkl']"
            ]
          },
          "execution_count": 548,
          "metadata": {},
          "output_type": "execute_result"
        }
      ],
      "source": [
        "import joblib\n",
        "\n",
        "#save your model or results\n",
        "# joblib.dump(grid, 'grid_xgb_tf_idf.pkl')\n",
        "\n",
        "#load your model for further usage\n",
        "grid = joblib.load(\"grid_xgb_tf_idf.pkl\")"
      ]
    },
    {
      "cell_type": "code",
      "execution_count": null,
      "metadata": {
        "colab": {
          "base_uri": "https://localhost:8080/"
        },
        "id": "nM29_aWh6jJ0",
        "outputId": "9cc5fe23-c275-4812-bfa4-6475b3d41d4f"
      },
      "outputs": [
        {
          "name": "stdout",
          "output_type": "stream",
          "text": [
            "Melhor min_child_weight: 1. Melhor colsample_bytree: 0.6.\n",
            "Melhor subsample: 0.6.  Melhor max_depth: 3.\n",
            "Resultou no F1 0.9833838546502746 durante o 10-fold\n"
          ]
        }
      ],
      "source": [
        "print(f'Melhor min_child_weight: {grid.best_params_[\"clf__min_child_weight\"]}. Melhor colsample_bytree: {grid.best_params_[\"clf__colsample_bytree\"]}.')\n",
        "print(f'Melhor subsample: {grid.best_params_[\"clf__subsample\"]}.  Melhor max_depth: {grid.best_params_[\"clf__max_depth\"]}.')\n",
        "print(f'Resultou no F1 {grid.best_score_} durante o {folds}-fold')"
      ]
    },
    {
      "cell_type": "markdown",
      "metadata": {
        "id": "fIRuWZvARjY9"
      },
      "source": [
        "#### Treinando o modelo XGBoost com os melhores parametros"
      ]
    },
    {
      "cell_type": "code",
      "execution_count": null,
      "metadata": {
        "id": "8-JmuxzPJynA"
      },
      "outputs": [],
      "source": [
        "best_params = grid.best_params_"
      ]
    },
    {
      "cell_type": "markdown",
      "metadata": {
        "id": "dU5ZgTjfPKKV"
      },
      "source": [
        "##### Overfiting\n"
      ]
    },
    {
      "cell_type": "code",
      "execution_count": null,
      "metadata": {
        "id": "m2UkkhJwvtCH"
      },
      "outputs": [],
      "source": [
        "from sklearn.model_selection import KFold\n",
        "from sklearn.neighbors import KNeighborsClassifier\n",
        "from sklearn.metrics import mean_absolute_error\n",
        "import matplotlib.pyplot as plt\n",
        "\n",
        "\n",
        "kf = KFold(n_splits=70)\n",
        "mae_train = []\n",
        "mae_test = []\n",
        "\n",
        "X_ = X_res\n",
        "Y_ = y_res\n",
        "\n",
        "for train_index, test_index in kf.split(X_):\n",
        "    X_train_, X_test_ = X_[train_index], X_[test_index]\n",
        "    y_train_, y_test_ = Y_[train_index], Y_[test_index]\n",
        "\n",
        "    pl_xgb_tf_idf = Pipeline(steps=[('clf', xgb.XGBClassifier(\n",
        "                             objective='binary:logistic',\n",
        "                             max_depth=best_params['clf__max_depth'],\n",
        "                             subsample=best_params['clf__subsample'],\n",
        "                             min_child_weight=best_params['clf__min_child_weight'],\n",
        "                             colsample_bytree=best_params['clf__colsample_bytree'])\n",
        "                         )])\n",
        "    pl_xgb_tf_idf.fit(X_train_, y_train_)\n",
        "\n",
        "    y_train_pred = pl_xgb_tf_idf.predict(X_train_)\n",
        "    y_test_pred = pl_xgb_tf_idf.predict(X_test_)\n",
        "    mae_train.append(mean_absolute_error(y_train_, y_train_pred))\n",
        "    mae_test.append(mean_absolute_error(y_test_, y_test_pred))"
      ]
    },
    {
      "cell_type": "code",
      "execution_count": null,
      "metadata": {
        "colab": {
          "base_uri": "https://localhost:8080/",
          "height": 279
        },
        "id": "Y77dKS4O1j5b",
        "outputId": "de3f8a5f-bcac-4041-dfdb-b6f8a4236a2e"
      },
      "outputs": [
        {
          "data": {
            "image/png": "[encoded data removed]",
            "text/plain": [
              "<Figure size 432x288 with 1 Axes>"
            ]
          },
          "metadata": {},
          "output_type": "display_data"
        }
      ],
      "source": [
        "folds = range(1, kf.get_n_splits() + 1)\n",
        "plt.plot(folds, mae_train, 'o-', color='green', label='train')\n",
        "plt.plot(folds, mae_test, 'o-', color='red', label='test')\n",
        "plt.legend()\n",
        "plt.grid()\n",
        "plt.xlabel('Number of fold')\n",
        "plt.ylabel('Mean Absolute Error')\n",
        "plt.show()"
      ]
    },
    {
      "cell_type": "markdown",
      "metadata": {
        "id": "1bTSSg7VPMxV"
      },
      "source": [
        "##### Melhor Modelo:"
      ]
    },
    {
      "cell_type": "code",
      "execution_count": null,
      "metadata": {
        "colab": {
          "base_uri": "https://localhost:8080/"
        },
        "id": "ZDRje2YOZyKU",
        "outputId": "38838d6f-8a6f-496c-ff06-98efc7a3536a"
      },
      "outputs": [
        {
          "data": {
            "text/plain": [
              "Pipeline(steps=[('clf', XGBClassifier(colsample_bytree=1.0, subsample=0.6))])"
            ]
          },
          "execution_count": 513,
          "metadata": {},
          "output_type": "execute_result"
        }
      ],
      "source": [
        "pl_xgb_tf_idf = Pipeline(steps=[('clf', xgb.XGBClassifier(\n",
        "                             objective='binary:logistic',\n",
        "                             max_depth=best_params['clf__max_depth'],\n",
        "                             subsample=best_params['clf__subsample'],\n",
        "                             min_child_weight=best_params['clf__min_child_weight'],\n",
        "                             colsample_bytree=best_params['clf__colsample_bytree'])\n",
        "                         )])\n",
        "pl_xgb_tf_idf.fit(X_res, y_res)"
      ]
    },
    {
      "cell_type": "code",
      "execution_count": null,
      "metadata": {
        "id": "oTKOYXZV0-I9"
      },
      "outputs": [],
      "source": [
        "filename = 'xgb_tf_idf.sav'\n",
        "pickle.dump(pl_xgb_tf_idf, open(filename, 'wb'))"
      ]
    },
    {
      "cell_type": "code",
      "execution_count": null,
      "metadata": {
        "id": "0CzOtdJNn6aS"
      },
      "outputs": [],
      "source": [
        "pl_xgb_tf_idf = pickle.load(open(\"xgb_tf_idf.sav\", 'rb'))"
      ]
    },
    {
      "cell_type": "code",
      "execution_count": null,
      "metadata": {
        "colab": {
          "base_uri": "https://localhost:8080/"
        },
        "id": "WlOj3Mpo6jJ2",
        "outputId": "f0e75f5a-ea04-4f71-f0b0-7496358e06e2"
      },
      "outputs": [
        {
          "name": "stdout",
          "output_type": "stream",
          "text": [
            "- Precision: 0.9505768926821558\n",
            "- Recail: 0.989787783825389\n",
            "- F1Score: 0.9689771681832469\n",
            "- Acurácia: 0.9851282051282051\n"
          ]
        }
      ],
      "source": [
        "pred = pl_xgb_tf_idf.predict(X_test)\n",
        "evaluate_model(pl_xgb_tf_idf, pred, y_test)"
      ]
    },
    {
      "cell_type": "code",
      "execution_count": null,
      "metadata": {
        "colab": {
          "base_uri": "https://localhost:8080/",
          "height": 297
        },
        "id": "o4yPQL0mqVpG",
        "outputId": "85a3d3a1-f6bd-428e-ce3b-126d52b2dd13"
      },
      "outputs": [
        {
          "data": {
            "image/png": "[encoded data removed]",
            "text/plain": [
              "<Figure size 432x288 with 2 Axes>"
            ]
          },
          "metadata": {},
          "output_type": "display_data"
        }
      ],
      "source": [
        "conf = confusion_matrix(y_test, pred)\n",
        "plot_confusion_matrix(conf, y.unique())"
      ]
    },
    {
      "cell_type": "markdown",
      "metadata": {
        "id": "_1ybOsZj26vG"
      },
      "source": [
        "### Regressão Logistica\n",
        "\n",
        "Treinando o modelo de Regressão Logistica usando o GridSearchCV com a validação cruzada e procurando os melhores hiper-parametros para nosso modelo.\n",
        "\n",
        "F1 Score no treino: 0.9825426768296455\n",
        "\n",
        "Na validação: \n",
        "- Precision: 0.9392632432466408\n",
        "- Recall: 0.9802627961955028\n",
        "- F1Score: 0.9584079629199196\n",
        "- Acurácia: 0.98\n",
        "\n",
        "O f1 score foi maior com os dados de validação."
      ]
    },
    {
      "cell_type": "code",
      "execution_count": null,
      "metadata": {
        "colab": {
          "base_uri": "https://localhost:8080/"
        },
        "id": "knl3MS0ai-2p",
        "outputId": "050716bb-680a-4103-edc1-992cffa40a09"
      },
      "outputs": [
        {
          "data": {
            "text/plain": [
              "GridSearchCV(cv=10,\n",
              "             estimator=Pipeline(steps=[('logistic',\n",
              "                                        LogisticRegression(random_state=0))]),\n",
              "             param_grid={'logistic__C': [0.0001, 0.001, 0.01, 0.1, 1, 10, 100],\n",
              "                         'logistic__multi_class': ['ovr'],\n",
              "                         'logistic__penalty': ['l1', 'l2'],\n",
              "                         'logistic__random_state': [0],\n",
              "                         'logistic__solver': ['sag', 'saga', 'lbfgs']},\n",
              "             scoring='f1_macro')"
            ]
          },
          "execution_count": 588,
          "metadata": {},
          "output_type": "execute_result"
        }
      ],
      "source": [
        "pl_log_regression_tf_idf = Pipeline(steps=[('logistic', LogisticRegression(random_state=0))])\n",
        "model_params = {\n",
        "    'logistic__random_state': [0],\n",
        "    'logistic__C': [1e-4, 1e-3, 1e-2, 1e-1, 1, 10, 100],\n",
        "    'logistic__penalty': ['l1', 'l2'],\n",
        "    'logistic__multi_class': ['ovr'],\n",
        "    'logistic__solver': ['sag', 'saga', 'lbfgs']\n",
        "}\n",
        "grid = GridSearchCV(estimator=pl_log_regression_tf_idf, param_grid=model_params, scoring='f1_macro', cv=folds)\n",
        "grid.fit(X_res, y_res)"
      ]
    },
    {
      "cell_type": "code",
      "execution_count": null,
      "metadata": {
        "colab": {
          "base_uri": "https://localhost:8080/"
        },
        "id": "d-5Ys0zGm8d1",
        "outputId": "88a8047b-3d92-439c-fd7d-701759ce7225"
      },
      "outputs": [
        {
          "name": "stdout",
          "output_type": "stream",
          "text": [
            "Melhor C: 100. Melhor penalty: l2. Melhor solver: lbfgs\n",
            "Resultou no F1 0.9825426768296455 durante o 10-fold\n"
          ]
        }
      ],
      "source": [
        "print(f'Melhor C: {grid.best_params_[\"logistic__C\"]}. Melhor penalty: {grid.best_params_[\"logistic__penalty\"]}. Melhor solver: {grid.best_params_[\"logistic__solver\"]}')\n",
        "print(f'Resultou no F1 {grid.best_score_} durante o {folds}-fold')"
      ]
    },
    {
      "cell_type": "markdown",
      "metadata": {
        "id": "YHqwzTYNnXTl"
      },
      "source": [
        "#### Treinando o modelo LogisticRegression usando os melhores parametros"
      ]
    },
    {
      "cell_type": "code",
      "execution_count": null,
      "metadata": {
        "id": "cU7pyxFlFcpu"
      },
      "outputs": [],
      "source": [
        "best_params = grid.best_params_"
      ]
    },
    {
      "cell_type": "code",
      "execution_count": null,
      "metadata": {
        "colab": {
          "base_uri": "https://localhost:8080/"
        },
        "id": "YYuTtlbKncW_",
        "outputId": "6b82e15a-c517-496c-b8c5-db558f8aaa5d"
      },
      "outputs": [
        {
          "data": {
            "text/plain": [
              "Pipeline(steps=[('logistic',\n",
              "                 LogisticRegression(C=100, multi_class='ovr', random_state=0))])"
            ]
          },
          "execution_count": 593,
          "metadata": {},
          "output_type": "execute_result"
        }
      ],
      "source": [
        "pl_log_regression_tf_idf = Pipeline(steps=[('logistic', LogisticRegression(\n",
        "                             C=best_params[\"logistic__C\"],\n",
        "                             penalty=best_params[\"logistic__penalty\"],\n",
        "                             solver=best_params[\"logistic__solver\"],\n",
        "                             multi_class='ovr', random_state=0)\n",
        "                         )])\n",
        "pl_log_regression_tf_idf.fit(X_res, y_res)"
      ]
    },
    {
      "cell_type": "code",
      "execution_count": null,
      "metadata": {
        "colab": {
          "base_uri": "https://localhost:8080/"
        },
        "id": "fQwOnsrM3OUL",
        "outputId": "c5d68e56-6510-4611-851b-1f536cabfed0"
      },
      "outputs": [
        {
          "name": "stdout",
          "output_type": "stream",
          "text": [
            "- Precision: 0.9392632432466408\n",
            "- Recall: 0.9802627961955028\n",
            "- F1Score: 0.9584079629199196\n",
            "- Acurácia: 0.98\n"
          ]
        }
      ],
      "source": [
        "pred = pl_log_regression_tf_idf.predict(X_test)\n",
        "evaluate_model(pl_log_regression_tf_idf, pred, y_test)"
      ]
    },
    {
      "cell_type": "code",
      "execution_count": null,
      "metadata": {
        "colab": {
          "base_uri": "https://localhost:8080/",
          "height": 297
        },
        "id": "FZCmNTD3p1ZQ",
        "outputId": "630f22f5-f4c6-4736-8c2c-559c1f6cb74b"
      },
      "outputs": [
        {
          "data": {
            "image/png": "[encoded data removed]",
            "text/plain": [
              "<Figure size 432x288 with 2 Axes>"
            ]
          },
          "metadata": {},
          "output_type": "display_data"
        }
      ],
      "source": [
        "conf = confusion_matrix(y_test, pred)\n",
        "plot_confusion_matrix(conf, y.unique())"
      ]
    },
    {
      "cell_type": "markdown",
      "metadata": {
        "id": "grvCkiijr4AF"
      },
      "source": [
        "A matriz de confusão acima pode ser lida da seguinte forma:\n",
        "* Na diagonal principal, temos os acertos em cada classe;\n",
        "* Fora da diagonal, temos as previsões incorretas."
      ]
    },
    {
      "cell_type": "markdown",
      "metadata": {
        "id": "XPXmsIHdRZ1V"
      },
      "source": [
        "### Árvore de Decisão:\n",
        "\n",
        "Treinando o modelo de Árvore de Decisão usando o GridSearchCV com a validação cruzada e procurando os melhores hiper-parametros para nosso modelo.\n",
        "\n",
        "F1 Score no treino: 0.9850596153485279\n",
        "\n",
        "Na validação: \n",
        "- Precision: 0.9274879519658705\n",
        "- Recall: 0.9834171752157898\n",
        "- F1Score: 0.9528745453266318\n",
        "- Acurácia: 0.9769230769230769"
      ]
    },
    {
      "cell_type": "code",
      "execution_count": null,
      "metadata": {
        "colab": {
          "base_uri": "https://localhost:8080/"
        },
        "id": "rUmJeU_VRsz0",
        "outputId": "126d1c23-fc85-47bb-dc08-144f9d37f16c"
      },
      "outputs": [
        {
          "data": {
            "text/plain": [
              "GridSearchCV(cv=10,\n",
              "             estimator=Pipeline(steps=[('clf', DecisionTreeClassifier())]),\n",
              "             param_grid={'clf__criterion': ['gini', 'entropy'],\n",
              "                         'clf__max_depth': [4, 5, 6, 7, 8, 9, 10, 11, 12, 15,\n",
              "                                            20, 30, 40, 50, 70, 90, 120, 150]},\n",
              "             scoring='f1_macro')"
            ]
          },
          "execution_count": 596,
          "metadata": {},
          "output_type": "execute_result"
        }
      ],
      "source": [
        "pl_dec_tree_tf_idf = Pipeline(steps=[('clf', DecisionTreeClassifier())])\n",
        "params = {'clf__criterion':['gini','entropy'],'clf__max_depth':[4,5,6,7,8,9,10,11,12,15,20,30,40,50,70,90,120,150]}\n",
        "grid = GridSearchCV(estimator=pl_dec_tree_tf_idf, param_grid=params, scoring='f1_macro', cv=folds)\n",
        "grid.fit(X_res, y_res)"
      ]
    },
    {
      "cell_type": "code",
      "execution_count": null,
      "metadata": {
        "colab": {
          "base_uri": "https://localhost:8080/"
        },
        "id": "JHokk0N8Rsz0",
        "outputId": "ced02ecb-ecc6-491d-fb28-25510a4362ee"
      },
      "outputs": [
        {
          "name": "stdout",
          "output_type": "stream",
          "text": [
            "Melhor criterion: gini. Melhor max_depth: 5.\n",
            "Resultou no F1 0.9850596153485279 durante o 10-fold\n"
          ]
        }
      ],
      "source": [
        "print(f'Melhor criterion: {grid.best_params_[\"clf__criterion\"]}. Melhor max_depth: {grid.best_params_[\"clf__max_depth\"]}.')\n",
        "print(f'Resultou no F1 {grid.best_score_} durante o {folds}-fold')"
      ]
    },
    {
      "cell_type": "markdown",
      "metadata": {
        "id": "ynzizZ-RanDC"
      },
      "source": [
        "#### Treinando o modelo Árvore de Decisão usando os melhores parametros"
      ]
    },
    {
      "cell_type": "code",
      "execution_count": null,
      "metadata": {
        "id": "MMEhuFa6PSaN"
      },
      "outputs": [],
      "source": [
        "best_params = grid.best_params_"
      ]
    },
    {
      "cell_type": "code",
      "execution_count": null,
      "metadata": {
        "colab": {
          "base_uri": "https://localhost:8080/"
        },
        "id": "QcHRd4rDRsz0",
        "outputId": "e5d4ed95-0e37-41b4-fd3a-9997504b36c6"
      },
      "outputs": [
        {
          "data": {
            "text/plain": [
              "Pipeline(steps=[('clf', DecisionTreeClassifier(max_depth=5))])"
            ]
          },
          "execution_count": 603,
          "metadata": {},
          "output_type": "execute_result"
        }
      ],
      "source": [
        "pl_dec_tree_tf_idf = Pipeline(steps=[('clf', DecisionTreeClassifier(criterion=best_params['clf__criterion'], max_depth=best_params['clf__max_depth']))])\n",
        "pl_dec_tree_tf_idf.fit(X_res, y_res)"
      ]
    },
    {
      "cell_type": "code",
      "execution_count": null,
      "metadata": {
        "colab": {
          "base_uri": "https://localhost:8080/"
        },
        "id": "pbxjHGHXRsz1",
        "outputId": "9bf100ef-1303-4bb7-8ce1-dfcca18e41bb"
      },
      "outputs": [
        {
          "name": "stdout",
          "output_type": "stream",
          "text": [
            "- Precision: 0.9274879519658705\n",
            "- Recall: 0.9834171752157898\n",
            "- F1Score: 0.9528745453266318\n",
            "- Acurácia: 0.9769230769230769\n"
          ]
        }
      ],
      "source": [
        "pred = pl_dec_tree_tf_idf.predict(X_test)\n",
        "evaluate_model(pl_dec_tree_tf_idf, pred, y_test)"
      ]
    },
    {
      "cell_type": "code",
      "execution_count": null,
      "metadata": {
        "colab": {
          "base_uri": "https://localhost:8080/",
          "height": 297
        },
        "id": "LxAjwYaCRsz1",
        "outputId": "045875c6-23ff-4fe8-a5e1-58fd2c5670f2"
      },
      "outputs": [
        {
          "data": {
            "image/png": "[encoded data removed]",
            "text/plain": [
              "<Figure size 432x288 with 2 Axes>"
            ]
          },
          "metadata": {},
          "output_type": "display_data"
        }
      ],
      "source": [
        "conf = confusion_matrix(y_test, pred)\n",
        "plot_confusion_matrix(conf, y.unique())"
      ]
    },
    {
      "cell_type": "markdown",
      "metadata": {
        "id": "jEzl0R99U_RX"
      },
      "source": [
        "### Random Forest:\n",
        "\n",
        "Treinando o modelo de Random Forest usando o GridSearchCV com a validação cruzada e procurando os melhores hiper-parametros para nosso modelo.\n",
        "\n",
        "F1 Score no treino: 0.9775544039171477\n",
        "\n",
        "Na validação: \n",
        "- Precision: 0.8836139169472503\n",
        "- Recall: 0.9697894331738963\n",
        "- F1Score: 0.9198954944296559\n",
        "- Acurácia: 0.958974358974359\n",
        "\n",
        "\n"
      ]
    },
    {
      "cell_type": "code",
      "execution_count": null,
      "metadata": {
        "colab": {
          "base_uri": "https://localhost:8080/"
        },
        "id": "mjuWrm-EVEMv",
        "outputId": "5f13ebf0-5ab3-4112-936a-81cc400268b7"
      },
      "outputs": [
        {
          "data": {
            "text/plain": [
              "GridSearchCV(cv=10,\n",
              "             estimator=Pipeline(steps=[('clf',\n",
              "                                        RandomForestClassifier(random_state=42))]),\n",
              "             param_grid={'clf__criterion': ['gini', 'entropy'],\n",
              "                         'clf__max_depth': [4, 8],\n",
              "                         'clf__max_features': ['auto', 'log2'],\n",
              "                         'clf__n_estimators': [200, 500]},\n",
              "             scoring='f1_macro')"
            ]
          },
          "execution_count": 608,
          "metadata": {},
          "output_type": "execute_result"
        }
      ],
      "source": [
        "pl_random_forest_tf_idf = Pipeline(steps=[('clf', RandomForestClassifier(random_state=42))])\n",
        "params = { \n",
        "    'clf__n_estimators': [200, 500],\n",
        "    'clf__max_features': ['auto', 'log2'],\n",
        "    'clf__max_depth' : [4,8],\n",
        "    'clf__criterion' :['gini', 'entropy']\n",
        "}\n",
        "grid = GridSearchCV(estimator=pl_random_forest_tf_idf, param_grid=params, scoring='f1_macro', cv=folds) \n",
        "grid.fit(X_res, y_res)"
      ]
    },
    {
      "cell_type": "code",
      "execution_count": null,
      "metadata": {
        "colab": {
          "base_uri": "https://localhost:8080/"
        },
        "id": "_aukA3a7WzgB",
        "outputId": "0b899bfd-1fc4-48da-fd00-b85da53c77e0"
      },
      "outputs": [
        {
          "name": "stdout",
          "output_type": "stream",
          "text": [
            "Melhor n_estimators: 500. Melhor max_features: auto.\n",
            "Melhor max_depth: 4. Melhor criterion: gini.\n",
            "Resultou no F1 0.9775544039171477 durante o 10-fold\n"
          ]
        }
      ],
      "source": [
        "print(f'Melhor n_estimators: {grid.best_params_[\"clf__n_estimators\"]}. Melhor max_features: {grid.best_params_[\"clf__max_features\"]}.')\n",
        "print(f'Melhor max_depth: {grid.best_params_[\"clf__max_depth\"]}. Melhor criterion: {grid.best_params_[\"clf__criterion\"]}.')\n",
        "print(f'Resultou no F1 {grid.best_score_} durante o {folds}-fold')"
      ]
    },
    {
      "cell_type": "markdown",
      "metadata": {
        "id": "1s09VhJnaily"
      },
      "source": [
        "#### Treinando o modelo Random Forest usando os melhores parametros"
      ]
    },
    {
      "cell_type": "code",
      "execution_count": null,
      "metadata": {
        "id": "-Emll1hwafkf"
      },
      "outputs": [],
      "source": [
        "best_params = grid.best_params_"
      ]
    },
    {
      "cell_type": "code",
      "execution_count": null,
      "metadata": {
        "colab": {
          "base_uri": "https://localhost:8080/"
        },
        "id": "iwF8J-YmW7t4",
        "outputId": "d0646158-6ce6-40e7-fe18-1962f6f5f198"
      },
      "outputs": [
        {
          "data": {
            "text/plain": [
              "Pipeline(steps=[('clf',\n",
              "                 RandomForestClassifier(max_depth=4, n_estimators=500,\n",
              "                                        random_state=42))])"
            ]
          },
          "execution_count": 612,
          "metadata": {},
          "output_type": "execute_result"
        }
      ],
      "source": [
        "pl_random_forest_tf_idf = Pipeline(steps=[('clf', RandomForestClassifier(\n",
        "                             random_state=42,\n",
        "                             n_estimators=best_params['clf__n_estimators'],\n",
        "                             max_features=best_params['clf__max_features'],\n",
        "                             max_depth=best_params['clf__max_depth'],\n",
        "                             criterion=best_params['clf__criterion'])\n",
        "                         )])\n",
        "pl_random_forest_tf_idf.fit(X_res, y_res)"
      ]
    },
    {
      "cell_type": "code",
      "execution_count": null,
      "metadata": {
        "colab": {
          "base_uri": "https://localhost:8080/"
        },
        "id": "ZmMmRSMNW7t5",
        "outputId": "e594fda3-31ee-414a-f1ec-9b85e8a5131f"
      },
      "outputs": [
        {
          "name": "stdout",
          "output_type": "stream",
          "text": [
            "- Precision: 0.8836139169472503\n",
            "- Recall: 0.9697894331738963\n",
            "- F1Score: 0.9198954944296559\n",
            "- Acurácia: 0.958974358974359\n"
          ]
        }
      ],
      "source": [
        "pred = pl_random_forest_tf_idf.predict(X_test)\n",
        "evaluate_model(pl_random_forest_tf_idf, pred, y_test)"
      ]
    },
    {
      "cell_type": "code",
      "execution_count": null,
      "metadata": {
        "colab": {
          "base_uri": "https://localhost:8080/",
          "height": 297
        },
        "id": "rZUz5zz-W7t5",
        "outputId": "0680039d-3a28-4d00-b12c-b0e12f370733"
      },
      "outputs": [
        {
          "data": {
            "image/png": "[encoded data removed]",
            "text/plain": [
              "<Figure size 432x288 with 2 Axes>"
            ]
          },
          "metadata": {},
          "output_type": "display_data"
        }
      ],
      "source": [
        "conf = confusion_matrix(y_test, pred)\n",
        "plot_confusion_matrix(conf, y.unique())"
      ]
    },
    {
      "cell_type": "markdown",
      "metadata": {
        "id": "tUG9c3_AnwVy"
      },
      "source": [
        "### Bert\n",
        "\n",
        "Treinando o modelo de Bertimbau com a validação cruzada.\n",
        "\n",
        "F1 Score no treino: 0.9878530558192912\n",
        "\n",
        "Na validação: \n",
        "- Acurácia: 98.67%\n",
        "- Recall: 98.67%\n",
        "- F1-score: 98.67%\n",
        "- Precision: 98.69%"
      ]
    },
    {
      "cell_type": "markdown",
      "metadata": {
        "id": "VfHf8bx9WSCg"
      },
      "source": [
        "#### Imports"
      ]
    },
    {
      "cell_type": "code",
      "execution_count": 22,
      "metadata": {
        "colab": {
          "base_uri": "https://localhost:8080/"
        },
        "id": "uYRwepCuny-y",
        "outputId": "9e50e7d2-b9df-4499-acca-a236d8dfc0c7"
      },
      "outputs": [
        {
          "output_type": "stream",
          "name": "stdout",
          "text": [
            "Looking in indexes: https://pypi.org/simple, https://us-python.pkg.dev/colab-wheels/public/simple/\n",
            "Collecting transformers\n",
            "  Downloading transformers-4.20.1-py3-none-any.whl (4.4 MB)\n",
            "\u001b[K     |████████████████████████████████| 4.4 MB 36.6 MB/s \n",
            "\u001b[?25hCollecting pyyaml>=5.1\n",
            "  Downloading PyYAML-6.0-cp37-cp37m-manylinux_2_5_x86_64.manylinux1_x86_64.manylinux_2_12_x86_64.manylinux2010_x86_64.whl (596 kB)\n",
            "\u001b[K     |████████████████████████████████| 596 kB 63.5 MB/s \n",
            "\u001b[?25hCollecting huggingface-hub<1.0,>=0.1.0\n",
            "  Downloading huggingface_hub-0.8.1-py3-none-any.whl (101 kB)\n",
            "\u001b[K     |████████████████████████████████| 101 kB 13.1 MB/s \n",
            "\u001b[?25hRequirement already satisfied: requests in /usr/local/lib/python3.7/dist-packages (from transformers) (2.23.0)\n",
            "Requirement already satisfied: regex!=2019.12.17 in /usr/local/lib/python3.7/dist-packages (from transformers) (2022.6.2)\n",
            "Requirement already satisfied: packaging>=20.0 in /usr/local/lib/python3.7/dist-packages (from transformers) (21.3)\n",
            "Requirement already satisfied: tqdm>=4.27 in /usr/local/lib/python3.7/dist-packages (from transformers) (4.64.0)\n",
            "Requirement already satisfied: importlib-metadata in /usr/local/lib/python3.7/dist-packages (from transformers) (4.12.0)\n",
            "Collecting tokenizers!=0.11.3,<0.13,>=0.11.1\n",
            "  Downloading tokenizers-0.12.1-cp37-cp37m-manylinux_2_12_x86_64.manylinux2010_x86_64.whl (6.6 MB)\n",
            "\u001b[K     |████████████████████████████████| 6.6 MB 34.6 MB/s \n",
            "\u001b[?25hRequirement already satisfied: filelock in /usr/local/lib/python3.7/dist-packages (from transformers) (3.7.1)\n",
            "Requirement already satisfied: numpy>=1.17 in /usr/local/lib/python3.7/dist-packages (from transformers) (1.21.6)\n",
            "Requirement already satisfied: typing-extensions>=3.7.4.3 in /usr/local/lib/python3.7/dist-packages (from huggingface-hub<1.0,>=0.1.0->transformers) (4.1.1)\n",
            "Requirement already satisfied: pyparsing!=3.0.5,>=2.0.2 in /usr/local/lib/python3.7/dist-packages (from packaging>=20.0->transformers) (3.0.9)\n",
            "Requirement already satisfied: zipp>=0.5 in /usr/local/lib/python3.7/dist-packages (from importlib-metadata->transformers) (3.8.0)\n",
            "Requirement already satisfied: urllib3!=1.25.0,!=1.25.1,<1.26,>=1.21.1 in /usr/local/lib/python3.7/dist-packages (from requests->transformers) (1.24.3)\n",
            "Requirement already satisfied: idna<3,>=2.5 in /usr/local/lib/python3.7/dist-packages (from requests->transformers) (2.10)\n",
            "Requirement already satisfied: chardet<4,>=3.0.2 in /usr/local/lib/python3.7/dist-packages (from requests->transformers) (3.0.4)\n",
            "Requirement already satisfied: certifi>=2017.4.17 in /usr/local/lib/python3.7/dist-packages (from requests->transformers) (2022.6.15)\n",
            "Installing collected packages: pyyaml, tokenizers, huggingface-hub, transformers\n",
            "  Attempting uninstall: pyyaml\n",
            "    Found existing installation: PyYAML 3.13\n",
            "    Uninstalling PyYAML-3.13:\n",
            "      Successfully uninstalled PyYAML-3.13\n",
            "Successfully installed huggingface-hub-0.8.1 pyyaml-6.0 tokenizers-0.12.1 transformers-4.20.1\n"
          ]
        }
      ],
      "source": [
        "!pip3 install transformers"
      ]
    },
    {
      "cell_type": "code",
      "execution_count": 23,
      "metadata": {
        "colab": {
          "base_uri": "https://localhost:8080/"
        },
        "id": "icmAY32mn1SK",
        "outputId": "9fd4eae1-3b1b-4376-8cfe-113a5e7651aa"
      },
      "outputs": [
        {
          "output_type": "stream",
          "name": "stderr",
          "text": [
            "[nltk_data] Downloading package punkt to /root/nltk_data...\n",
            "[nltk_data]   Unzipping tokenizers/punkt.zip.\n"
          ]
        }
      ],
      "source": [
        "import csv\n",
        "import random\n",
        "import nltk\n",
        "nltk.download('punkt')\n",
        "\n",
        "import os\n",
        "import torch\n",
        "import torch.nn as nn\n",
        "from torch import optim\n",
        "from transformers import AutoTokenizer, AutoModelForSequenceClassification, BertTokenizer, BertForSequenceClassification\n",
        "from sklearn.metrics import accuracy_score, f1_score, recall_score, precision_score, confusion_matrix\n",
        "from torch.utils.data import DataLoader\n",
        "import seaborn as sns\n",
        "from matplotlib import pyplot as plt\n",
        "import pandas as pd\n",
        "import numpy as np\n",
        "% matplotlib inline"
      ]
    },
    {
      "cell_type": "markdown",
      "metadata": {
        "id": "DFugHK6Xn9iy"
      },
      "source": [
        "#### Preparando os dados:"
      ]
    },
    {
      "cell_type": "code",
      "source": [
        "seed_val = 42\n",
        "\n",
        "random.seed(seed_val)\n",
        "np.random.seed(seed_val)\n",
        "torch.manual_seed(seed_val)\n",
        "torch.cuda.manual_seed_all(seed_val)"
      ],
      "metadata": {
        "id": "KwEQsC3VikZ1"
      },
      "execution_count": 80,
      "outputs": []
    },
    {
      "cell_type": "code",
      "source": [
        "def convert_label(label):\n",
        "    if label[0] == 'no':\n",
        "        return 0\n",
        "    return 1"
      ],
      "metadata": {
        "id": "_KCWXs-AikZ1"
      },
      "execution_count": 81,
      "outputs": []
    },
    {
      "cell_type": "code",
      "source": [
        "# data = pd.read_json('output_classifier.json')\n",
        "import json\n",
        "\n",
        "with open('output_classifier_binary.json', 'r') as f:\n",
        "    data = json.load(f)"
      ],
      "metadata": {
        "id": "GKyK-068ikZ1"
      },
      "execution_count": 82,
      "outputs": []
    },
    {
      "cell_type": "code",
      "source": [
        "count = 900\n",
        "data_ = []\n",
        "for obj in data:\n",
        "    if obj['label'] == 0 and count > 0:\n",
        "        data_.append(obj)\n",
        "        count -= 1\n",
        "    elif obj['label'] == 1:\n",
        "        data_.append(obj)\n"
      ],
      "metadata": {
        "id": "jUpT8zxSdzCj"
      },
      "execution_count": 83,
      "outputs": []
    },
    {
      "cell_type": "code",
      "source": [
        "len(list(filter(lambda obj: obj['label'] == 0, data_)))"
      ],
      "metadata": {
        "colab": {
          "base_uri": "https://localhost:8080/"
        },
        "id": "L2Sgf4cneZWi",
        "outputId": "7e21e368-abb6-4a18-e075-38b680ccbb11"
      },
      "execution_count": 84,
      "outputs": [
        {
          "output_type": "execute_result",
          "data": {
            "text/plain": [
              "900"
            ]
          },
          "metadata": {},
          "execution_count": 84
        }
      ]
    },
    {
      "cell_type": "code",
      "source": [
        "len(list(filter(lambda obj: obj['label'] == 1, data_)))"
      ],
      "metadata": {
        "colab": {
          "base_uri": "https://localhost:8080/"
        },
        "id": "MfG2QMjEeu7L",
        "outputId": "46d6ed8e-cfa3-4b9a-ee62-eba3dcb0689f"
      },
      "execution_count": 85,
      "outputs": [
        {
          "output_type": "execute_result",
          "data": {
            "text/plain": [
              "860"
            ]
          },
          "metadata": {},
          "execution_count": 85
        }
      ]
    },
    {
      "cell_type": "code",
      "source": [
        "data = data_\n",
        "random.shuffle(data, lambda: 0.5)\n",
        "X = [obj['text'] for obj in data]\n",
        "y = [obj['label'] for obj in data]\n",
        "data = [{'X': act, 'y': class_} for (act, class_) in zip(X, y)]"
      ],
      "metadata": {
        "id": "ILzjuxc8ikZ2"
      },
      "execution_count": 86,
      "outputs": []
    },
    {
      "cell_type": "markdown",
      "source": [
        "#### Separar dados"
      ],
      "metadata": {
        "id": "h_bSLSGbf5Xf"
      }
    },
    {
      "cell_type": "code",
      "source": [
        "y = list(map(lambda obj: obj['y'] == 1, data))\n",
        "treino, teste = train_test_split(data, test_size=0.3, stratify=y, shuffle=True, random_state=17)"
      ],
      "metadata": {
        "id": "SEV6MPx-f7iz"
      },
      "execution_count": 87,
      "outputs": []
    },
    {
      "cell_type": "code",
      "source": [
        "y = list(map(lambda obj: obj['y'] == 1, treino))\n",
        "treino, validacao = train_test_split(treino, test_size=0.2, stratify=y, shuffle=True, random_state=17)"
      ],
      "metadata": {
        "id": "9V1eHr2of7iz"
      },
      "execution_count": 88,
      "outputs": []
    },
    {
      "cell_type": "code",
      "source": [
        "# class_min = list(filter(lambda obj: obj['y'] == 1, treino))\n",
        "# class_maj = list(filter(lambda obj: obj['y'] == 0, treino))\n",
        "# class_maj = class_maj[:len(class_min)]"
      ],
      "metadata": {
        "id": "zk6JynBQf7iz"
      },
      "execution_count": 44,
      "outputs": []
    },
    {
      "cell_type": "code",
      "source": [
        "# treino = class_min + class_maj\n",
        "# # random.shuffle(treino)"
      ],
      "metadata": {
        "id": "loQ95D04f7iz"
      },
      "execution_count": 45,
      "outputs": []
    },
    {
      "cell_type": "code",
      "source": [
        "# class_min = list(filter(lambda obj: obj['y'] == 1, validacao))\n",
        "# class_maj = list(filter(lambda obj: obj['y'] == 0, validacao))\n",
        "# class_maj = class_maj[:len(class_min)]"
      ],
      "metadata": {
        "id": "VXd5VfahLZGF"
      },
      "execution_count": 46,
      "outputs": []
    },
    {
      "cell_type": "code",
      "source": [
        "# validacao = class_min + class_maj\n",
        "# random.shuffle(treino)"
      ],
      "metadata": {
        "id": "BeZz8zMrLZGG"
      },
      "execution_count": 47,
      "outputs": []
    },
    {
      "cell_type": "code",
      "source": [
        "len(list(filter(lambda obj: obj['y'] == 0, treino)))"
      ],
      "metadata": {
        "colab": {
          "base_uri": "https://localhost:8080/"
        },
        "outputId": "b7789782-39a9-4e59-f2f8-4b7bcdd06425",
        "id": "VH9rVSD6f7i0"
      },
      "execution_count": 89,
      "outputs": [
        {
          "output_type": "execute_result",
          "data": {
            "text/plain": [
              "504"
            ]
          },
          "metadata": {},
          "execution_count": 89
        }
      ]
    },
    {
      "cell_type": "code",
      "source": [
        "len(list(filter(lambda obj: obj['y'] == 1, treino)))"
      ],
      "metadata": {
        "colab": {
          "base_uri": "https://localhost:8080/"
        },
        "outputId": "82acd9f1-a763-47b9-970f-4614fb5ef57b",
        "id": "ltatQng2f7i0"
      },
      "execution_count": 90,
      "outputs": [
        {
          "output_type": "execute_result",
          "data": {
            "text/plain": [
              "481"
            ]
          },
          "metadata": {},
          "execution_count": 90
        }
      ]
    },
    {
      "cell_type": "code",
      "source": [
        "len(list(filter(lambda obj: obj['y'] == 0, validacao)))"
      ],
      "metadata": {
        "colab": {
          "base_uri": "https://localhost:8080/"
        },
        "id": "WeFxg3PpLiqF",
        "outputId": "09ac46a2-2cda-45f3-8efc-ff32e3184d37"
      },
      "execution_count": 91,
      "outputs": [
        {
          "output_type": "execute_result",
          "data": {
            "text/plain": [
              "126"
            ]
          },
          "metadata": {},
          "execution_count": 91
        }
      ]
    },
    {
      "cell_type": "code",
      "source": [
        "len(list(filter(lambda obj: obj['y'] == 1, validacao)))"
      ],
      "metadata": {
        "colab": {
          "base_uri": "https://localhost:8080/"
        },
        "id": "r4baEq49Li3F",
        "outputId": "f5e99a79-7874-41a1-e231-98e82d51ed72"
      },
      "execution_count": 92,
      "outputs": [
        {
          "output_type": "execute_result",
          "data": {
            "text/plain": [
              "121"
            ]
          },
          "metadata": {},
          "execution_count": 92
        }
      ]
    },
    {
      "cell_type": "markdown",
      "metadata": {
        "id": "N8TexQ78oWdq"
      },
      "source": [
        "#### Instanciando parânetros da rede neural"
      ]
    },
    {
      "cell_type": "code",
      "execution_count": 93,
      "metadata": {
        "id": "gYsz7o_LoX-6"
      },
      "outputs": [],
      "source": [
        "device = torch.device('cuda' if torch.cuda.is_available() else 'cpu')\n",
        "nclasses = 2\n",
        "nepochs = 4\n",
        "batch_size = 8\n",
        "batch_status = 32\n",
        "learning_rate = 2e-5\n",
        "\n",
        "max_length = 128\n",
        "write_path = 'model'"
      ]
    },
    {
      "cell_type": "markdown",
      "metadata": {
        "id": "P-fAnBqN3rCv"
      },
      "source": [
        "#### Separando os dados em batches"
      ]
    },
    {
      "cell_type": "code",
      "execution_count": 94,
      "metadata": {
        "id": "d3P7XcEsLXji"
      },
      "outputs": [],
      "source": [
        "traindata = DataLoader(treino, batch_size=batch_size)\n",
        "testdata = DataLoader(teste, batch_size=batch_size)\n",
        "validationdata = DataLoader(validacao, batch_size=batch_size)"
      ]
    },
    {
      "cell_type": "markdown",
      "metadata": {
        "id": "k8Gl_q253uV9"
      },
      "source": [
        "#### Inicilizando tokenizador, modelo, função de erro e otimizador:"
      ]
    },
    {
      "cell_type": "code",
      "execution_count": 95,
      "metadata": {
        "colab": {
          "base_uri": "https://localhost:8080/"
        },
        "id": "7WeMpVR18aPq",
        "outputId": "d5d5a220-bb23-4748-9541-81b6b403bd6c"
      },
      "outputs": [
        {
          "output_type": "stream",
          "name": "stderr",
          "text": [
            "Some weights of the model checkpoint at neuralmind/bert-large-portuguese-cased were not used when initializing BertForSequenceClassification: ['cls.predictions.transform.dense.bias', 'cls.predictions.transform.LayerNorm.bias', 'cls.predictions.bias', 'cls.predictions.transform.dense.weight', 'cls.seq_relationship.bias', 'cls.predictions.transform.LayerNorm.weight', 'cls.seq_relationship.weight', 'cls.predictions.decoder.weight']\n",
            "- This IS expected if you are initializing BertForSequenceClassification from the checkpoint of a model trained on another task or with another architecture (e.g. initializing a BertForSequenceClassification model from a BertForPreTraining model).\n",
            "- This IS NOT expected if you are initializing BertForSequenceClassification from the checkpoint of a model that you expect to be exactly identical (initializing a BertForSequenceClassification model from a BertForSequenceClassification model).\n",
            "Some weights of BertForSequenceClassification were not initialized from the model checkpoint at neuralmind/bert-large-portuguese-cased and are newly initialized: ['classifier.bias', 'classifier.weight']\n",
            "You should probably TRAIN this model on a down-stream task to be able to use it for predictions and inference.\n"
          ]
        }
      ],
      "source": [
        "tokenizer = BertTokenizer.from_pretrained('neuralmind/bert-large-portuguese-cased', do_lower_case=False)\n",
        "model = BertForSequenceClassification.from_pretrained('neuralmind/bert-large-portuguese-cased',\n",
        "                                                      num_labels=nclasses,\n",
        "                                                      output_attentions = False,\n",
        "                                                      output_hidden_states = False).to(device)\n",
        "model.cuda()\n",
        "\n",
        "optimizer = optim.AdamW(model.parameters(), lr=learning_rate)"
      ]
    },
    {
      "cell_type": "markdown",
      "metadata": {
        "id": "-4XlMiF43y56"
      },
      "source": [
        "#### Definindo método de avaliação"
      ]
    },
    {
      "cell_type": "code",
      "execution_count": 96,
      "metadata": {
        "id": "JZpZ_hH_zWQ2"
      },
      "outputs": [],
      "source": [
        "def classification_report(y, predicoes):\n",
        "  acc = accuracy_score(y, predicoes) * 100\n",
        "  recall = recall_score(y, predicoes, average='weighted') * 100\n",
        "  f1 = f1_score(y, predicoes, average='weighted') * 100\n",
        "  precision = precision_score(y, predicoes, average='weighted') * 100\n",
        "  return \"Acurácia: %.2f%%\\nRecall: %.2f%%\\nF1-score: %.2f%%\\nPrecision: %.2f%%\" % (acc, recall, f1, precision)\n"
      ]
    },
    {
      "cell_type": "code",
      "execution_count": 97,
      "metadata": {
        "id": "0s8XdFhYSeRR"
      },
      "outputs": [],
      "source": [
        "def predict(model, texts):\n",
        "  inputs = tokenizer(texts, return_tensors='pt', padding=True, truncation=True, max_length=max_length).to(device)\n",
        "  output = model(**inputs)\n",
        "  return torch.argmax(output.logits, 1)"
      ]
    },
    {
      "cell_type": "code",
      "execution_count": 98,
      "metadata": {
        "id": "AbiO9x2E81CS"
      },
      "outputs": [],
      "source": [
        "def evaluate(model, testdata):\n",
        "  model.eval()\n",
        "  y_real, y_pred = [], []\n",
        "  for batch_idx, inp in enumerate(testdata):\n",
        "    texts, labels = inp['X'], inp['y']\n",
        "                  \n",
        "    pred_labels = predict(model, texts)\n",
        "    \n",
        "    y_real.extend(labels.tolist())\n",
        "    y_pred.extend(pred_labels.tolist())\n",
        "    \n",
        "    if (batch_idx+1) % batch_status == 0:\n",
        "      print('Progress:', round(batch_idx / len(testdata), 2), batch_idx)\n",
        "  \n",
        "  print(classification_report(y_real, y_pred))\n",
        "  f1 = f1_score(y_real, y_pred, average='weighted')\n",
        "  acc = accuracy_score(y_real, y_pred)\n",
        "  return f1, acc"
      ]
    },
    {
      "cell_type": "markdown",
      "metadata": {
        "id": "BfoYwmza39MJ"
      },
      "source": [
        "#### Treinamento"
      ]
    },
    {
      "cell_type": "code",
      "execution_count": 99,
      "metadata": {
        "colab": {
          "base_uri": "https://localhost:8080/"
        },
        "id": "rRiZCQnO9hE1",
        "outputId": "161e6f05-e2dc-4d19-e61c-b69309d391e1"
      },
      "outputs": [
        {
          "output_type": "stream",
          "name": "stdout",
          "text": [
            "Train Epoch: 0 [32/124 (25%)]\tLoss: 0.262009\tTotal Loss: 0.397150\n",
            "Train Epoch: 0 [64/124 (51%)]\tLoss: 0.691527\tTotal Loss: 0.290940\n",
            "Train Epoch: 0 [96/124 (77%)]\tLoss: 0.045770\tTotal Loss: 0.256140\n",
            "Acurácia: 97.57%\n",
            "Recall: 97.57%\n",
            "F1-score: 97.57%\n",
            "Precision: 97.62%\n",
            "F1:  0.975710094700529 Accuracy:  0.9757085020242915\n",
            "Saving best model...\n",
            "Train Epoch: 1 [32/124 (25%)]\tLoss: 0.005200\tTotal Loss: 0.012970\n",
            "Train Epoch: 1 [64/124 (51%)]\tLoss: 1.002151\tTotal Loss: 0.034670\n",
            "Train Epoch: 1 [96/124 (77%)]\tLoss: 0.110956\tTotal Loss: 0.080790\n",
            "Acurácia: 97.57%\n",
            "Recall: 97.57%\n",
            "F1-score: 97.57%\n",
            "Precision: 97.58%\n",
            "F1:  0.9757108913519612 Accuracy:  0.9757085020242915\n",
            "Saving best model...\n",
            "Train Epoch: 2 [32/124 (25%)]\tLoss: 0.002507\tTotal Loss: 0.008800\n",
            "Train Epoch: 2 [64/124 (51%)]\tLoss: 1.278276\tTotal Loss: 0.033320\n",
            "Train Epoch: 2 [96/124 (77%)]\tLoss: 0.030214\tTotal Loss: 0.058510\n",
            "Acurácia: 98.79%\n",
            "Recall: 98.79%\n",
            "F1-score: 98.79%\n",
            "Precision: 98.79%\n",
            "F1:  0.9878530558192912 Accuracy:  0.9878542510121457\n",
            "Saving best model...\n",
            "Train Epoch: 3 [32/124 (25%)]\tLoss: 0.002871\tTotal Loss: 0.001940\n",
            "Train Epoch: 3 [64/124 (51%)]\tLoss: 0.779418\tTotal Loss: 0.014080\n",
            "Train Epoch: 3 [96/124 (77%)]\tLoss: 0.010218\tTotal Loss: 0.031890\n",
            "Acurácia: 98.79%\n",
            "Recall: 98.79%\n",
            "F1-score: 98.79%\n",
            "Precision: 98.79%\n",
            "F1:  0.9878530558192912 Accuracy:  0.9878542510121457\n"
          ]
        }
      ],
      "source": [
        "max_f1, repeat = 0, 0\n",
        "status = []\n",
        "for epoch in range(nepochs):\n",
        "  model.train()\n",
        "  losses = []\n",
        "  train_loss = 0\n",
        "\n",
        "  for batch_idx, inp in enumerate(traindata):\n",
        "    texts, labels = inp['X'], inp['y']\n",
        "\n",
        "    # treino\n",
        "    inputs = tokenizer(texts, return_tensors='pt', padding=True, truncation=True, max_length=max_length).to(device)\n",
        "    output = model(**inputs, labels=labels.to(device))\n",
        "\n",
        "    # Calculate loss\n",
        "    loss = output.loss\n",
        "    losses.append(float(loss))\n",
        "\n",
        "    train_loss += loss.item()\n",
        "\n",
        "    # Backpropagation\n",
        "    loss.backward()\n",
        "    optimizer.step()\n",
        "    optimizer.zero_grad()\n",
        "\n",
        "    # Display\n",
        "    if (batch_idx+1) % batch_status == 0:\n",
        "      print('Train Epoch: {} [{}/{} ({:.0f}%)]\\tLoss: {:.6f}\\tTotal Loss: {:.6f}'.format(epoch, \\\n",
        "        batch_idx+1, len(traindata), 100. * batch_idx / len(traindata), \n",
        "        float(loss), round(sum(losses) / len(losses), 5)))\n",
        "  \n",
        "  avg_train_loss = train_loss / len(traindata)  \n",
        "  \n",
        "  val_loss = 0\n",
        "  model.eval()\n",
        "  for batch_idx, inp in enumerate(validationdata):\n",
        "    texts, labels = inp['X'], inp['y']\n",
        "\n",
        "    with torch.no_grad():  \n",
        "      # validação\n",
        "      inputs = tokenizer(texts, return_tensors='pt', padding=True, truncation=True, max_length=max_length).to(device)\n",
        "      output = model(**inputs, labels=labels.to(device))\n",
        "\n",
        "      loss = output.loss\n",
        "      val_loss += loss.item()\n",
        "\n",
        "  avg_val_loss = val_loss / len(validationdata)\n",
        "\n",
        "  status.append(\n",
        "        {\n",
        "            'epoch': epoch + 1,\n",
        "            'training': round(avg_train_loss, 3),\n",
        "            'validation': round(avg_val_loss,3)\n",
        "        }\n",
        "    )\n",
        "\n",
        "  f1, acc = evaluate(model, validationdata)\n",
        "  print('F1: ', f1, 'Accuracy: ', acc)\n",
        "  if f1 > max_f1:\n",
        "    model.save_pretrained(\"model\")\n",
        "    max_f1 = f1\n",
        "    repeat = 0\n",
        "    print('Saving best model...')"
      ]
    },
    {
      "cell_type": "code",
      "execution_count": 100,
      "metadata": {
        "id": "j3CmjqKWk4F8",
        "colab": {
          "base_uri": "https://localhost:8080/",
          "height": 206
        },
        "outputId": "7c57c653-50be-4627-ecfe-d4cff2e3fa0e"
      },
      "outputs": [
        {
          "output_type": "execute_result",
          "data": {
            "text/plain": [
              "       training  validation\n",
              "epoch                      \n",
              "1         0.209       0.101\n",
              "2         0.067       0.095\n",
              "3         0.051       0.073\n",
              "4         0.027       0.066"
            ],
            "text/html": [
              "\n",
              "  <div id=\"df-e7acf430-be03-4724-a1a2-06175209fc35\">\n",
              "    <div class=\"colab-df-container\">\n",
              "      <div>\n",
              "<style scoped>\n",
              "    .dataframe tbody tr th:only-of-type {\n",
              "        vertical-align: middle;\n",
              "    }\n",
              "\n",
              "    .dataframe tbody tr th {\n",
              "        vertical-align: top;\n",
              "    }\n",
              "\n",
              "    .dataframe thead th {\n",
              "        text-align: right;\n",
              "    }\n",
              "</style>\n",
              "<table border=\"1\" class=\"dataframe\">\n",
              "  <thead>\n",
              "    <tr style=\"text-align: right;\">\n",
              "      <th></th>\n",
              "      <th>training</th>\n",
              "      <th>validation</th>\n",
              "    </tr>\n",
              "    <tr>\n",
              "      <th>epoch</th>\n",
              "      <th></th>\n",
              "      <th></th>\n",
              "    </tr>\n",
              "  </thead>\n",
              "  <tbody>\n",
              "    <tr>\n",
              "      <th>1</th>\n",
              "      <td>0.209</td>\n",
              "      <td>0.101</td>\n",
              "    </tr>\n",
              "    <tr>\n",
              "      <th>2</th>\n",
              "      <td>0.067</td>\n",
              "      <td>0.095</td>\n",
              "    </tr>\n",
              "    <tr>\n",
              "      <th>3</th>\n",
              "      <td>0.051</td>\n",
              "      <td>0.073</td>\n",
              "    </tr>\n",
              "    <tr>\n",
              "      <th>4</th>\n",
              "      <td>0.027</td>\n",
              "      <td>0.066</td>\n",
              "    </tr>\n",
              "  </tbody>\n",
              "</table>\n",
              "</div>\n",
              "      <button class=\"colab-df-convert\" onclick=\"convertToInteractive('df-e7acf430-be03-4724-a1a2-06175209fc35')\"\n",
              "              title=\"Convert this dataframe to an interactive table.\"\n",
              "              style=\"display:none;\">\n",
              "        \n",
              "  <svg xmlns=\"http://www.w3.org/2000/svg\" height=\"24px\"viewBox=\"0 0 24 24\"\n",
              "       width=\"24px\">\n",
              "    <path d=\"M0 0h24v24H0V0z\" fill=\"none\"/>\n",
              "    <path d=\"M18.56 5.44l.94 2.06.94-2.06 2.06-.94-2.06-.94-.94-2.06-.94 2.06-2.06.94zm-11 1L8.5 8.5l.94-2.06 2.06-.94-2.06-.94L8.5 2.5l-.94 2.06-2.06.94zm10 10l.94 2.06.94-2.06 2.06-.94-2.06-.94-.94-2.06-.94 2.06-2.06.94z\"/><path d=\"M17.41 7.96l-1.37-1.37c-.4-.4-.92-.59-1.43-.59-.52 0-1.04.2-1.43.59L10.3 9.45l-7.72 7.72c-.78.78-.78 2.05 0 2.83L4 21.41c.39.39.9.59 1.41.59.51 0 1.02-.2 1.41-.59l7.78-7.78 2.81-2.81c.8-.78.8-2.07 0-2.86zM5.41 20L4 18.59l7.72-7.72 1.47 1.35L5.41 20z\"/>\n",
              "  </svg>\n",
              "      </button>\n",
              "      \n",
              "  <style>\n",
              "    .colab-df-container {\n",
              "      display:flex;\n",
              "      flex-wrap:wrap;\n",
              "      gap: 12px;\n",
              "    }\n",
              "\n",
              "    .colab-df-convert {\n",
              "      background-color: #E8F0FE;\n",
              "      border: none;\n",
              "      border-radius: 50%;\n",
              "      cursor: pointer;\n",
              "      display: none;\n",
              "      fill: #1967D2;\n",
              "      height: 32px;\n",
              "      padding: 0 0 0 0;\n",
              "      width: 32px;\n",
              "    }\n",
              "\n",
              "    .colab-df-convert:hover {\n",
              "      background-color: #E2EBFA;\n",
              "      box-shadow: 0px 1px 2px rgba(60, 64, 67, 0.3), 0px 1px 3px 1px rgba(60, 64, 67, 0.15);\n",
              "      fill: #174EA6;\n",
              "    }\n",
              "\n",
              "    [theme=dark] .colab-df-convert {\n",
              "      background-color: #3B4455;\n",
              "      fill: #D2E3FC;\n",
              "    }\n",
              "\n",
              "    [theme=dark] .colab-df-convert:hover {\n",
              "      background-color: #434B5C;\n",
              "      box-shadow: 0px 1px 3px 1px rgba(0, 0, 0, 0.15);\n",
              "      filter: drop-shadow(0px 1px 2px rgba(0, 0, 0, 0.3));\n",
              "      fill: #FFFFFF;\n",
              "    }\n",
              "  </style>\n",
              "\n",
              "      <script>\n",
              "        const buttonEl =\n",
              "          document.querySelector('#df-e7acf430-be03-4724-a1a2-06175209fc35 button.colab-df-convert');\n",
              "        buttonEl.style.display =\n",
              "          google.colab.kernel.accessAllowed ? 'block' : 'none';\n",
              "\n",
              "        async function convertToInteractive(key) {\n",
              "          const element = document.querySelector('#df-e7acf430-be03-4724-a1a2-06175209fc35');\n",
              "          const dataTable =\n",
              "            await google.colab.kernel.invokeFunction('convertToInteractive',\n",
              "                                                     [key], {});\n",
              "          if (!dataTable) return;\n",
              "\n",
              "          const docLinkHtml = 'Like what you see? Visit the ' +\n",
              "            '<a target=\"_blank\" href=https://colab.research.google.com/notebooks/data_table.ipynb>data table notebook</a>'\n",
              "            + ' to learn more about interactive tables.';\n",
              "          element.innerHTML = '';\n",
              "          dataTable['output_type'] = 'display_data';\n",
              "          await google.colab.output.renderOutput(dataTable, element);\n",
              "          const docLink = document.createElement('div');\n",
              "          docLink.innerHTML = docLinkHtml;\n",
              "          element.appendChild(docLink);\n",
              "        }\n",
              "      </script>\n",
              "    </div>\n",
              "  </div>\n",
              "  "
            ]
          },
          "metadata": {},
          "execution_count": 100
        }
      ],
      "source": [
        "df_stats = pd.DataFrame(data=status)\n",
        "df_status = df_stats.set_index('epoch')\n",
        "df_status.head()"
      ]
    },
    {
      "cell_type": "code",
      "execution_count": 101,
      "metadata": {
        "id": "CpGmw5QHzlD8"
      },
      "outputs": [],
      "source": [
        "import json\n",
        "\n",
        "with open('./status.json', 'w') as outfile:\n",
        "    json.dump(status, outfile)"
      ]
    },
    {
      "cell_type": "code",
      "execution_count": 102,
      "metadata": {
        "colab": {
          "base_uri": "https://localhost:8080/",
          "height": 427
        },
        "id": "sfrtjsg9j5aw",
        "outputId": "9c14171e-6790-4cd7-8c15-1841e7401dcd"
      },
      "outputs": [
        {
          "output_type": "display_data",
          "data": {
            "text/plain": [
              "<Figure size 864x432 with 1 Axes>"
            ],
            "image/png": "[encoded data removed]"
          },
          "metadata": {}
        }
      ],
      "source": [
        "# Use plot styling from seaborn.\n",
        "sns.set(style='darkgrid')\n",
        "\n",
        "# Increase the plot size and font size.\n",
        "sns.set(font_scale=1.5)\n",
        "plt.rcParams[\"figure.figsize\"] = (12,6)\n",
        "\n",
        "# Plot the learning curve.\n",
        "plt.plot(df_status['training'], 'b-o', label=\"Training\")\n",
        "plt.plot(df_status['validation'], 'g-o', label=\"Validation\")\n",
        "\n",
        "# Label the plot.\n",
        "plt.title(\"Training and Validation Loss\")\n",
        "plt.xlabel(\"Epoch\")\n",
        "plt.ylabel(\"Loss\")\n",
        "plt.legend()\n",
        "plt.xticks(list(range(1, nepochs + 1)))\n",
        "\n",
        "plt.show()"
      ]
    },
    {
      "cell_type": "code",
      "execution_count": 103,
      "metadata": {
        "colab": {
          "base_uri": "https://localhost:8080/"
        },
        "id": "yf2qC6PIVRS3",
        "outputId": "3a5ede67-4dc6-4eb1-f4b7-f0a737e5ebd8"
      },
      "outputs": [
        {
          "output_type": "stream",
          "name": "stdout",
          "text": [
            "Progress: 0.47 31\n",
            "Progress: 0.95 63\n",
            "Acurácia: 98.67%\n",
            "Recall: 98.67%\n",
            "F1-score: 98.67%\n",
            "Precision: 98.69%\n"
          ]
        },
        {
          "output_type": "execute_result",
          "data": {
            "text/plain": [
              "(0.9867440889603518, 0.9867424242424242)"
            ]
          },
          "metadata": {},
          "execution_count": 103
        }
      ],
      "source": [
        "evaluate(model, testdata)\n"
      ]
    },
    {
      "cell_type": "code",
      "execution_count": 104,
      "metadata": {
        "colab": {
          "base_uri": "https://localhost:8080/"
        },
        "id": "KMvvAwNVBcvA",
        "outputId": "2a49a040-72a4-43cf-cf58-f9bbac36205b"
      },
      "outputs": [
        {
          "output_type": "stream",
          "name": "stdout",
          "text": [
            "Acurácia: 98.67%\n",
            "Recall: 98.67%\n",
            "F1-score: 98.67%\n",
            "Precision: 98.69%\n"
          ]
        }
      ],
      "source": [
        "predicoes = []\n",
        "Y = []\n",
        "for i in teste:\n",
        "  predicoes.append(predict(model, i['X']).tolist()[0])\n",
        "  Y.append(i['y'])\n",
        "print(classification_report(Y, predicoes))"
      ]
    },
    {
      "cell_type": "code",
      "execution_count": 105,
      "metadata": {
        "colab": {
          "base_uri": "https://localhost:8080/",
          "height": 427
        },
        "id": "vSex1rFMXyjj",
        "outputId": "2d2c827f-65b6-498a-f492-c4931ccc6cd5"
      },
      "outputs": [
        {
          "output_type": "display_data",
          "data": {
            "text/plain": [
              "<Figure size 864x432 with 2 Axes>"
            ],
            "image/png": "[encoded data removed]"
          },
          "metadata": {}
        }
      ],
      "source": [
        "cm = confusion_matrix(Y, predicoes)\n",
        "\n",
        "ax = sns.heatmap(cm, annot=True, fmt='g');\n",
        "\n",
        "ax.set_title('Matriz de Confusão');\n",
        "ax.set_xlabel('Classificações Corretas')\n",
        "ax.set_ylabel('Classificações Obtidas');\n",
        "plt.show()"
      ]
    },
    {
      "cell_type": "markdown",
      "metadata": {
        "id": "QZ-sOuYGJULS"
      },
      "source": [
        "#### Salvando o melhor modelo"
      ]
    },
    {
      "cell_type": "code",
      "execution_count": 106,
      "metadata": {
        "colab": {
          "base_uri": "https://localhost:8080/"
        },
        "id": "iIVU9Jsw-1s6",
        "outputId": "654f588c-02ac-4a51-d51b-433ab3abdc24"
      },
      "outputs": [
        {
          "output_type": "stream",
          "name": "stdout",
          "text": [
            "  adding: model/ (stored 0%)\n",
            "  adding: model/config.json (deflated 53%)\n",
            "  adding: model/pytorch_model.bin (deflated 7%)\n"
          ]
        }
      ],
      "source": [
        "!zip -r ./model_bertimbau_best.zip ./model"
      ]
    },
    {
      "cell_type": "code",
      "execution_count": null,
      "metadata": {
        "id": "GGiMUD6cGnJH"
      },
      "outputs": [],
      "source": [
        "from google.colab import files\n",
        "files.download('model_bertimbau.zip') "
      ]
    },
    {
      "cell_type": "code",
      "execution_count": 107,
      "metadata": {
        "colab": {
          "base_uri": "https://localhost:8080/"
        },
        "id": "g4G9YFhBHozB",
        "outputId": "10ca74a8-c901-4df7-ab54-c343df197d20"
      },
      "outputs": [
        {
          "output_type": "stream",
          "name": "stdout",
          "text": [
            "Drive already mounted at /content/drive; to attempt to forcibly remount, call drive.mount(\"/content/drive\", force_remount=True).\n"
          ]
        }
      ],
      "source": [
        "from google.colab import drive\n",
        "drive.mount('/content/drive')"
      ]
    },
    {
      "cell_type": "code",
      "execution_count": 108,
      "metadata": {
        "id": "Wazym9dyHqK4"
      },
      "outputs": [],
      "source": [
        "!cp -r \"./model_bertimbau_best.zip\" \"/content/drive/MyDrive/my_tcc/model_bertimbau_best.zip\""
      ]
    },
    {
      "cell_type": "code",
      "source": [
        "!cp -r \"./status.json\" \"/content/drive/MyDrive/my_tcc/status.json\""
      ],
      "metadata": {
        "id": "TdZeMfhjpwqi"
      },
      "execution_count": 109,
      "outputs": []
    },
    {
      "cell_type": "markdown",
      "metadata": {
        "id": "6SIKg-YxTJrI"
      },
      "source": [
        "#### Carregando modelo:"
      ]
    },
    {
      "cell_type": "code",
      "execution_count": null,
      "metadata": {
        "colab": {
          "base_uri": "https://localhost:8080/"
        },
        "id": "6kx5hYd0Yh6b",
        "outputId": "5dc09b61-0a9b-4e02-e211-0ecccd243b68"
      },
      "outputs": [
        {
          "name": "stdout",
          "output_type": "stream",
          "text": [
            "Archive:  ./model_bertimbau_best.zip\n",
            "   creating: ./model/model/\n",
            "  inflating: ./model/model/config.json  \n",
            "  inflating: ./model/model/pytorch_model.bin  \n"
          ]
        }
      ],
      "source": [
        "!unzip \"./model_bertimbau_best.zip\" -d \"./\""
      ]
    },
    {
      "cell_type": "code",
      "execution_count": null,
      "metadata": {
        "id": "jyt8SH4hZrH7"
      },
      "outputs": [],
      "source": [
        "device = torch.device('cuda' if torch.cuda.is_available() else 'cpu')\n",
        "nclasses = 2\n",
        "learning_rate = 2e-5\n",
        "write_path = 'model'"
      ]
    },
    {
      "cell_type": "code",
      "execution_count": null,
      "metadata": {
        "id": "jAKpJHfQSz0A"
      },
      "outputs": [],
      "source": [
        "tokenizer = BertTokenizer.from_pretrained('neuralmind/bert-large-portuguese-cased', do_lower_case=False)\n",
        "model1 = BertForSequenceClassification.from_pretrained(\"./model/model\",\n",
        "                                                       num_labels=nclasses,\n",
        "                                                      output_attentions = False,\n",
        "                                                      output_hidden_states = False).to(device)\n",
        "# model1.cuda()\n",
        "\n",
        "optimizer = optim.AdamW(model1.parameters(), lr=learning_rate)"
      ]
    },
    {
      "cell_type": "code",
      "execution_count": null,
      "metadata": {
        "id": "CSqsqrbhZ5-r"
      },
      "outputs": [],
      "source": [
        "model1.eval()"
      ]
    },
    {
      "cell_type": "code",
      "execution_count": null,
      "metadata": {
        "colab": {
          "base_uri": "https://localhost:8080/",
          "height": 171
        },
        "id": "197RVs-wTSG5",
        "outputId": "2b341c4f-d472-4e5b-da17-307afe11ac3a"
      },
      "outputs": [
        {
          "ename": "NameError",
          "evalue": "ignored",
          "output_type": "error",
          "traceback": [
            "\u001b[0;31m---------------------------------------------------------------------------\u001b[0m",
            "\u001b[0;31mNameError\u001b[0m                                 Traceback (most recent call last)",
            "\u001b[0;32m<ipython-input-27-f27dbe2089b9>\u001b[0m in \u001b[0;36m<module>\u001b[0;34m()\u001b[0m\n\u001b[0;32m----> 1\u001b[0;31m \u001b[0mevaluate\u001b[0m\u001b[0;34m(\u001b[0m\u001b[0mmodel1\u001b[0m\u001b[0;34m,\u001b[0m \u001b[0mtestdata\u001b[0m\u001b[0;34m)\u001b[0m\u001b[0;34m\u001b[0m\u001b[0;34m\u001b[0m\u001b[0m\n\u001b[0m",
            "\u001b[0;31mNameError\u001b[0m: name 'testdata' is not defined"
          ]
        }
      ],
      "source": [
        "evaluate(model1, testdata)"
      ]
    },
    {
      "cell_type": "code",
      "execution_count": null,
      "metadata": {
        "colab": {
          "base_uri": "https://localhost:8080/"
        },
        "id": "MprNIaMETSG6",
        "outputId": "049c1fce-7391-4e98-be62-07d8e90ae754"
      },
      "outputs": [
        {
          "name": "stdout",
          "output_type": "stream",
          "text": [
            "Acurácia: 99.33%\n",
            "Recall: 99.22%\n",
            "F1-score: 97.52%\n",
            "Precision: 95.88%\n"
          ]
        }
      ],
      "source": [
        "predicoes = []\n",
        "Y = []\n",
        "for i in teste:\n",
        "  predicoes.append(predict(model1, i['X']).tolist()[0])\n",
        "  Y.append(i['y'])\n",
        "print(classification_report(Y, predicoes))"
      ]
    },
    {
      "cell_type": "code",
      "execution_count": null,
      "metadata": {
        "colab": {
          "base_uri": "https://localhost:8080/",
          "height": 427
        },
        "id": "x7JXkdprTSG6",
        "outputId": "ed6424dc-89d6-46a2-afda-4fa1e2f9b148"
      },
      "outputs": [
        {
          "data": {
            "image/png": "[encoded data removed]",
            "text/plain": [
              "<Figure size 864x432 with 2 Axes>"
            ]
          },
          "metadata": {},
          "output_type": "display_data"
        }
      ],
      "source": [
        "cm = confusion_matrix(Y, predicoes)\n",
        "\n",
        "ax = sns.heatmap(cm, annot=True, fmt='g');\n",
        "\n",
        "ax.set_title('Matriz de Confusão');\n",
        "ax.set_xlabel('Classificações Corretas')\n",
        "ax.set_ylabel('Classificações Obtidas');\n",
        "plt.show()"
      ]
    }
  ],
  "metadata": {
    "colab": {
      "collapsed_sections": [
        "I-_1HB4ZsxAV",
        "HNJeCvsismHt",
        "PVZ1_WTaTmHH",
        "PXNWPVfUFT3q",
        "EU2IXiLMPXQk",
        "_1ybOsZj26vG",
        "YHqwzTYNnXTl",
        "XPXmsIHdRZ1V",
        "jEzl0R99U_RX",
        "-4XlMiF43y56",
        "6SIKg-YxTJrI"
      ],
      "name": "TCC.ipynb",
      "provenance": []
    },
    "gpuClass": "standard",
    "kernelspec": {
      "display_name": "Python 3",
      "name": "python3"
    },
    "language_info": {
      "name": "python"
    },
    "accelerator": "GPU"
  },
  "nbformat": 4,
  "nbformat_minor": 0
}